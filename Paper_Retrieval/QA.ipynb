{
 "cells": [
  {
   "cell_type": "code",
   "execution_count": null,
   "id": "1f414496-9550-494b-9938-0add9cdedbb1",
   "metadata": {
    "execution": {
     "iopub.execute_input": "2024-08-12T03:07:44.854715Z",
     "iopub.status.busy": "2024-08-12T03:07:44.854009Z",
     "iopub.status.idle": "2024-08-12T03:07:44.868995Z",
     "shell.execute_reply": "2024-08-12T03:07:44.866743Z",
     "shell.execute_reply.started": "2024-08-12T03:07:44.854644Z"
    },
    "scrolled": true
   },
   "outputs": [],
   "source": [
    "%pip install langchain langchain_community pypdf openai==0.28.0"
   ]
  },
  {
   "cell_type": "code",
   "execution_count": null,
   "id": "6ae2490e-a1e9-443b-9554-e7be49c61011",
   "metadata": {},
   "outputs": [],
   "source": [
    "# %env API_KEY='  '\n",
    "# 用您的 API Key 代替 YOUR_DASHSCOPE_API_KEY\n",
    "%env DASHSCOPE_API_KEY=\" \"\n",
    "# %env BASE_URL='https://dashscope.aliyuncs.com/compatible-mode/v1'\n",
    "\n",
    "# import os\n",
    "\n",
    "# os.environ[\"http_proxy\"] = \"http://localhost:7890\"\n",
    "# os.environ[\"https_proxy\"] = \"http://localhost:7890\""
   ]
  },
  {
   "cell_type": "code",
   "execution_count": 38,
   "id": "b6a1316f-07b1-490c-a673-05c73c3a6124",
   "metadata": {
    "execution": {
     "iopub.execute_input": "2024-08-12T03:07:44.889439Z",
     "iopub.status.busy": "2024-08-12T03:07:44.889201Z",
     "iopub.status.idle": "2024-08-12T03:07:45.209226Z",
     "shell.execute_reply": "2024-08-12T03:07:45.208785Z",
     "shell.execute_reply.started": "2024-08-12T03:07:44.889417Z"
    }
   },
   "outputs": [],
   "source": [
    "from langchain_community.document_loaders import PyPDFLoader, PyPDFDirectoryLoader, PyPDFium2Loader\n",
    "from langchain.schema import Document\n",
    "\n",
    "import os"
   ]
  },
  {
   "cell_type": "code",
   "execution_count": 39,
   "id": "018cdaf6-f8af-4879-9153-b0686782fb34",
   "metadata": {
    "execution": {
     "iopub.execute_input": "2024-08-12T03:07:45.210000Z",
     "iopub.status.busy": "2024-08-12T03:07:45.209731Z",
     "iopub.status.idle": "2024-08-12T03:07:45.212681Z",
     "shell.execute_reply": "2024-08-12T03:07:45.212198Z",
     "shell.execute_reply.started": "2024-08-12T03:07:45.209986Z"
    }
   },
   "outputs": [],
   "source": [
    "dt = '20240925'\n",
    "version = 'QA_extract_directory'\n",
    "\n",
    "output_dir = os.path.join('my_outputs', f'{version}_{dt}')\n",
    "os.makedirs(output_dir, exist_ok=True)"
   ]
  },
  {
   "cell_type": "code",
   "execution_count": 40,
   "id": "2c81807d-e4f5-4618-8e7b-688dd72b8f0c",
   "metadata": {
    "execution": {
     "iopub.execute_input": "2024-08-12T03:07:45.213902Z",
     "iopub.status.busy": "2024-08-12T03:07:45.213744Z",
     "iopub.status.idle": "2024-08-12T03:07:46.442473Z",
     "shell.execute_reply": "2024-08-12T03:07:46.442002Z",
     "shell.execute_reply.started": "2024-08-12T03:07:45.213891Z"
    }
   },
   "outputs": [],
   "source": [
    "loader = PyPDFLoader(\"./data_test/GeoChat.pdf\")\n",
    "# loader = PyPDFium2Loader(\"./data_test/GeoChat.pdf\")\n",
    "# loader = PyPDFDirectoryLoader(\"./data_test\")\n",
    "documents = loader.load()"
   ]
  },
  {
   "cell_type": "code",
   "execution_count": null,
   "id": "614f9ed8",
   "metadata": {},
   "outputs": [],
   "source": [
    "documents"
   ]
  },
  {
   "cell_type": "code",
   "execution_count": null,
   "id": "0e5f0196-a4c5-44ab-9af1-a74a6a62d5fd",
   "metadata": {
    "execution": {
     "iopub.execute_input": "2024-08-12T03:07:46.443183Z",
     "iopub.status.busy": "2024-08-12T03:07:46.443055Z",
     "iopub.status.idle": "2024-08-12T03:07:46.447583Z",
     "shell.execute_reply": "2024-08-12T03:07:46.447095Z",
     "shell.execute_reply.started": "2024-08-12T03:07:46.443171Z"
    }
   },
   "outputs": [],
   "source": [
    "len(documents)"
   ]
  },
  {
   "cell_type": "code",
   "execution_count": null,
   "id": "4a8a771a-e9ea-46df-a911-8a1f32c9198c",
   "metadata": {
    "execution": {
     "iopub.execute_input": "2024-08-12T03:07:46.448599Z",
     "iopub.status.busy": "2024-08-12T03:07:46.448142Z",
     "iopub.status.idle": "2024-08-12T03:07:46.460973Z",
     "shell.execute_reply": "2024-08-12T03:07:46.460630Z",
     "shell.execute_reply.started": "2024-08-12T03:07:46.448586Z"
    }
   },
   "outputs": [],
   "source": [
    "len(documents[2].page_content)"
   ]
  },
  {
   "cell_type": "code",
   "execution_count": 44,
   "id": "c2bc3e04-9737-4e6b-b292-3b582b5e0c99",
   "metadata": {
    "execution": {
     "iopub.execute_input": "2024-08-12T03:07:46.461559Z",
     "iopub.status.busy": "2024-08-12T03:07:46.461427Z",
     "iopub.status.idle": "2024-08-12T03:07:46.466228Z",
     "shell.execute_reply": "2024-08-12T03:07:46.465888Z",
     "shell.execute_reply.started": "2024-08-12T03:07:46.461546Z"
    }
   },
   "outputs": [],
   "source": [
    "import re\n",
    "\n",
    "pattern = r\"^全球经济金融展望报告\\n中国银行研究院 \\d+ 2024年\"\n",
    "# re.sub(pattern, '', splitted_docs_large[3].page_content)"
   ]
  },
  {
   "cell_type": "code",
   "execution_count": 45,
   "id": "4eae10fa-0430-474b-b6ba-deac98838fba",
   "metadata": {
    "execution": {
     "iopub.execute_input": "2024-08-12T03:07:46.466800Z",
     "iopub.status.busy": "2024-08-12T03:07:46.466639Z",
     "iopub.status.idle": "2024-08-12T03:07:46.472493Z",
     "shell.execute_reply": "2024-08-12T03:07:46.472148Z",
     "shell.execute_reply.started": "2024-08-12T03:07:46.466787Z"
    }
   },
   "outputs": [],
   "source": [
    "merged_docs = [Document(page_content='\\n'.join(re.sub(pattern, '', doc.page_content) for doc in documents))]"
   ]
  },
  {
   "cell_type": "code",
   "execution_count": null,
   "id": "d80364c5",
   "metadata": {},
   "outputs": [],
   "source": [
    "merged_docs"
   ]
  },
  {
   "cell_type": "code",
   "execution_count": null,
   "id": "7da88c94",
   "metadata": {},
   "outputs": [],
   "source": [
    "merged_docs[0].metadata"
   ]
  },
  {
   "cell_type": "code",
   "execution_count": 48,
   "id": "2a08d8be-029b-4dd8-a741-985e38529a66",
   "metadata": {
    "execution": {
     "iopub.execute_input": "2024-08-12T03:07:46.473072Z",
     "iopub.status.busy": "2024-08-12T03:07:46.472942Z",
     "iopub.status.idle": "2024-08-12T03:07:46.481007Z",
     "shell.execute_reply": "2024-08-12T03:07:46.480655Z",
     "shell.execute_reply.started": "2024-08-12T03:07:46.473060Z"
    }
   },
   "outputs": [],
   "source": [
    "from uuid import uuid4\n",
    "import os\n",
    "import pickle\n",
    "\n",
    "from langchain.text_splitter import RecursiveCharacterTextSplitter\n",
    "\n",
    "# def split_docs(documents, filepath, chunk_size=400, chunk_overlap=40, seperators=['\\n\\n\\n', '\\n\\n'], force_split=False):\n",
    "def split_docs(documents, filepath, chunk_size=400, chunk_overlap=40, seperators=['\\n'], force_split=False):\n",
    "    if os.path.exists(filepath) and not force_split:\n",
    "        print('found cache, restoring...')\n",
    "        return pickle.load(open(filepath, 'rb'))\n",
    "\n",
    "    splitter = RecursiveCharacterTextSplitter(\n",
    "        chunk_size=chunk_size,\n",
    "        chunk_overlap=chunk_overlap,\n",
    "        separators=seperators\n",
    "    )\n",
    "    split_docs = splitter.split_documents(documents)\n",
    "    for chunk in split_docs:\n",
    "        chunk.metadata['uuid'] = str(uuid4())\n",
    "\n",
    "    pickle.dump(split_docs, open(filepath, 'wb'))\n",
    "\n",
    "    return split_docs"
   ]
  },
  {
   "cell_type": "code",
   "execution_count": null,
   "id": "9113d9a5-7d7c-4e3a-876c-f8a69cd7d8a2",
   "metadata": {
    "execution": {
     "iopub.execute_input": "2024-08-12T03:07:46.481603Z",
     "iopub.status.busy": "2024-08-12T03:07:46.481471Z",
     "iopub.status.idle": "2024-08-12T03:07:46.679000Z",
     "shell.execute_reply": "2024-08-12T03:07:46.678493Z",
     "shell.execute_reply.started": "2024-08-12T03:07:46.481590Z"
    }
   },
   "outputs": [],
   "source": [
    "splitted_docs = split_docs(documents, os.path.join(output_dir, 'split_docs.pkl'), chunk_size=500, chunk_overlap=50)\n",
    "splitted_docs_large = split_docs(merged_docs, os.path.join(output_dir, 'split_docs_large.pkl'), chunk_size=1500, chunk_overlap=100)"
   ]
  },
  {
   "cell_type": "code",
   "execution_count": null,
   "id": "fb8d63b2",
   "metadata": {},
   "outputs": [],
   "source": [
    "splitted_docs"
   ]
  },
  {
   "cell_type": "code",
   "execution_count": null,
   "id": "58bb2c1c",
   "metadata": {},
   "outputs": [],
   "source": [
    "splitted_docs_large"
   ]
  },
  {
   "cell_type": "code",
   "execution_count": null,
   "id": "b4989f2c-4474-4612-a470-ade89cb3a9b4",
   "metadata": {
    "execution": {
     "iopub.execute_input": "2024-08-12T03:07:46.679897Z",
     "iopub.status.busy": "2024-08-12T03:07:46.679563Z",
     "iopub.status.idle": "2024-08-12T03:07:46.683105Z",
     "shell.execute_reply": "2024-08-12T03:07:46.682703Z",
     "shell.execute_reply.started": "2024-08-12T03:07:46.679885Z"
    }
   },
   "outputs": [],
   "source": [
    "len(splitted_docs), len(splitted_docs_large)"
   ]
  },
  {
   "cell_type": "code",
   "execution_count": 53,
   "id": "13fe597d-120e-47a1-8ec1-a167fea1d328",
   "metadata": {
    "execution": {
     "iopub.execute_input": "2024-08-12T03:07:46.683698Z",
     "iopub.status.busy": "2024-08-12T03:07:46.683541Z",
     "iopub.status.idle": "2024-08-12T03:07:46.696750Z",
     "shell.execute_reply": "2024-08-12T03:07:46.696321Z",
     "shell.execute_reply.started": "2024-08-12T03:07:46.683686Z"
    }
   },
   "outputs": [],
   "source": [
    "uuid2doc = {doc.metadata['uuid']: doc.page_content for doc in splitted_docs}\n",
    "uuid2large_doc = {doc.metadata['uuid']: doc.page_content for doc in splitted_docs_large}"
   ]
  },
  {
   "cell_type": "code",
   "execution_count": null,
   "id": "a0dd548c",
   "metadata": {},
   "outputs": [],
   "source": [
    "uuid2doc"
   ]
  },
  {
   "cell_type": "code",
   "execution_count": null,
   "id": "621096a7",
   "metadata": {},
   "outputs": [],
   "source": [
    "uuid2large_doc"
   ]
  },
  {
   "cell_type": "markdown",
   "id": "0b9be7ac-547e-4347-acc8-193b09e6277e",
   "metadata": {},
   "source": [
    "# 抽取QA"
   ]
  },
  {
   "cell_type": "code",
   "execution_count": 56,
   "id": "976d80d0-d5b2-486f-83ca-f2a194b07b6b",
   "metadata": {
    "execution": {
     "iopub.execute_input": "2024-08-12T03:07:46.699127Z",
     "iopub.status.busy": "2024-08-12T03:07:46.698991Z",
     "iopub.status.idle": "2024-08-12T03:07:46.702682Z",
     "shell.execute_reply": "2024-08-12T03:07:46.702335Z",
     "shell.execute_reply.started": "2024-08-12T03:07:46.699115Z"
    }
   },
   "outputs": [],
   "source": [
    "qa_gen_prompt_tmpl = \"\"\"\n",
    "我会给你一段文本（<document></document>之间的部分），你需要阅读这段文本，分别针对这段文本生成8个问题、用户回答这个问题的上下文，和基于上下文对问题的回答。\n",
    "\n",
    "对问题、上下文、答案的要求：\n",
    "\n",
    "问题要与这段文本相关，不要询问类似“这个问题的答案在哪一章”这样的问题\n",
    "上下文：上下文必须与原始文本的内容保持一致，不要进行缩写、扩写、改写、摘要、替换词语等\n",
    "答案：回答请保持完整且简洁，无须重复问题。答案要能够独立回答问题，而不是引用现有的章节、页码等\n",
    "\n",
    "返回结果以JSON形式组织，格式为[{\"question\": \"...\", \"context\": ..., \"answer\": \"...\"}, ...]。\n",
    "如果当前文本主要是目录，或者是一些人名、地址、电子邮箱等没有办法生成有意义的问题时，可以返回[]。\n",
    "\n",
    "下方是文本：\n",
    "<document>\n",
    "{{document}}\n",
    "</document>\n",
    "\n",
    "请生成结果：\n",
    "\"\"\"\n",
    "\n",
    "qa_gen_prompt_tmpl_large_context = \"\"\"\n",
    "我会给你一段文本（<document></document>之间的部分），你需要阅读这段文本，分别针对这段文本生成2个问题，和基于这段文本对问题的回答，回答请保持完整，无须重复问题。\n",
    "尽可能创建一些需要综合*大段*文本才能回答的问题，但不要问类似“这一段主要讲了什么内容”这样的问题，答案要能够独立回答问题，而不是引用现有的章节、页码等；不要问具体过于细节的问题，例如“海湾国家的2024年预期经济增长率是多少”，而是尽可能问类似“2024年全球经济的几大趋势是什么”、“受局部中东地区紧张局势影响，可能对全球原物料有哪些影响”。\n",
    "返回结果以JSON形式组织，格式为[{\"question\": \"...\", \"answer\": \"...\"}, ...]。\n",
    "如果当前文本主要是目录，或者是一些人名、地址、电子邮箱等没有办法生成有意义的问题时，可以返回[]。\n",
    "\n",
    "下方是文本：\n",
    "<document>\n",
    "{{document}}\n",
    "</document>\n",
    "\n",
    "请生成结果：\n",
    "\"\"\""
   ]
  },
  {
   "cell_type": "code",
   "execution_count": 73,
   "id": "97a4eb08",
   "metadata": {},
   "outputs": [],
   "source": [
    "qa_gen_prompt_tmpl = \"\"\"\n",
    "I will give you a text (the part between <document></document>). You need to read this text and generate 8 questions, the context for the user to answer this question, and the answer to the question based on the context.\n",
    "\n",
    "Requirements for questions, context, and answers:\n",
    "\n",
    "Questions should be related to this text. Do not ask questions like \"In which chapter is the answer to this question?\"\n",
    "\n",
    "Context: The context must be consistent with the content of the original text. Do not abbreviate, expand, rewrite, summarize, replace words, etc.\n",
    "\n",
    "Answer: Please keep the answer complete and concise, without repeating the question. The answer should be able to answer the question independently, rather than referencing existing chapters, page numbers, etc.\n",
    "\n",
    "The returned results are organized in JSON format, with the format of [{\"question\": \"...\", \"context\": ..., \"answer\": \"...\"}, ...].\n",
    "If the current text is mainly a directory, or some names, addresses, email addresses, etc., and there is no way to generate meaningful questions, you can return [].\n",
    "\n",
    "Below is the text:\n",
    "<document>\n",
    "{{document}}\n",
    "</document>\n",
    "\n",
    "Please generate results:\n",
    "\"\"\"\n",
    "\n",
    "# qa_gen_prompt_tmpl_large_context = \"\"\"\n",
    "# I will give you a text (the part between <document></document>). You need to read this text and generate 2 questions for this text and answers to the questions based on this text. Please keep the answers complete and do not repeat questions.\n",
    "# Try to create some questions that require *large paragraphs* of text to answer, but do not ask questions like \"What is the main content of this paragraph?\" The answer should be able to answer the question independently, rather than citing existing chapters, page numbers, etc.; do not ask too specific and detailed questions, such as \"What is the expected economic growth rate of the Gulf countries in 2024?\", but try to ask questions like \"What are the major trends in the global economy in 2024?\" and \"What impact may the tension in the local Middle East have on global raw materials?\".\n",
    "# The returned results are organized in JSON format, with the format of [{\"question\": \"...\", \"answer\": \"...\"}, ...].\n",
    "# If the current text is mainly a directory, or some names, addresses, email addresses, etc., and there is no way to generate meaningful questions, you can return [].\n",
    "\n",
    "# Below is the text:\n",
    "# <document>\n",
    "# {{document}}\n",
    "# </document>\n",
    "\n",
    "# Please generate the result:\n",
    "# \"\"\"\n",
    "qa_gen_prompt_tmpl_large_context = \"\"\"\n",
    "I will give you a text (the part between <document></document>). You need to read this text and generate 2 questions for this text and answers to the questions based on this text. Please keep the answers complete and do not repeat questions.\n",
    "Try to create some questions that require *large paragraphs* of text to answer, but do not ask questions like \"What is the main content of this paragraph?\" The answer should be able to answer the question independently, rather than citing existing chapters, page numbers, etc.; do not ask too specific and detailed questions.\n",
    "The returned results are organized in JSON format, with the format of [{\"question\": \"...\", \"answer\": \"...\"}, ...].\n",
    "If the current text is mainly a directory, or some names, addresses, email addresses, etc., and there is no way to generate meaningful questions, you can return [].\n",
    "\n",
    "Below is the text:\n",
    "<document>\n",
    "{{document}}\n",
    "</document>\n",
    "\n",
    "Please generate the result:\n",
    "\"\"\""
   ]
  },
  {
   "cell_type": "code",
   "execution_count": 58,
   "id": "6b8d344f-55e2-4365-a064-788dd330509f",
   "metadata": {
    "execution": {
     "iopub.execute_input": "2024-08-12T03:07:46.703395Z",
     "iopub.status.busy": "2024-08-12T03:07:46.703201Z",
     "iopub.status.idle": "2024-08-12T03:07:46.708920Z",
     "shell.execute_reply": "2024-08-12T03:07:46.708509Z",
     "shell.execute_reply.started": "2024-08-12T03:07:46.703365Z"
    }
   },
   "outputs": [],
   "source": [
    "# prompt_tmpl2 = \"\"\"\n",
    "# 请帮我基于这份文档，构造10条数据，包括问题和答案和关键词，尽量生成一些需要全局信息的问题，回答尽量详细一些。\n",
    "# 请注意，答案必须来自于此文档，结果请以JSON数组形式组织，格式为[{\"question\": \"...\", \"answer\": \"...\", \"keywords\": [\"...\"]}]\n",
    "# \"\"\"\n",
    "\n",
    "# prompt_tmpl3 = \"\"\"\n",
    "# 请帮我基于这份文档，构造20条数据，包括问题和答案和关键词，尽量生成一些询问流程、有哪些步骤、有哪些组成部分的问题，回答尽量详细一些。\n",
    "# 请注意，答案必须来自于此文档，结果请以JSON数组形式组织，格式为[{\"question\": \"...\", \"answer\": \"...\", \"keywords\": [\"...\"]}]\n",
    "# \"\"\""
   ]
  },
  {
   "cell_type": "code",
   "execution_count": null,
   "id": "f1bdce69",
   "metadata": {},
   "outputs": [],
   "source": [
    "%pip install openai==0.28.0"
   ]
  },
  {
   "cell_type": "code",
   "execution_count": 67,
   "id": "2938667e-aa5e-43d0-80ba-8b80b66c43ee",
   "metadata": {
    "execution": {
     "iopub.execute_input": "2024-08-12T03:07:46.709621Z",
     "iopub.status.busy": "2024-08-12T03:07:46.709443Z",
     "iopub.status.idle": "2024-08-12T03:07:47.000657Z",
     "shell.execute_reply": "2024-08-12T03:07:47.000062Z",
     "shell.execute_reply.started": "2024-08-12T03:07:46.709609Z"
    }
   },
   "outputs": [],
   "source": [
    "# from openai import OpenAI\n",
    "import dashscope\n",
    "from dashscope import Generation\n",
    "import time\n",
    "import random\n",
    "# import openai\n",
    "\n",
    "# client = OpenAI(\n",
    "#     api_key=os.environ['API_KEY'],\n",
    "#     base_url=os.environ['BASE_URL']\n",
    "# )\n",
    "dashscope.api_key = ' '\n",
    "\n",
    "def build_qa_prompt(prompt_tmpl, text):\n",
    "    prompt = prompt_tmpl.replace('{{document}}', text).strip()\n",
    "    return prompt\n",
    "\n",
    "def chat(prompt, max_retry=3, debug=False, model_name='qwen-long', temperature=0.85, top_p=0.95):\n",
    "    def do_chat(prompt):\n",
    "        response = Generation.call(\n",
    "            model=model_name,\n",
    "            messages=[    \n",
    "                {\"role\": \"system\", \"content\": \"You are a remote sensing expert and familiar with the development of large language models\"},    \n",
    "                {\"role\": \"user\", \"content\": prompt}\n",
    "            ],\n",
    "            result_format='message'\n",
    "        )\n",
    "        # completion = openai.ChatCompletion.create(\n",
    "        #     # model=\"Qwen/Qwen2-72B-Instruct\",\n",
    "        #     model=model_name,\n",
    "        #     messages=[    \n",
    "        #         {\"role\": \"system\", \"content\": \"You are a remote sensing expert and familiar with the development of large language models\"},    \n",
    "        #         {\"role\": \"user\", \"content\": prompt}\n",
    "        #     ],\n",
    "        #     top_p=top_p,\n",
    "        #     temperature=temperature\n",
    "        # )\n",
    "        # return completion.choices[0].message.content\n",
    "        return response.output.choices[0].message.content\n",
    "\n",
    "    while max_retry > 0:\n",
    "        try:\n",
    "            return do_chat(prompt)\n",
    "        except Exception as e:\n",
    "            max_retry -= 1\n",
    "            sleep_seconds = random.randint(1, 4)\n",
    "            if debug:\n",
    "                print(f\"{str(e)}, remain retry: {max_retry}, sleeping {sleep_seconds}s {prompt}\")\n",
    "            time.sleep(sleep_seconds)\n",
    "    return None"
   ]
  },
  {
   "cell_type": "code",
   "execution_count": 61,
   "id": "aabdd8b4-1cea-4d2f-89b3-0f859a65dd72",
   "metadata": {
    "execution": {
     "iopub.execute_input": "2024-08-12T03:07:47.001424Z",
     "iopub.status.busy": "2024-08-12T03:07:47.001230Z",
     "iopub.status.idle": "2024-08-12T03:07:47.003725Z",
     "shell.execute_reply": "2024-08-12T03:07:47.003217Z",
     "shell.execute_reply.started": "2024-08-12T03:07:47.001411Z"
    }
   },
   "outputs": [],
   "source": [
    "text = splitted_docs[40].page_content"
   ]
  },
  {
   "cell_type": "code",
   "execution_count": null,
   "id": "a7bf3d69-4de4-4666-9297-fe5417b591f1",
   "metadata": {
    "execution": {
     "iopub.execute_input": "2024-08-12T03:07:47.004439Z",
     "iopub.status.busy": "2024-08-12T03:07:47.004256Z",
     "iopub.status.idle": "2024-08-12T03:07:47.017374Z",
     "shell.execute_reply": "2024-08-12T03:07:47.016763Z",
     "shell.execute_reply.started": "2024-08-12T03:07:47.004419Z"
    }
   },
   "outputs": [],
   "source": [
    "print(text)"
   ]
  },
  {
   "cell_type": "code",
   "execution_count": null,
   "id": "494dd058-017d-41fd-90e4-b531db619d8f",
   "metadata": {
    "execution": {
     "iopub.execute_input": "2024-08-12T03:07:47.018230Z",
     "iopub.status.busy": "2024-08-12T03:07:47.017839Z",
     "iopub.status.idle": "2024-08-12T03:08:18.039008Z",
     "shell.execute_reply": "2024-08-12T03:08:18.036742Z",
     "shell.execute_reply.started": "2024-08-12T03:07:47.018203Z"
    }
   },
   "outputs": [],
   "source": [
    "print(chat(build_qa_prompt(qa_gen_prompt_tmpl, text), debug=True))"
   ]
  },
  {
   "cell_type": "code",
   "execution_count": null,
   "id": "a8465bb6-5f69-4cd1-b957-2ee01ec8cd4e",
   "metadata": {
    "execution": {
     "iopub.execute_input": "2024-08-12T03:08:18.042080Z",
     "iopub.status.busy": "2024-08-12T03:08:18.041371Z",
     "iopub.status.idle": "2024-08-12T03:08:18.053420Z",
     "shell.execute_reply": "2024-08-12T03:08:18.051878Z",
     "shell.execute_reply.started": "2024-08-12T03:08:18.042013Z"
    }
   },
   "outputs": [],
   "source": [
    "print(splitted_docs_large[8].page_content)"
   ]
  },
  {
   "cell_type": "code",
   "execution_count": null,
   "id": "228f79ac-c37a-441c-8c06-af02f7c8b119",
   "metadata": {
    "execution": {
     "iopub.execute_input": "2024-08-12T03:08:18.055142Z",
     "iopub.status.busy": "2024-08-12T03:08:18.054750Z",
     "iopub.status.idle": "2024-08-12T03:08:31.809221Z",
     "shell.execute_reply": "2024-08-12T03:08:31.806967Z",
     "shell.execute_reply.started": "2024-08-12T03:08:18.055107Z"
    }
   },
   "outputs": [],
   "source": [
    "print(chat(build_qa_prompt(qa_gen_prompt_tmpl_large_context, splitted_docs_large[8].page_content)))"
   ]
  },
  {
   "cell_type": "code",
   "execution_count": null,
   "id": "8d6e499b-effc-4d6a-b79e-05db1727fa2f",
   "metadata": {
    "execution": {
     "iopub.execute_input": "2024-08-12T03:08:31.812672Z",
     "iopub.status.busy": "2024-08-12T03:08:31.811960Z",
     "iopub.status.idle": "2024-08-12T03:08:31.899412Z",
     "shell.execute_reply": "2024-08-12T03:08:31.898935Z",
     "shell.execute_reply.started": "2024-08-12T03:08:31.812604Z"
    }
   },
   "outputs": [],
   "source": [
    "import threading\n",
    "import concurrent.futures\n",
    "from tqdm.auto import tqdm\n",
    "import json\n",
    "\n",
    "def gen_qa(splitted_docs, prompt_tmpl, qa_ckpt_filename):\n",
    "    qa_ckpt = {}\n",
    "    if os.path.exists(qa_ckpt_filename):\n",
    "        qa_ckpt = open(qa_ckpt_filename).readlines()\n",
    "        qa_ckpt = [json.loads(line.strip()) for line in qa_ckpt if line.strip() != '']\n",
    "        qa_ckpt = {item['uuid']: item for item in qa_ckpt}\n",
    "        print(f'found checkpoint, item count: {len(qa_ckpt)}')\n",
    "    \n",
    "    file_lock = threading.Lock()\n",
    "    max_workers = 4\n",
    "    with concurrent.futures.ThreadPoolExecutor(max_workers=max_workers) as executor:\n",
    "        futures = {doc.metadata['uuid']: executor.submit(chat, build_qa_prompt(prompt_tmpl, doc.page_content), 3, True) for doc in splitted_docs if len(doc.page_content.replace('\\n', '')) >= 150 and doc.metadata['uuid'] not in qa_ckpt}\n",
    "        for uuid in tqdm(futures):\n",
    "            future = futures[uuid]\n",
    "            result = future.result()\n",
    "            if result is None:\n",
    "                continue\n",
    "            \n",
    "            item = {'uuid': uuid, 'raw_resp': result}\n",
    "            qa_ckpt[uuid] = item\n",
    "    \n",
    "            # global file_lock\n",
    "            file_lock.acquire()\n",
    "            \n",
    "            try:\n",
    "                with open(qa_ckpt_filename, 'a') as f:\n",
    "                    f.write(json.dumps(item, ensure_ascii=False) + '\\n')\n",
    "            except Exception as e:\n",
    "                print(e)\n",
    "            finally:\n",
    "                file_lock.release()\n",
    "    return qa_ckpt"
   ]
  },
  {
   "cell_type": "code",
   "execution_count": null,
   "id": "9525aa93-7474-49a8-a995-00c94de7f313",
   "metadata": {
    "execution": {
     "iopub.execute_input": "2024-08-12T03:08:31.900153Z",
     "iopub.status.busy": "2024-08-12T03:08:31.899878Z",
     "iopub.status.idle": "2024-08-12T03:16:17.402433Z",
     "shell.execute_reply": "2024-08-12T03:16:17.400081Z",
     "shell.execute_reply.started": "2024-08-12T03:08:31.900141Z"
    }
   },
   "outputs": [],
   "source": [
    "detailed_qa_dict = gen_qa(splitted_docs, qa_gen_prompt_tmpl, os.path.join(output_dir, f\"qa_ckpt_detailed.jsonl\"))"
   ]
  },
  {
   "cell_type": "code",
   "execution_count": null,
   "id": "72370d3e-5c8b-4012-8c34-fb934196a7d7",
   "metadata": {
    "execution": {
     "iopub.execute_input": "2024-08-12T03:16:17.405711Z",
     "iopub.status.busy": "2024-08-12T03:16:17.404981Z",
     "iopub.status.idle": "2024-08-12T03:17:42.256204Z",
     "shell.execute_reply": "2024-08-12T03:17:42.253877Z",
     "shell.execute_reply.started": "2024-08-12T03:16:17.405641Z"
    }
   },
   "outputs": [],
   "source": [
    "large_context_qa_dict = gen_qa(splitted_docs_large, qa_gen_prompt_tmpl_large_context, os.path.join(output_dir, f\"qa_ckpt_large_context.jsonl\"))"
   ]
  },
  {
   "cell_type": "markdown",
   "id": "7fa878e7-9c9f-4700-864f-b9547a5f344d",
   "metadata": {},
   "source": [
    "# 后置处理"
   ]
  },
  {
   "cell_type": "code",
   "execution_count": 78,
   "id": "0c3a8af8-7af6-44ca-bed8-f386f9f194db",
   "metadata": {
    "execution": {
     "iopub.execute_input": "2024-08-12T03:17:42.259503Z",
     "iopub.status.busy": "2024-08-12T03:17:42.258730Z",
     "iopub.status.idle": "2024-08-12T03:17:42.273254Z",
     "shell.execute_reply": "2024-08-12T03:17:42.271007Z",
     "shell.execute_reply.started": "2024-08-12T03:17:42.259435Z"
    }
   },
   "outputs": [],
   "source": [
    "import re\n",
    "\n",
    "def convert2json(text):\n",
    "    # pattern = r'```\\[(.*)\\]```'\n",
    "    # matched = match.group(1)\n",
    "    pattern = r'\\[.*\\]'\n",
    "    # text = qa_ckpt['8e2d7b02-4207-47b1-a8a5-14409b1b86f6']['raw_resp']\n",
    "\n",
    "    text = text.replace('>>>', '')\n",
    "    try:\n",
    "        return json.loads(text)\n",
    "    except:\n",
    "        match = re.search(pattern, text, re.DOTALL)\n",
    "        try:\n",
    "            matched = match.group(0)\n",
    "            return json.loads(matched)\n",
    "        except Exception as e:\n",
    "            print(f\"{match}, {str(e)}\")\n",
    "\n",
    "    return []"
   ]
  },
  {
   "cell_type": "code",
   "execution_count": 79,
   "id": "564b7782-57f8-4b3c-9daf-674f0a06bd2a",
   "metadata": {
    "execution": {
     "iopub.execute_input": "2024-08-12T03:17:42.277690Z",
     "iopub.status.busy": "2024-08-12T03:17:42.275912Z",
     "iopub.status.idle": "2024-08-12T03:17:42.496730Z",
     "shell.execute_reply": "2024-08-12T03:17:42.496264Z",
     "shell.execute_reply.started": "2024-08-12T03:17:42.277614Z"
    }
   },
   "outputs": [],
   "source": [
    "from tqdm.auto import tqdm\n",
    "import pandas as pd\n",
    "import pickle\n",
    "\n",
    "def build_qa_df(qa_ckpt, uuid2doc_map):\n",
    "    data = []\n",
    "    \n",
    "    for key, value in tqdm(qa_ckpt.items()):\n",
    "        text = value['raw_resp']\n",
    "        qa_list = convert2json(text)\n",
    "    \n",
    "        for item in qa_list:\n",
    "            question = item.get('question', '').strip()\n",
    "            answer = item.get('answer', '').strip()\n",
    "            context = item.get('context', '').strip()\n",
    "            \n",
    "            if question == '' or answer == '':\n",
    "                print(qa_list)\n",
    "                continue\n",
    "            data.append({\n",
    "                'uuid': key,\n",
    "                'question': question,\n",
    "                'answer': answer,\n",
    "                'context': context,\n",
    "                'doc': uuid2doc_map[key]\n",
    "            })\n",
    "    qa_df = pd.DataFrame(data)\n",
    "    return qa_df"
   ]
  },
  {
   "cell_type": "code",
   "execution_count": null,
   "id": "39d9677f-faa0-4a31-9120-2b3ba6427e60",
   "metadata": {
    "execution": {
     "iopub.execute_input": "2024-08-12T03:17:42.497423Z",
     "iopub.status.busy": "2024-08-12T03:17:42.497224Z",
     "iopub.status.idle": "2024-08-12T03:17:42.511350Z",
     "shell.execute_reply": "2024-08-12T03:17:42.510933Z",
     "shell.execute_reply.started": "2024-08-12T03:17:42.497410Z"
    }
   },
   "outputs": [],
   "source": [
    "qa_df = build_qa_df(detailed_qa_dict, uuid2doc)\n",
    "# large_context_qa_df = build_qa_df(large_context_qa_dict, uuid2large_doc)"
   ]
  },
  {
   "cell_type": "code",
   "execution_count": null,
   "id": "cbb26538",
   "metadata": {},
   "outputs": [],
   "source": [
    "qa_df"
   ]
  },
  {
   "cell_type": "code",
   "execution_count": null,
   "id": "47fbc0b6-4812-402f-93e8-0440e91cb96d",
   "metadata": {
    "execution": {
     "iopub.execute_input": "2024-08-12T03:17:42.511961Z",
     "iopub.status.busy": "2024-08-12T03:17:42.511829Z",
     "iopub.status.idle": "2024-08-12T03:17:42.515855Z",
     "shell.execute_reply": "2024-08-12T03:17:42.515517Z",
     "shell.execute_reply.started": "2024-08-12T03:17:42.511949Z"
    }
   },
   "outputs": [],
   "source": [
    "len(qa_df)"
   ]
  },
  {
   "cell_type": "code",
   "execution_count": 82,
   "id": "90824aef-0246-4b54-a833-85362a7820b0",
   "metadata": {
    "execution": {
     "iopub.execute_input": "2024-08-12T03:17:42.516449Z",
     "iopub.status.busy": "2024-08-12T03:17:42.516323Z",
     "iopub.status.idle": "2024-08-12T03:17:42.521944Z",
     "shell.execute_reply": "2024-08-12T03:17:42.521581Z",
     "shell.execute_reply.started": "2024-08-12T03:17:42.516437Z"
    }
   },
   "outputs": [],
   "source": [
    "qa_df.drop_duplicates('question', inplace=True)"
   ]
  },
  {
   "cell_type": "code",
   "execution_count": null,
   "id": "8de81918-8c9b-4fc4-ade1-d7c6596f5d13",
   "metadata": {
    "execution": {
     "iopub.execute_input": "2024-08-12T03:17:42.522480Z",
     "iopub.status.busy": "2024-08-12T03:17:42.522355Z",
     "iopub.status.idle": "2024-08-12T03:17:42.527814Z",
     "shell.execute_reply": "2024-08-12T03:17:42.527511Z",
     "shell.execute_reply.started": "2024-08-12T03:17:42.522468Z"
    }
   },
   "outputs": [],
   "source": [
    "len(qa_df)"
   ]
  },
  {
   "cell_type": "code",
   "execution_count": null,
   "id": "35a1502a-0cdd-4eb1-9456-d87fdb6a6c11",
   "metadata": {
    "execution": {
     "iopub.execute_input": "2024-08-12T03:17:42.528385Z",
     "iopub.status.busy": "2024-08-12T03:17:42.528264Z",
     "iopub.status.idle": "2024-08-12T03:17:42.534137Z",
     "shell.execute_reply": "2024-08-12T03:17:42.533809Z",
     "shell.execute_reply.started": "2024-08-12T03:17:42.528373Z"
    }
   },
   "outputs": [],
   "source": [
    "# len(large_context_qa_df)"
   ]
  },
  {
   "cell_type": "code",
   "execution_count": 32,
   "id": "6bffa7fe-f76b-410b-9014-098ac9c2cc0b",
   "metadata": {
    "execution": {
     "iopub.execute_input": "2024-08-12T03:17:42.534665Z",
     "iopub.status.busy": "2024-08-12T03:17:42.534543Z",
     "iopub.status.idle": "2024-08-12T03:17:42.539625Z",
     "shell.execute_reply": "2024-08-12T03:17:42.539231Z",
     "shell.execute_reply.started": "2024-08-12T03:17:42.534654Z"
    }
   },
   "outputs": [],
   "source": [
    "# large_context_qa_df.drop_duplicates('question', inplace=True)"
   ]
  },
  {
   "cell_type": "code",
   "execution_count": null,
   "id": "9de97333-1b53-4db3-8463-64256732db22",
   "metadata": {
    "execution": {
     "iopub.execute_input": "2024-08-12T03:17:42.540156Z",
     "iopub.status.busy": "2024-08-12T03:17:42.540032Z",
     "iopub.status.idle": "2024-08-12T03:17:42.545959Z",
     "shell.execute_reply": "2024-08-12T03:17:42.545644Z",
     "shell.execute_reply.started": "2024-08-12T03:17:42.540144Z"
    }
   },
   "outputs": [],
   "source": [
    "# len(large_context_qa_df)"
   ]
  },
  {
   "cell_type": "code",
   "execution_count": null,
   "id": "c22f4e9f-eaff-4303-9db2-18b44f62225f",
   "metadata": {
    "execution": {
     "iopub.execute_input": "2024-08-12T03:17:42.546486Z",
     "iopub.status.busy": "2024-08-12T03:17:42.546360Z",
     "iopub.status.idle": "2024-08-12T03:17:42.555352Z",
     "shell.execute_reply": "2024-08-12T03:17:42.554891Z",
     "shell.execute_reply.started": "2024-08-12T03:17:42.546474Z"
    }
   },
   "outputs": [],
   "source": [
    "qa_df.sample(5)"
   ]
  },
  {
   "cell_type": "code",
   "execution_count": 87,
   "id": "7700fad3-8829-4545-bb17-b0d023653524",
   "metadata": {
    "execution": {
     "iopub.execute_input": "2024-08-12T03:17:42.555909Z",
     "iopub.status.busy": "2024-08-12T03:17:42.555784Z",
     "iopub.status.idle": "2024-08-12T03:17:42.561892Z",
     "shell.execute_reply": "2024-08-12T03:17:42.561442Z",
     "shell.execute_reply.started": "2024-08-12T03:17:42.555897Z"
    }
   },
   "outputs": [],
   "source": [
    "qa_df['qa_type'] = 'detailed'"
   ]
  },
  {
   "cell_type": "code",
   "execution_count": null,
   "id": "03151129",
   "metadata": {},
   "outputs": [],
   "source": [
    "qa_df"
   ]
  },
  {
   "cell_type": "code",
   "execution_count": null,
   "id": "85518b60-7120-4b90-95b7-7f3486db7d6c",
   "metadata": {
    "execution": {
     "iopub.execute_input": "2024-08-12T03:17:42.562473Z",
     "iopub.status.busy": "2024-08-12T03:17:42.562344Z",
     "iopub.status.idle": "2024-08-12T03:17:42.570487Z",
     "shell.execute_reply": "2024-08-12T03:17:42.570144Z",
     "shell.execute_reply.started": "2024-08-12T03:17:42.562461Z"
    }
   },
   "outputs": [],
   "source": [
    "# large_context_qa_df.sample(5)"
   ]
  },
  {
   "cell_type": "code",
   "execution_count": 37,
   "id": "95e6b451-5603-480f-88b7-21d61598c65d",
   "metadata": {
    "execution": {
     "iopub.execute_input": "2024-08-12T03:17:42.571060Z",
     "iopub.status.busy": "2024-08-12T03:17:42.570929Z",
     "iopub.status.idle": "2024-08-12T03:17:42.577712Z",
     "shell.execute_reply": "2024-08-12T03:17:42.577229Z",
     "shell.execute_reply.started": "2024-08-12T03:17:42.571048Z"
    }
   },
   "outputs": [],
   "source": [
    "# large_context_qa_df['qa_type'] = 'large_context'"
   ]
  },
  {
   "cell_type": "code",
   "execution_count": 38,
   "id": "2f056cd2-2940-4e46-99d7-9985d3abdb52",
   "metadata": {
    "execution": {
     "iopub.execute_input": "2024-08-12T03:17:42.578264Z",
     "iopub.status.busy": "2024-08-12T03:17:42.578139Z",
     "iopub.status.idle": "2024-08-12T03:17:42.583664Z",
     "shell.execute_reply": "2024-08-12T03:17:42.583267Z",
     "shell.execute_reply.started": "2024-08-12T03:17:42.578252Z"
    }
   },
   "outputs": [],
   "source": [
    "# qa_df = pd.concat([qa_df, large_context_qa_df])"
   ]
  },
  {
   "cell_type": "code",
   "execution_count": null,
   "id": "d6040ba8-1d6d-4c61-aa6a-772b787713d9",
   "metadata": {
    "execution": {
     "iopub.execute_input": "2024-08-12T03:17:42.584232Z",
     "iopub.status.busy": "2024-08-12T03:17:42.584075Z",
     "iopub.status.idle": "2024-08-12T03:17:42.592826Z",
     "shell.execute_reply": "2024-08-12T03:17:42.592449Z",
     "shell.execute_reply.started": "2024-08-12T03:17:42.584219Z"
    }
   },
   "outputs": [],
   "source": [
    "qa_df.sample(5)"
   ]
  },
  {
   "cell_type": "code",
   "execution_count": null,
   "id": "2e759a73-28fd-485c-bb28-4a55f804584a",
   "metadata": {
    "execution": {
     "iopub.execute_input": "2024-08-12T03:17:42.593355Z",
     "iopub.status.busy": "2024-08-12T03:17:42.593236Z",
     "iopub.status.idle": "2024-08-12T03:17:42.599938Z",
     "shell.execute_reply": "2024-08-12T03:17:42.599634Z",
     "shell.execute_reply.started": "2024-08-12T03:17:42.593343Z"
    }
   },
   "outputs": [],
   "source": [
    "len(qa_df)"
   ]
  },
  {
   "cell_type": "markdown",
   "id": "8633f77f-0f13-42d1-ac52-a5a20a794db3",
   "metadata": {},
   "source": [
    "# QA质量检查"
   ]
  },
  {
   "cell_type": "code",
   "execution_count": 98,
   "id": "a5331d71-3f37-4532-9b26-f5bb653804aa",
   "metadata": {
    "execution": {
     "iopub.execute_input": "2024-08-12T03:17:42.602905Z",
     "iopub.status.busy": "2024-08-12T03:17:42.602740Z",
     "iopub.status.idle": "2024-08-12T03:17:42.605597Z",
     "shell.execute_reply": "2024-08-12T03:17:42.605179Z",
     "shell.execute_reply.started": "2024-08-12T03:17:42.602893Z"
    }
   },
   "outputs": [],
   "source": [
    "# qa_check_prompt_tmpl = \"\"\"\n",
    "# 你是一个金融领域的专家，现在有人根据一份经济发展报告，构造了一些问题，并对问题进行了回答。\n",
    "# 你的任务是对这些问题（<question></question>之间的部分）和回答（<answer></answer>）进行打分。\n",
    "\n",
    "# 结果请以JSON形式组织，格式如下（<result></result>之间的部分）：\n",
    "# <result>\n",
    "# {\"score\": ..., \"reason\": ...}\n",
    "# </result>\n",
    "# 其中score是对问题-回答的打分，分值是一个int类型的值，取值范围为1-5。reason是打分的理由。\n",
    "\n",
    "# 好的问题，应该是询问事实、观点等，不好的问题，通常要求做一些文本摘要等初级文字处理工作，类似于“这一段描述了什么”，“文本描述了什么”；或者询问的内容是图相关的，例如“图4展示了什么数据？”。\n",
    "# 好的答案，应该能够回应问题，而不是回答无关的内容，不好的回答，会给出在原文中的引用，例如“第3章”等。\n",
    "\n",
    "# 问题：\n",
    "# <question>\n",
    "# {{question}}\n",
    "# </question>\n",
    "\n",
    "# 参考答案：\n",
    "# <answer>\n",
    "# {{answer}}\n",
    "# </answer>\n",
    "\n",
    "# 请进返回JSON格式的数据即可，不要添加其他任何描述性信息。\n",
    "# \"\"\"\n",
    "qa_check_prompt_tmpl = \"\"\"\n",
    "You are an expert in remote sensing. Now someone has constructed some questions based on some papers and reports and answered them.\n",
    "Your task is to score these questions (the part between <question></question>) and answers (<answer></answer>).\n",
    "\n",
    "The results should be organized in JSON format, with the following format (the part between <result></result>):\n",
    "<result>\n",
    "{\"score\": ..., \"reason\": ...}\n",
    "</result>\n",
    "Where score is the score of question-answer, the score is an int value with a range of 1-5. reason is the reason for the score.\n",
    "\n",
    "Good questions should ask about facts, opinions, etc. Bad questions usually require some elementary text processing such as text summarization, similar to \"What does this paragraph describe\", \"What does the text describe\"; or the content of the inquiry is related to the figure, such as \"What data does Figure 4 show? \".\n",
    "A good answer should be able to respond to the question, rather than answering irrelevant content. A bad answer will give a reference to the original text, such as \"Chapter 3\".\n",
    "\n",
    "<question>\n",
    "{{question}}\n",
    "</question>\n",
    "\n",
    "<answer>\n",
    "{{answer}}\n",
    "</answer>\n",
    "\n",
    "Please return the data in JSON format, and do not add any other descriptive information.\n",
    "\"\"\""
   ]
  },
  {
   "cell_type": "code",
   "execution_count": 99,
   "id": "219411e2-08b9-4232-9a18-67d4a1147fae",
   "metadata": {
    "execution": {
     "iopub.execute_input": "2024-08-12T03:17:42.606103Z",
     "iopub.status.busy": "2024-08-12T03:17:42.605984Z",
     "iopub.status.idle": "2024-08-12T03:17:42.611859Z",
     "shell.execute_reply": "2024-08-12T03:17:42.611431Z",
     "shell.execute_reply.started": "2024-08-12T03:17:42.606092Z"
    },
    "scrolled": true
   },
   "outputs": [],
   "source": [
    "def build_qa_scoring_prompt(row):\n",
    "    context = row['context']\n",
    "    question = row['question']\n",
    "    answer = row['answer']\n",
    "    prompt = qa_check_prompt_tmpl.replace('{{question}}', question).replace('{{answer}}', answer)\n",
    "\n",
    "    return prompt"
   ]
  },
  {
   "cell_type": "markdown",
   "id": "56d0545b-c268-48c9-bf9b-28030150d1cd",
   "metadata": {},
   "source": [
    "在大规模打分之前，先调试一下，检查Prompt是否正常"
   ]
  },
  {
   "cell_type": "code",
   "execution_count": null,
   "id": "be186069-3abe-420a-930d-da56ebe93930",
   "metadata": {
    "execution": {
     "iopub.execute_input": "2024-08-12T03:17:42.612435Z",
     "iopub.status.busy": "2024-08-12T03:17:42.612311Z",
     "iopub.status.idle": "2024-08-12T03:17:42.618377Z",
     "shell.execute_reply": "2024-08-12T03:17:42.617951Z",
     "shell.execute_reply.started": "2024-08-12T03:17:42.612423Z"
    }
   },
   "outputs": [],
   "source": [
    "qa_df.iloc[241].to_dict()"
   ]
  },
  {
   "cell_type": "code",
   "execution_count": null,
   "id": "0127da7f-4feb-4569-aa95-4f1fc8a8bb58",
   "metadata": {
    "execution": {
     "iopub.execute_input": "2024-08-12T03:17:42.618938Z",
     "iopub.status.busy": "2024-08-12T03:17:42.618809Z",
     "iopub.status.idle": "2024-08-12T03:17:42.623670Z",
     "shell.execute_reply": "2024-08-12T03:17:42.623196Z",
     "shell.execute_reply.started": "2024-08-12T03:17:42.618925Z"
    }
   },
   "outputs": [],
   "source": [
    "print(build_qa_scoring_prompt(qa_df.iloc[241]))"
   ]
  },
  {
   "cell_type": "code",
   "execution_count": null,
   "id": "5d0ec6bb-c567-408e-b775-2b399e7aa636",
   "metadata": {
    "execution": {
     "iopub.execute_input": "2024-08-12T03:17:42.624265Z",
     "iopub.status.busy": "2024-08-12T03:17:42.624107Z",
     "iopub.status.idle": "2024-08-12T03:17:44.530628Z",
     "shell.execute_reply": "2024-08-12T03:17:44.528276Z",
     "shell.execute_reply.started": "2024-08-12T03:17:42.624253Z"
    }
   },
   "outputs": [],
   "source": [
    "print(chat(build_qa_scoring_prompt(qa_df.iloc[241]), debug=True, model_name='qwen-long', temperature=0))"
   ]
  },
  {
   "cell_type": "code",
   "execution_count": null,
   "id": "feb8207c-8bd1-439f-be8d-46e9f02cbc6a",
   "metadata": {
    "execution": {
     "iopub.execute_input": "2024-08-12T03:17:44.535084Z",
     "iopub.status.busy": "2024-08-12T03:17:44.533992Z",
     "iopub.status.idle": "2024-08-12T03:24:06.967235Z",
     "shell.execute_reply": "2024-08-12T03:24:06.964855Z",
     "shell.execute_reply.started": "2024-08-12T03:17:44.534709Z"
    }
   },
   "outputs": [],
   "source": [
    "import threading\n",
    "import concurrent.futures\n",
    "from tqdm.auto import tqdm\n",
    "import json\n",
    "\n",
    "qa_scoring_ckpt = {}\n",
    "qa_scoring_ckpt_filename = os.path.join(output_dir, f\"qa_scoring_ckpt.jsonl\")\n",
    "if os.path.exists(qa_scoring_ckpt_filename):\n",
    "    qa_scoring_ckpt = open(qa_scoring_ckpt_filename).readlines()\n",
    "    qa_scoring_ckpt = [json.loads(line.strip()) for line in qa_scoring_ckpt if line.strip() != '']\n",
    "    qa_scoring_ckpt = {item['question']: item for item in qa_scoring_ckpt}\n",
    "    print(f'found checkpoint, item count: {len(qa_scoring_ckpt)}')\n",
    "\n",
    "file_lock = threading.Lock()\n",
    "max_workers = 3\n",
    "with concurrent.futures.ThreadPoolExecutor(max_workers=max_workers) as executor:\n",
    "    futures = {row['question']: executor.submit(chat, build_qa_scoring_prompt(row), 3, True, 'qwen-long', 0) for _, row in qa_df.iterrows() if row['question'] not in qa_scoring_ckpt}\n",
    "    for question in tqdm(futures):\n",
    "        future = futures[question]\n",
    "        result = future.result()\n",
    "        if result is None:\n",
    "            continue\n",
    "        \n",
    "        item = {'question': question, 'raw_resp': result}\n",
    "        qa_scoring_ckpt[question] = item\n",
    "\n",
    "        # global file_lock\n",
    "        file_lock.acquire()\n",
    "        \n",
    "        try:\n",
    "            with open(qa_scoring_ckpt_filename, 'a') as f:\n",
    "                f.write(json.dumps(item, ensure_ascii=False) + '\\n')\n",
    "        except Exception as e:\n",
    "            print(e)\n",
    "        finally:\n",
    "            file_lock.release()"
   ]
  },
  {
   "cell_type": "code",
   "execution_count": 104,
   "id": "b97218bb-b631-4ae7-90b0-a3e97e46576d",
   "metadata": {
    "execution": {
     "iopub.execute_input": "2024-08-12T03:24:06.970557Z",
     "iopub.status.busy": "2024-08-12T03:24:06.969833Z",
     "iopub.status.idle": "2024-08-12T03:24:06.986225Z",
     "shell.execute_reply": "2024-08-12T03:24:06.983958Z",
     "shell.execute_reply.started": "2024-08-12T03:24:06.970488Z"
    }
   },
   "outputs": [],
   "source": [
    "def extract_json(text):\n",
    "    \"\"\"\n",
    "    从raw_resp中提取出打分结果的JSON\n",
    "    :param raw_resp: LLM的返回结果，数据样例：\n",
    "    {\\n\"score\": 5, \\n\"reason\": \"问题提出了一个具体且明确的观点询问，即针对美国房地产市场的风险评估，特别是对中小型银行的影响。参考答案直接回答了问题，并提供了详细的解释和原因，没有引用原始文本的位置，而是直接给出了分析性的内容。\"\\n}\n",
    "    Based on the given criteria:\\n\\n- The question asks for a factual assessment of global trade performance in 2023, which is clear and direct.\\n- The provided answer directly addresses the question without referring back to a source or chapter, offering an evaluation of global trade conditions in 2023.\\n\\nBoth the question and the answer meet the criteria for being high-quality and appropriately structured. Therefore, I would give them a high score.\\n\\n```json\\n{\"score\": 5, \"reason\": \"The question is clear and direct, seeking a factual evaluation. The answer provides a direct response without referring to specific sources or sections.\"}\\n```\n",
    "    \"\"\"\n",
    "    # pattern = r'\\n```json\\n(.*?)\\n```'\n",
    "    pattern = r'\\{.*?\\}'\n",
    "    \n",
    "    ret = {}\n",
    "    try:\n",
    "        ret = json.loads(text)\n",
    "    except:\n",
    "        match = re.search(pattern, text, re.DOTALL)\n",
    "        try:\n",
    "            matched = match.group(0)\n",
    "            ret = json.loads(matched)\n",
    "        except Exception as e:\n",
    "            print(f\"{match}, {str(e)}\")\n",
    "            \n",
    "    return ret"
   ]
  },
  {
   "cell_type": "code",
   "execution_count": 105,
   "id": "c49ef2a7-cede-4199-9be4-9069a33eaa19",
   "metadata": {
    "execution": {
     "iopub.execute_input": "2024-08-12T03:24:06.989631Z",
     "iopub.status.busy": "2024-08-12T03:24:06.988896Z",
     "iopub.status.idle": "2024-08-12T03:24:07.014043Z",
     "shell.execute_reply": "2024-08-12T03:24:07.011763Z",
     "shell.execute_reply.started": "2024-08-12T03:24:06.989560Z"
    },
    "scrolled": true
   },
   "outputs": [],
   "source": [
    "qa_scoring_dict = {}\n",
    "\n",
    "for key, value in qa_scoring_ckpt.items():\n",
    "    try:\n",
    "        qa_scoring_dict[key] = extract_json(value['raw_resp'])\n",
    "        if 'score' not in qa_scoring_dict[key]:\n",
    "            qa_scoring_dict[key] = {'score': -1, 'reason': f\"parse failed, raw resp: {value['raw_resp']}\"}\n",
    "            raise ValueError(f'no score in result, question: {key}')\n",
    "    except Exception as e:\n",
    "        print(f\"{key}, error: {e}\")"
   ]
  },
  {
   "cell_type": "code",
   "execution_count": 106,
   "id": "a1a6058d-4575-4f14-b8f0-12c788807f78",
   "metadata": {
    "execution": {
     "iopub.execute_input": "2024-08-12T03:24:07.017572Z",
     "iopub.status.busy": "2024-08-12T03:24:07.016838Z",
     "iopub.status.idle": "2024-08-12T03:24:07.031441Z",
     "shell.execute_reply": "2024-08-12T03:24:07.030202Z",
     "shell.execute_reply.started": "2024-08-12T03:24:07.017503Z"
    }
   },
   "outputs": [],
   "source": [
    "qa_df['score'] = qa_df['question'].apply(lambda q: qa_scoring_dict.get(q, {}).get('score', -1))\n",
    "qa_df['score_reason'] = qa_df['question'].apply(lambda q: qa_scoring_dict.get(q, {}).get('reason', -1))"
   ]
  },
  {
   "cell_type": "code",
   "execution_count": null,
   "id": "c276f215-0dff-4805-a325-7fad2b4f7cc9",
   "metadata": {
    "execution": {
     "iopub.execute_input": "2024-08-12T03:24:07.033053Z",
     "iopub.status.busy": "2024-08-12T03:24:07.032688Z",
     "iopub.status.idle": "2024-08-12T03:24:07.051404Z",
     "shell.execute_reply": "2024-08-12T03:24:07.050462Z",
     "shell.execute_reply.started": "2024-08-12T03:24:07.033018Z"
    }
   },
   "outputs": [],
   "source": [
    "qa_df.sample(5)"
   ]
  },
  {
   "cell_type": "code",
   "execution_count": null,
   "id": "0cf12c03-48c4-49ca-b48c-d727cd9ff12f",
   "metadata": {
    "execution": {
     "iopub.execute_input": "2024-08-12T03:24:07.052885Z",
     "iopub.status.busy": "2024-08-12T03:24:07.052398Z",
     "iopub.status.idle": "2024-08-12T03:24:07.060425Z",
     "shell.execute_reply": "2024-08-12T03:24:07.059496Z",
     "shell.execute_reply.started": "2024-08-12T03:24:07.052856Z"
    }
   },
   "outputs": [],
   "source": [
    "qa_df['score'].value_counts()"
   ]
  },
  {
   "cell_type": "code",
   "execution_count": null,
   "id": "4aa437c6-8ef5-4972-b7f7-0f5b18263541",
   "metadata": {
    "execution": {
     "iopub.execute_input": "2024-08-12T03:24:07.061747Z",
     "iopub.status.busy": "2024-08-12T03:24:07.061446Z",
     "iopub.status.idle": "2024-08-12T03:24:07.077318Z",
     "shell.execute_reply": "2024-08-12T03:24:07.076361Z",
     "shell.execute_reply.started": "2024-08-12T03:24:07.061720Z"
    }
   },
   "outputs": [],
   "source": [
    "qa_df[qa_df['score'] == 3]"
   ]
  },
  {
   "cell_type": "code",
   "execution_count": null,
   "id": "47bec872-26ec-4265-830e-2a7024f78e6a",
   "metadata": {
    "execution": {
     "iopub.execute_input": "2024-08-12T03:24:07.078644Z",
     "iopub.status.busy": "2024-08-12T03:24:07.078354Z",
     "iopub.status.idle": "2024-08-12T03:24:07.092133Z",
     "shell.execute_reply": "2024-08-12T03:24:07.091155Z",
     "shell.execute_reply.started": "2024-08-12T03:24:07.078617Z"
    }
   },
   "outputs": [],
   "source": [
    "qa_df[qa_df['score'] == 2]"
   ]
  },
  {
   "cell_type": "code",
   "execution_count": 118,
   "id": "7006df8c-b6dc-4133-8211-00bc4d44f208",
   "metadata": {
    "execution": {
     "iopub.execute_input": "2024-08-12T03:24:07.093416Z",
     "iopub.status.busy": "2024-08-12T03:24:07.093126Z",
     "iopub.status.idle": "2024-08-12T03:24:07.098466Z",
     "shell.execute_reply": "2024-08-12T03:24:07.097665Z",
     "shell.execute_reply.started": "2024-08-12T03:24:07.093388Z"
    }
   },
   "outputs": [],
   "source": [
    "hq_qa_df = qa_df[qa_df['score'] >= 4]"
   ]
  },
  {
   "cell_type": "code",
   "execution_count": null,
   "id": "2acc6df0-c856-4a70-b59e-2258d980f3e0",
   "metadata": {
    "execution": {
     "iopub.execute_input": "2024-08-12T03:24:07.099731Z",
     "iopub.status.busy": "2024-08-12T03:24:07.099437Z",
     "iopub.status.idle": "2024-08-12T03:24:07.106155Z",
     "shell.execute_reply": "2024-08-12T03:24:07.105209Z",
     "shell.execute_reply.started": "2024-08-12T03:24:07.099703Z"
    }
   },
   "outputs": [],
   "source": [
    "hq_qa_df.shape"
   ]
  },
  {
   "cell_type": "code",
   "execution_count": 120,
   "id": "9c14fa29-262f-449c-9c76-2b1240df7851",
   "metadata": {
    "execution": {
     "iopub.execute_input": "2024-08-12T03:24:07.107625Z",
     "iopub.status.busy": "2024-08-12T03:24:07.107333Z",
     "iopub.status.idle": "2024-08-12T03:24:07.113266Z",
     "shell.execute_reply": "2024-08-12T03:24:07.112432Z",
     "shell.execute_reply.started": "2024-08-12T03:24:07.107597Z"
    }
   },
   "outputs": [],
   "source": [
    "test_q = hq_qa_df.sample(100, replace=False)['question'].values.tolist()"
   ]
  },
  {
   "cell_type": "code",
   "execution_count": null,
   "id": "07d3b615-0078-415f-9ec3-c2ea3c1a439a",
   "metadata": {
    "execution": {
     "iopub.execute_input": "2024-08-12T03:24:07.114484Z",
     "iopub.status.busy": "2024-08-12T03:24:07.114198Z",
     "iopub.status.idle": "2024-08-12T03:24:07.122962Z",
     "shell.execute_reply": "2024-08-12T03:24:07.122056Z",
     "shell.execute_reply.started": "2024-08-12T03:24:07.114457Z"
    }
   },
   "outputs": [],
   "source": [
    "hq_qa_df['dataset'] = 'train'\n",
    "hq_qa_df.loc[hq_qa_df['question'].isin(test_q), 'dataset'] = 'test'"
   ]
  },
  {
   "cell_type": "code",
   "execution_count": null,
   "id": "1f9802d2-6926-42d9-8acf-a6c725a6ce59",
   "metadata": {
    "execution": {
     "iopub.execute_input": "2024-08-12T03:24:07.124290Z",
     "iopub.status.busy": "2024-08-12T03:24:07.123854Z",
     "iopub.status.idle": "2024-08-12T03:24:07.139633Z",
     "shell.execute_reply": "2024-08-12T03:24:07.138682Z",
     "shell.execute_reply.started": "2024-08-12T03:24:07.124261Z"
    }
   },
   "outputs": [],
   "source": [
    "hq_qa_df.sample(10)"
   ]
  },
  {
   "cell_type": "code",
   "execution_count": null,
   "id": "3e849f7b",
   "metadata": {},
   "outputs": [],
   "source": [
    "%pip install openpyxl"
   ]
  },
  {
   "cell_type": "code",
   "execution_count": 126,
   "id": "952b1457-1b1b-49dc-8df3-ceb505faa1b5",
   "metadata": {
    "execution": {
     "iopub.execute_input": "2024-08-12T03:24:07.140822Z",
     "iopub.status.busy": "2024-08-12T03:24:07.140540Z",
     "iopub.status.idle": "2024-08-12T03:24:07.393872Z",
     "shell.execute_reply": "2024-08-12T03:24:07.393354Z",
     "shell.execute_reply.started": "2024-08-12T03:24:07.140794Z"
    }
   },
   "outputs": [],
   "source": [
    "hq_qa_df.to_excel(os.path.join(output_dir, f'question_answer.xlsx'), index=False)"
   ]
  },
  {
   "cell_type": "code",
   "execution_count": null,
   "id": "217082f7-bcd6-418f-afd5-d36ca3485691",
   "metadata": {},
   "outputs": [],
   "source": []
  }
 ],
 "metadata": {
  "kernelspec": {
   "display_name": "gold-yolo",
   "language": "python",
   "name": "python3"
  },
  "language_info": {
   "codemirror_mode": {
    "name": "ipython",
    "version": 3
   },
   "file_extension": ".py",
   "mimetype": "text/x-python",
   "name": "python",
   "nbconvert_exporter": "python",
   "pygments_lexer": "ipython3",
   "version": "3.8.17"
  }
 },
 "nbformat": 4,
 "nbformat_minor": 5
}
