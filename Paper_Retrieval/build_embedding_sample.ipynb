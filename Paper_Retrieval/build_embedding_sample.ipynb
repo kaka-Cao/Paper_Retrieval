{
 "cells": [
  {
   "cell_type": "code",
   "execution_count": 1,
   "id": "43d2ea6b-6ec7-402f-a091-b7e97013c407",
   "metadata": {
    "execution": {
     "iopub.execute_input": "2024-07-13T07:17:50.420858Z",
     "iopub.status.busy": "2024-07-13T07:17:50.420659Z",
     "iopub.status.idle": "2024-07-13T07:17:50.657039Z",
     "shell.execute_reply": "2024-07-13T07:17:50.656574Z",
     "shell.execute_reply.started": "2024-07-13T07:17:50.420838Z"
    }
   },
   "outputs": [],
   "source": [
    "import pandas as pd\n",
    "import json\n",
    "import pickle\n",
    "import os"
   ]
  },
  {
   "cell_type": "code",
   "execution_count": 2,
   "id": "6c9f4122-aa57-49b3-bd54-dc4c5c7b98aa",
   "metadata": {
    "execution": {
     "iopub.execute_input": "2024-07-13T07:17:51.168108Z",
     "iopub.status.busy": "2024-07-13T07:17:51.167858Z",
     "iopub.status.idle": "2024-07-13T07:17:51.170853Z",
     "shell.execute_reply": "2024-07-13T07:17:51.170534Z",
     "shell.execute_reply.started": "2024-07-13T07:17:51.168094Z"
    }
   },
   "outputs": [],
   "source": [
    "# dt = '20240713'\n",
    "# version = 'v1'\n",
    "\n",
    "# output_dir = os.path.join('outputs', f'{version}_{dt}')\n",
    "output_dir = r\"\"\n",
    "os.makedirs(output_dir, exist_ok=True)"
   ]
  },
  {
   "cell_type": "markdown",
   "id": "87992b21-3165-4175-9fd7-eca3cef26fe1",
   "metadata": {},
   "source": [
    "# 加载文档片段"
   ]
  },
  {
   "cell_type": "code",
   "execution_count": 3,
   "id": "f059b69b-b8e0-4370-b026-c42c3351f203",
   "metadata": {
    "execution": {
     "iopub.execute_input": "2024-07-13T07:17:52.407304Z",
     "iopub.status.busy": "2024-07-13T07:17:52.407110Z",
     "iopub.status.idle": "2024-07-13T07:17:53.835246Z",
     "shell.execute_reply": "2024-07-13T07:17:53.834773Z",
     "shell.execute_reply.started": "2024-07-13T07:17:52.407291Z"
    }
   },
   "outputs": [
    {
     "name": "stderr",
     "output_type": "stream",
     "text": [
      "d:\\Anaconda\\envs\\gold-yolo\\lib\\site-packages\\pypdf\\_crypt_providers\\_cryptography.py:32: CryptographyDeprecationWarning: ARC4 has been moved to cryptography.hazmat.decrepit.ciphers.algorithms.ARC4 and will be removed from this module in 48.0.0.\n",
      "  from cryptography.hazmat.primitives.ciphers.algorithms import AES, ARC4\n"
     ]
    }
   ],
   "source": [
    "from langchain_community.document_loaders import PyPDFLoader\n",
    "\n",
    "loader = PyPDFLoader(r\"\")\n",
    "documents = loader.load()"
   ]
  },
  {
   "cell_type": "code",
   "execution_count": 5,
   "id": "ff9e807a-669c-4023-8f6a-080f68ffb4a7",
   "metadata": {
    "execution": {
     "iopub.execute_input": "2024-07-13T07:17:53.836130Z",
     "iopub.status.busy": "2024-07-13T07:17:53.835996Z",
     "iopub.status.idle": "2024-07-13T07:17:53.843534Z",
     "shell.execute_reply": "2024-07-13T07:17:53.843091Z",
     "shell.execute_reply.started": "2024-07-13T07:17:53.836117Z"
    }
   },
   "outputs": [
    {
     "name": "stdout",
     "output_type": "stream",
     "text": [
      "found cache, restoring...\n"
     ]
    }
   ],
   "source": [
    "from uuid import uuid4\n",
    "import os\n",
    "import pickle\n",
    "from langchain.text_splitter import RecursiveCharacterTextSplitter\n",
    "\n",
    "def split_docs(documents, filepath, chunk_size=400, chunk_overlap=40, seperators=['\\n\\n\\n', '\\n\\n'], force_split=False):\n",
    "    if os.path.exists(filepath) and not force_split:\n",
    "        print('found cache, restoring...')\n",
    "        return pickle.load(open(filepath, 'rb'))\n",
    "\n",
    "    splitter = RecursiveCharacterTextSplitter(\n",
    "        chunk_size=chunk_size,\n",
    "        chunk_overlap=chunk_overlap,\n",
    "        separators=seperators\n",
    "    )\n",
    "    split_docs = splitter.split_documents(documents)\n",
    "    for chunk in split_docs:\n",
    "        chunk.metadata['uuid'] = str(uuid4())\n",
    "\n",
    "    pickle.dump(split_docs, open(filepath, 'wb'))\n",
    "\n",
    "    return split_docs\n",
    "\n",
    "splitted_docs = split_docs(documents, os.path.join(output_dir, 'split_docs.pkl'), chunk_size=500, chunk_overlap=50)"
   ]
  },
  {
   "cell_type": "code",
   "execution_count": 6,
   "id": "85aa6ae7-ae2b-48f0-9005-a89c442da798",
   "metadata": {
    "execution": {
     "iopub.execute_input": "2024-07-13T07:17:54.928228Z",
     "iopub.status.busy": "2024-07-13T07:17:54.928027Z",
     "iopub.status.idle": "2024-07-13T07:17:54.930652Z",
     "shell.execute_reply": "2024-07-13T07:17:54.930315Z",
     "shell.execute_reply.started": "2024-07-13T07:17:54.928215Z"
    }
   },
   "outputs": [],
   "source": [
    "uuid2doc = {doc.metadata['uuid']: doc for doc in splitted_docs}"
   ]
  },
  {
   "cell_type": "code",
   "execution_count": 8,
   "id": "af6a39a1-3f66-40ee-8606-d5fff4b6a78d",
   "metadata": {
    "execution": {
     "iopub.execute_input": "2024-07-13T07:17:55.264608Z",
     "iopub.status.busy": "2024-07-13T07:17:55.264407Z",
     "iopub.status.idle": "2024-07-13T07:17:55.269073Z",
     "shell.execute_reply": "2024-07-13T07:17:55.268602Z",
     "shell.execute_reply.started": "2024-07-13T07:17:55.264595Z"
    }
   },
   "outputs": [
    {
     "data": {
      "text/plain": [
       "107"
      ]
     },
     "execution_count": 8,
     "metadata": {},
     "output_type": "execute_result"
    }
   ],
   "source": [
    "len(uuid2doc)"
   ]
  },
  {
   "cell_type": "markdown",
   "id": "28404415-6040-4865-a5e5-4d06e7a41161",
   "metadata": {},
   "source": [
    "# 加载抽取的QA"
   ]
  },
  {
   "cell_type": "code",
   "execution_count": 9,
   "id": "5f3c2843-b4d3-498e-ac31-77aa53300a13",
   "metadata": {
    "execution": {
     "iopub.execute_input": "2024-07-13T07:17:56.233162Z",
     "iopub.status.busy": "2024-07-13T07:17:56.232980Z",
     "iopub.status.idle": "2024-07-13T07:17:56.343410Z",
     "shell.execute_reply": "2024-07-13T07:17:56.342878Z",
     "shell.execute_reply.started": "2024-07-13T07:17:56.233149Z"
    },
    "scrolled": true
   },
   "outputs": [],
   "source": [
    "qa_df = pd.read_excel(os.path.join(output_dir, f'question_answer.xlsx'))\n",
    "qa_df = qa_df[qa_df['dataset'] == 'train']"
   ]
  },
  {
   "cell_type": "code",
   "execution_count": 10,
   "id": "a158474b-c72d-4298-8afd-ccc86952eead",
   "metadata": {
    "execution": {
     "iopub.execute_input": "2024-07-13T07:17:56.839887Z",
     "iopub.status.busy": "2024-07-13T07:17:56.839617Z",
     "iopub.status.idle": "2024-07-13T07:17:56.842948Z",
     "shell.execute_reply": "2024-07-13T07:17:56.842630Z",
     "shell.execute_reply.started": "2024-07-13T07:17:56.839873Z"
    }
   },
   "outputs": [
    {
     "data": {
      "text/plain": [
       "516"
      ]
     },
     "execution_count": 10,
     "metadata": {},
     "output_type": "execute_result"
    }
   ],
   "source": [
    "len(qa_df)"
   ]
  },
  {
   "cell_type": "code",
   "execution_count": 12,
   "id": "3aaf76f5-036a-49e9-972d-aac1af966a99",
   "metadata": {
    "execution": {
     "iopub.execute_input": "2024-07-13T07:17:57.176784Z",
     "iopub.status.busy": "2024-07-13T07:17:57.176583Z",
     "iopub.status.idle": "2024-07-13T07:17:57.184647Z",
     "shell.execute_reply": "2024-07-13T07:17:57.184308Z",
     "shell.execute_reply.started": "2024-07-13T07:17:57.176770Z"
    }
   },
   "outputs": [
    {
     "data": {
      "text/html": [
       "<div>\n",
       "<style scoped>\n",
       "    .dataframe tbody tr th:only-of-type {\n",
       "        vertical-align: middle;\n",
       "    }\n",
       "\n",
       "    .dataframe tbody tr th {\n",
       "        vertical-align: top;\n",
       "    }\n",
       "\n",
       "    .dataframe thead th {\n",
       "        text-align: right;\n",
       "    }\n",
       "</style>\n",
       "<table border=\"1\" class=\"dataframe\">\n",
       "  <thead>\n",
       "    <tr style=\"text-align: right;\">\n",
       "      <th></th>\n",
       "      <th>uuid</th>\n",
       "      <th>question</th>\n",
       "      <th>answer</th>\n",
       "      <th>context</th>\n",
       "      <th>doc</th>\n",
       "      <th>qa_type</th>\n",
       "      <th>score</th>\n",
       "      <th>score_reason</th>\n",
       "      <th>dataset</th>\n",
       "    </tr>\n",
       "  </thead>\n",
       "  <tbody>\n",
       "    <tr>\n",
       "      <th>0</th>\n",
       "      <td>805948dc-9161-4357-b2b7-bb88784386f5</td>\n",
       "      <td>Who are the authors of the document?</td>\n",
       "      <td>Kartik Kuckreja, Muhammad Sohail Danish, Muzam...</td>\n",
       "      <td>Kartik Kuckreja1, 2* Muhammad Sohail Danish1*M...</td>\n",
       "      <td>GeoChat\\n : Grounded Large Vision-Language Mod...</td>\n",
       "      <td>detailed</td>\n",
       "      <td>5</td>\n",
       "      <td>The question is clear and specific, and the an...</td>\n",
       "      <td>train</td>\n",
       "    </tr>\n",
       "    <tr>\n",
       "      <th>1</th>\n",
       "      <td>805948dc-9161-4357-b2b7-bb88784386f5</td>\n",
       "      <td>Which institutions are the authors affiliated ...</td>\n",
       "      <td>Mohamed bin Zayed University of AI, Birla Inst...</td>\n",
       "      <td>1Mohamed bin Zayed University of AI,2Birla Ins...</td>\n",
       "      <td>GeoChat\\n : Grounded Large Vision-Language Mod...</td>\n",
       "      <td>detailed</td>\n",
       "      <td>5</td>\n",
       "      <td>The question asks for specific factual informa...</td>\n",
       "      <td>train</td>\n",
       "    </tr>\n",
       "    <tr>\n",
       "      <th>2</th>\n",
       "      <td>805948dc-9161-4357-b2b7-bb88784386f5</td>\n",
       "      <td>What type of model is GeoChat?</td>\n",
       "      <td>Grounded Large Vision-Language Model</td>\n",
       "      <td>GeoChat : Grounded Large Vision-Language Model...</td>\n",
       "      <td>GeoChat\\n : Grounded Large Vision-Language Mod...</td>\n",
       "      <td>detailed</td>\n",
       "      <td>5</td>\n",
       "      <td>The question is clear and specific, and the an...</td>\n",
       "      <td>train</td>\n",
       "    </tr>\n",
       "  </tbody>\n",
       "</table>\n",
       "</div>"
      ],
      "text/plain": [
       "                                   uuid  \\\n",
       "0  805948dc-9161-4357-b2b7-bb88784386f5   \n",
       "1  805948dc-9161-4357-b2b7-bb88784386f5   \n",
       "2  805948dc-9161-4357-b2b7-bb88784386f5   \n",
       "\n",
       "                                            question  \\\n",
       "0               Who are the authors of the document?   \n",
       "1  Which institutions are the authors affiliated ...   \n",
       "2                     What type of model is GeoChat?   \n",
       "\n",
       "                                              answer  \\\n",
       "0  Kartik Kuckreja, Muhammad Sohail Danish, Muzam...   \n",
       "1  Mohamed bin Zayed University of AI, Birla Inst...   \n",
       "2               Grounded Large Vision-Language Model   \n",
       "\n",
       "                                             context  \\\n",
       "0  Kartik Kuckreja1, 2* Muhammad Sohail Danish1*M...   \n",
       "1  1Mohamed bin Zayed University of AI,2Birla Ins...   \n",
       "2  GeoChat : Grounded Large Vision-Language Model...   \n",
       "\n",
       "                                                 doc   qa_type  score  \\\n",
       "0  GeoChat\\n : Grounded Large Vision-Language Mod...  detailed      5   \n",
       "1  GeoChat\\n : Grounded Large Vision-Language Mod...  detailed      5   \n",
       "2  GeoChat\\n : Grounded Large Vision-Language Mod...  detailed      5   \n",
       "\n",
       "                                        score_reason dataset  \n",
       "0  The question is clear and specific, and the an...   train  \n",
       "1  The question asks for specific factual informa...   train  \n",
       "2  The question is clear and specific, and the an...   train  "
      ]
     },
     "execution_count": 12,
     "metadata": {},
     "output_type": "execute_result"
    }
   ],
   "source": [
    "qa_df.head(3)"
   ]
  },
  {
   "cell_type": "code",
   "execution_count": 13,
   "id": "2bdddb35-1f2f-4452-9e9f-3a1f58b8f944",
   "metadata": {
    "execution": {
     "iopub.execute_input": "2024-07-13T07:17:57.537829Z",
     "iopub.status.busy": "2024-07-13T07:17:57.537617Z",
     "iopub.status.idle": "2024-07-13T07:17:57.541173Z",
     "shell.execute_reply": "2024-07-13T07:17:57.540787Z",
     "shell.execute_reply.started": "2024-07-13T07:17:57.537816Z"
    }
   },
   "outputs": [
    {
     "data": {
      "text/plain": [
       "516"
      ]
     },
     "execution_count": 13,
     "metadata": {},
     "output_type": "execute_result"
    }
   ],
   "source": [
    "qa_df['question'].nunique()"
   ]
  },
  {
   "cell_type": "code",
   "execution_count": 14,
   "id": "09f653b2-ddaa-46c6-9279-0b5311fd5bfc",
   "metadata": {
    "execution": {
     "iopub.execute_input": "2024-07-13T07:17:59.268108Z",
     "iopub.status.busy": "2024-07-13T07:17:59.267914Z",
     "iopub.status.idle": "2024-07-13T07:17:59.271316Z",
     "shell.execute_reply": "2024-07-13T07:17:59.270928Z",
     "shell.execute_reply.started": "2024-07-13T07:17:59.268095Z"
    }
   },
   "outputs": [],
   "source": [
    "qa_df = qa_df.drop_duplicates('question')"
   ]
  },
  {
   "cell_type": "code",
   "execution_count": 15,
   "id": "677e8d33-65f6-4722-899e-b8d3ad20f636",
   "metadata": {
    "execution": {
     "iopub.execute_input": "2024-07-13T07:17:59.607326Z",
     "iopub.status.busy": "2024-07-13T07:17:59.607159Z",
     "iopub.status.idle": "2024-07-13T07:17:59.610434Z",
     "shell.execute_reply": "2024-07-13T07:17:59.609974Z",
     "shell.execute_reply.started": "2024-07-13T07:17:59.607312Z"
    }
   },
   "outputs": [
    {
     "data": {
      "text/plain": [
       "516"
      ]
     },
     "execution_count": 15,
     "metadata": {},
     "output_type": "execute_result"
    }
   ],
   "source": [
    "len(qa_df)"
   ]
  },
  {
   "cell_type": "code",
   "execution_count": 16,
   "id": "59ca40a4-e5f2-4914-9efd-3ae4a8656de0",
   "metadata": {
    "execution": {
     "iopub.execute_input": "2024-07-13T07:17:59.899780Z",
     "iopub.status.busy": "2024-07-13T07:17:59.899585Z",
     "iopub.status.idle": "2024-07-13T07:17:59.903758Z",
     "shell.execute_reply": "2024-07-13T07:17:59.903445Z",
     "shell.execute_reply.started": "2024-07-13T07:17:59.899767Z"
    }
   },
   "outputs": [
    {
     "data": {
      "text/plain": [
       "uuid            0\n",
       "question        0\n",
       "answer          0\n",
       "context         4\n",
       "doc             0\n",
       "qa_type         0\n",
       "score           0\n",
       "score_reason    0\n",
       "dataset         0\n",
       "dtype: int64"
      ]
     },
     "execution_count": 16,
     "metadata": {},
     "output_type": "execute_result"
    }
   ],
   "source": [
    "qa_df.isnull().sum()"
   ]
  },
  {
   "cell_type": "code",
   "execution_count": 17,
   "id": "ebc9b5f0-3555-4f36-aee0-5647f7195850",
   "metadata": {
    "execution": {
     "iopub.execute_input": "2024-07-13T07:18:00.461187Z",
     "iopub.status.busy": "2024-07-13T07:18:00.461018Z",
     "iopub.status.idle": "2024-07-13T07:18:00.465681Z",
     "shell.execute_reply": "2024-07-13T07:18:00.465317Z",
     "shell.execute_reply.started": "2024-07-13T07:18:00.461174Z"
    }
   },
   "outputs": [],
   "source": [
    "def build_qa_samples(df, neg_batch_size=-1, n_neg_batch=5):\n",
    "    \"\"\"\n",
    "    构建qa样本\n",
    "    :param df: 包含qa的DataFrame，共两列，question和answer\n",
    "    :param neg_batch_size: 负样本数量，为-1时表示将所有负样本和单个正样本配对，否则会将负样本拆开，结果中的query可能会重复\n",
    "    \"\"\"\n",
    "    from tqdm.auto import tqdm\n",
    "    import math\n",
    "\n",
    "    data = []\n",
    "    for idx, row in tqdm(df.iterrows(), total=len(df)):\n",
    "        question = row['question']\n",
    "        answer = row['answer']\n",
    "        # 筛选同category的，增加难度\n",
    "        neg_samples = df[df['question'] != question]['answer'].values.tolist()\n",
    "        neg_batch_count = math.ceil((len(df) - 1) / neg_batch_size)\n",
    "        neg_batch_count = min(n_neg_batch, neg_batch_count)\n",
    "        for neg_batch_idx in range(neg_batch_count):\n",
    "            batch_neg_samples = neg_samples[neg_batch_idx * neg_batch_size: (neg_batch_idx + 1) * neg_batch_size]\n",
    "            batch_neg_samples = [item for item in batch_neg_samples if item != answer]\n",
    "            data.append({\n",
    "                'query': question,\n",
    "                'pos': [answer],\n",
    "                'neg': batch_neg_samples\n",
    "            })\n",
    "    return data\n",
    "\n",
    "def write_samples(samples, save_filename):\n",
    "    import json\n",
    "\n",
    "    with open(save_filename, 'w') as f:\n",
    "        for sample in samples:\n",
    "            f.write(json.dumps(sample, ensure_ascii=False))\n",
    "            f.write('\\n')"
   ]
  },
  {
   "cell_type": "code",
   "execution_count": 19,
   "id": "afd9ef1d-7321-468c-8b44-a4c5b509e195",
   "metadata": {
    "execution": {
     "iopub.execute_input": "2024-07-13T07:18:02.135815Z",
     "iopub.status.busy": "2024-07-13T07:18:02.135646Z",
     "iopub.status.idle": "2024-07-13T07:18:02.138940Z",
     "shell.execute_reply": "2024-07-13T07:18:02.138473Z",
     "shell.execute_reply.started": "2024-07-13T07:18:02.135801Z"
    }
   },
   "outputs": [
    {
     "data": {
      "text/plain": [
       "516"
      ]
     },
     "execution_count": 19,
     "metadata": {},
     "output_type": "execute_result"
    }
   ],
   "source": [
    "len(qa_df)"
   ]
  },
  {
   "cell_type": "code",
   "execution_count": 22,
   "id": "b845be72-32e5-4610-a394-acfa4ee2ee70",
   "metadata": {
    "execution": {
     "iopub.execute_input": "2024-07-13T07:18:53.287644Z",
     "iopub.status.busy": "2024-07-13T07:18:53.287466Z",
     "iopub.status.idle": "2024-07-13T07:18:53.373966Z",
     "shell.execute_reply": "2024-07-13T07:18:53.373566Z",
     "shell.execute_reply.started": "2024-07-13T07:18:53.287631Z"
    }
   },
   "outputs": [
    {
     "name": "stderr",
     "output_type": "stream",
     "text": [
      "d:\\Anaconda\\envs\\gold-yolo\\lib\\site-packages\\tqdm\\auto.py:21: TqdmWarning: IProgress not found. Please update jupyter and ipywidgets. See https://ipywidgets.readthedocs.io/en/stable/user_install.html\n",
      "  from .autonotebook import tqdm as notebook_tqdm\n",
      "100%|██████████| 516/516 [00:00<00:00, 3061.48it/s]\n"
     ]
    }
   ],
   "source": [
    "qa_df = qa_df[qa_df['qa_type'] == 'detailed']\n",
    "qa_df['answer'] = qa_df['context']\n",
    "\n",
    "qd_samples = build_qa_samples(qa_df, neg_batch_size=16, n_neg_batch=32)"
   ]
  },
  {
   "cell_type": "code",
   "execution_count": 23,
   "id": "095ab72c-23f3-41f3-8368-68634480e55e",
   "metadata": {
    "execution": {
     "iopub.execute_input": "2024-07-13T07:18:54.939134Z",
     "iopub.status.busy": "2024-07-13T07:18:54.938932Z",
     "iopub.status.idle": "2024-07-13T07:18:54.942451Z",
     "shell.execute_reply": "2024-07-13T07:18:54.941902Z",
     "shell.execute_reply.started": "2024-07-13T07:18:54.939120Z"
    }
   },
   "outputs": [
    {
     "data": {
      "text/plain": [
       "16512"
      ]
     },
     "execution_count": 23,
     "metadata": {},
     "output_type": "execute_result"
    }
   ],
   "source": [
    "len(qd_samples)"
   ]
  },
  {
   "cell_type": "code",
   "execution_count": 24,
   "id": "5061fd80-c76c-4d11-b71e-221b61eb169d",
   "metadata": {
    "execution": {
     "iopub.execute_input": "2024-07-13T07:18:56.791151Z",
     "iopub.status.busy": "2024-07-13T07:18:56.790941Z",
     "iopub.status.idle": "2024-07-13T07:18:56.794655Z",
     "shell.execute_reply": "2024-07-13T07:18:56.794103Z",
     "shell.execute_reply.started": "2024-07-13T07:18:56.791138Z"
    }
   },
   "outputs": [
    {
     "data": {
      "text/plain": [
       "{'query': 'Who are the authors of the document?',\n",
       " 'pos': ['Kartik Kuckreja1, 2* Muhammad Sohail Danish1*Muzammal Naseer1 Abhijit Das2 Salman Khan1, 3 Fahad Shahbaz Khan1, 4'],\n",
       " 'neg': ['1Mohamed bin Zayed University of AI,2Birla Institute of Technology & Science, Hyderabad 3Australian National University,4Link ¨oping University',\n",
       "  'GeoChat : Grounded Large Vision-Language Model for Remote Sensing',\n",
       "  'GeoChat : Grounded Large Vision-Language Model for Remote Sensing',\n",
       "  'Recent advancements in Large Vision-Language Mod- els (VLMs) have shown great promise in natural image do-',\n",
       "  'mains, allowing users to hold a dialogue about given vi-sual content. However, such general-domain VLMs perform poorly for Remote Sensing (RS) scenarios, leading to inac- curate or fabricated information when presented with RS domain-specific queries.',\n",
       "  'Such a behavior emerges due to the unique challenges introduced by RS imagery. For exam- ple, to handle high-resolution RS imagery with diverse scale changes across categories and many small objects, region-',\n",
       "  'Such a behavior emerges due to the unique challenges introduced by RS imagery. For exam- ple, to handle high-resolution RS imagery with diverse scale changes across categories and many small objects, region-',\n",
       "  'Such a behavior emerges due to the unique challenges introduced by RS imagery. For exam- ple, to handle high-resolution RS imagery with diverse scale changes across categories and many small objects, region-',\n",
       "  'Such a behavior emerges due to the unique challenges introduced by RS imagery. For exam- ple, to handle high-resolution RS imagery with diverse scale changes across categories and many small objects, region-',\n",
       "  'Furthermore, the lack of domain-specific mul- timodal instruction following data as well as strong back- bone models for RS make it hard for the models to align their behavior with user queries.',\n",
       "  'GeoChat - the first versatile remote sensing VLM that offers multitask conversational capabil- ities with high-resolution RS images.',\n",
       "  'we propose GeoChat - the first versatile remote sensing VLM that offers multitask conversational capabil- ities with high-resolution RS images.',\n",
       "  'Furthermore, the lack of domain-specific mul- timodal instruction following data as well as strong back- bone models for RS make it hard for the models to align their behavior with user queries.',\n",
       "  'Specifically, GeoChat',\n",
       "  'can not only answer image-level queries but also accepts region inputs to hold region-specific dialogue.',\n",
       "  'To address the lack of domain-specific datasets, we generate a novel RS multimimodal instruction-following dataset by extending image-text pairs from existing diverse RS datasets.']}"
      ]
     },
     "execution_count": 24,
     "metadata": {},
     "output_type": "execute_result"
    }
   ],
   "source": [
    "qd_samples[0]"
   ]
  },
  {
   "cell_type": "code",
   "execution_count": 25,
   "id": "db4fe418-a520-466e-ab37-8a38bf9719e1",
   "metadata": {
    "execution": {
     "iopub.execute_input": "2024-07-13T07:19:00.294057Z",
     "iopub.status.busy": "2024-07-13T07:19:00.293852Z",
     "iopub.status.idle": "2024-07-13T07:19:01.227561Z",
     "shell.execute_reply": "2024-07-13T07:19:01.227060Z",
     "shell.execute_reply.started": "2024-07-13T07:19:00.294044Z"
    }
   },
   "outputs": [],
   "source": [
    "write_samples(qd_samples, os.path.join(output_dir, 'emb_samples_qd_v2.jsonl'))"
   ]
  },
  {
   "cell_type": "code",
   "execution_count": null,
   "id": "39f716f3-ee5c-4d0f-a522-5d32e6311160",
   "metadata": {},
   "outputs": [],
   "source": []
  }
 ],
 "metadata": {
  "kernelspec": {
   "display_name": "gold-yolo",
   "language": "python",
   "name": "python3"
  },
  "language_info": {
   "codemirror_mode": {
    "name": "ipython",
    "version": 3
   },
   "file_extension": ".py",
   "mimetype": "text/x-python",
   "name": "python",
   "nbconvert_exporter": "python",
   "pygments_lexer": "ipython3",
   "version": "3.8.17"
  }
 },
 "nbformat": 4,
 "nbformat_minor": 5
}
