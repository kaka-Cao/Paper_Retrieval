{
 "cells": [
  {
   "cell_type": "code",
   "execution_count": 1,
   "id": "41018985-0127-4157-b694-8805685500ad",
   "metadata": {
    "execution": {
     "iopub.execute_input": "2024-08-27T15:08:15.581115Z",
     "iopub.status.busy": "2024-08-27T15:08:15.580355Z",
     "iopub.status.idle": "2024-08-27T15:08:15.588687Z",
     "shell.execute_reply": "2024-08-27T15:08:15.588337Z",
     "shell.execute_reply.started": "2024-08-27T15:08:15.581022Z"
    }
   },
   "outputs": [
    {
     "name": "stdout",
     "output_type": "stream",
     "text": [
      "env: LLM_BASE_URL=https://dashscope.aliyuncs.com/compatible-mode/v1\n",
      "env: LLM_API_KEY=<替换为自己的key>\n"
     ]
    }
   ],
   "source": [
    "# %env LLM_BASE_URL=https://dashscope.aliyuncs.com/compatible-mode/v1\n",
    "# %env LLM_API_KEY=<替换为自己的key>"
   ]
  },
  {
   "cell_type": "code",
   "execution_count": 36,
   "id": "d48b549b-48b5-4e8c-bdb6-458ebb393f4f",
   "metadata": {
    "execution": {
     "iopub.execute_input": "2024-08-15T15:31:14.379962Z",
     "iopub.status.busy": "2024-08-15T15:31:14.379744Z",
     "iopub.status.idle": "2024-08-15T15:31:14.382426Z",
     "shell.execute_reply": "2024-08-15T15:31:14.381983Z",
     "shell.execute_reply.started": "2024-08-15T15:31:14.379944Z"
    }
   },
   "outputs": [],
   "source": [
    "# %%capture --no-stderr\n",
    "# !pip install -U langchain langchain_community langchain_openai pypdf sentence_transformers chromadb shutil openpyxl rank_bm25 jieba"
   ]
  },
  {
   "cell_type": "code",
   "execution_count": 37,
   "id": "df8dd3ad-e795-4479-8c8c-900191f01c86",
   "metadata": {
    "execution": {
     "iopub.execute_input": "2024-08-15T15:31:15.674614Z",
     "iopub.status.busy": "2024-08-15T15:31:15.673838Z",
     "iopub.status.idle": "2024-08-15T15:31:15.685895Z",
     "shell.execute_reply": "2024-08-15T15:31:15.683708Z",
     "shell.execute_reply.started": "2024-08-15T15:31:15.674545Z"
    }
   },
   "outputs": [
    {
     "name": "stdout",
     "output_type": "stream",
     "text": [
      "langchain                     0.2.10\n",
      "langchain_core                0.2.28\n",
      "langchain_community           0.2.9\n",
      "pypdf                         4.3.1\n",
      "sentence_transformers         3.0.1\n",
      "chromadb                      0.5.4\n"
     ]
    }
   ],
   "source": [
    "# import langchain, langchain_community, pypdf, sentence_transformers, chromadb, langchain_core\n",
    "\n",
    "# for module in (langchain, langchain_core, langchain_community, pypdf, sentence_transformers, chromadb):\n",
    "#     print(f\"{module.__name__:<30}{module.__version__}\")"
   ]
  },
  {
   "cell_type": "code",
   "execution_count": 38,
   "id": "1e2c72b8-ee12-4130-af88-699998aa230c",
   "metadata": {
    "execution": {
     "iopub.execute_input": "2024-08-15T15:31:17.727493Z",
     "iopub.status.busy": "2024-08-15T15:31:17.727063Z",
     "iopub.status.idle": "2024-08-15T15:31:17.731504Z",
     "shell.execute_reply": "2024-08-15T15:31:17.730488Z",
     "shell.execute_reply.started": "2024-08-15T15:31:17.727462Z"
    }
   },
   "outputs": [],
   "source": [
    "import os\n",
    "import pandas as pd"
   ]
  },
  {
   "cell_type": "code",
   "execution_count": 48,
   "id": "841d2b02-ad06-40d2-b11f-c7adccec6ca2",
   "metadata": {
    "execution": {
     "iopub.execute_input": "2024-08-15T15:32:20.561262Z",
     "iopub.status.busy": "2024-08-15T15:32:20.560462Z",
     "iopub.status.idle": "2024-08-15T15:32:20.570632Z",
     "shell.execute_reply": "2024-08-15T15:32:20.568901Z",
     "shell.execute_reply.started": "2024-08-15T15:32:20.561189Z"
    }
   },
   "outputs": [],
   "source": [
    "expr_version = 'retrieval_v4_bm25_hybrid'\n",
    "\n",
    "preprocess_output_dir = os.path.join(os.path.pardir, 'outputs', 'v1_20240713')\n",
    "expr_dir = os.path.join(os.path.pardir, 'experiments', expr_version)"
   ]
  },
  {
   "cell_type": "markdown",
   "id": "cf7e81e3-4c82-4842-aef5-7592caaf1d39",
   "metadata": {},
   "source": [
    "# 读取文档"
   ]
  },
  {
   "cell_type": "code",
   "execution_count": 49,
   "id": "da15f02e-3131-43fb-81c5-f4da615c449b",
   "metadata": {
    "execution": {
     "iopub.execute_input": "2024-08-15T15:32:21.761390Z",
     "iopub.status.busy": "2024-08-15T15:32:21.760601Z",
     "iopub.status.idle": "2024-08-15T15:32:21.770836Z",
     "shell.execute_reply": "2024-08-15T15:32:21.768477Z",
     "shell.execute_reply.started": "2024-08-15T15:32:21.761321Z"
    }
   },
   "outputs": [],
   "source": [
    "from langchain_community.document_loaders import PyPDFLoader"
   ]
  },
  {
   "cell_type": "code",
   "execution_count": 50,
   "id": "e6920e29-bc7d-4635-be06-d151eaf0e100",
   "metadata": {
    "execution": {
     "iopub.execute_input": "2024-08-15T15:32:21.927907Z",
     "iopub.status.busy": "2024-08-15T15:32:21.927083Z",
     "iopub.status.idle": "2024-08-15T15:32:23.139326Z",
     "shell.execute_reply": "2024-08-15T15:32:23.138887Z",
     "shell.execute_reply.started": "2024-08-15T15:32:21.927835Z"
    }
   },
   "outputs": [],
   "source": [
    "loader = PyPDFLoader(os.path.join(os.path.pardir, 'data', '2024全球经济金融展望报告.pdf'))\n",
    "documents = loader.load()\n",
    "\n",
    "qa_df = pd.read_excel(os.path.join(preprocess_output_dir, 'question_answer.xlsx'))"
   ]
  },
  {
   "cell_type": "markdown",
   "id": "841ec659-4ad7-4e1f-b1ea-3477bf97fde3",
   "metadata": {},
   "source": [
    "# 文档切分"
   ]
  },
  {
   "cell_type": "code",
   "execution_count": 51,
   "id": "74fe856a-7c19-4c3c-bb30-7abfa6298f74",
   "metadata": {
    "execution": {
     "iopub.execute_input": "2024-08-15T15:32:23.140140Z",
     "iopub.status.busy": "2024-08-15T15:32:23.140007Z",
     "iopub.status.idle": "2024-08-15T15:32:23.143428Z",
     "shell.execute_reply": "2024-08-15T15:32:23.143098Z",
     "shell.execute_reply.started": "2024-08-15T15:32:23.140127Z"
    }
   },
   "outputs": [],
   "source": [
    "from uuid import uuid4\n",
    "import os\n",
    "import pickle\n",
    "\n",
    "from langchain.text_splitter import RecursiveCharacterTextSplitter\n",
    "\n",
    "def split_docs(documents, filepath, chunk_size=400, chunk_overlap=40, seperators=['\\n\\n\\n', '\\n\\n'], force_split=False):\n",
    "    if os.path.exists(filepath) and not force_split:\n",
    "        print('found cache, restoring...')\n",
    "        return pickle.load(open(filepath, 'rb'))\n",
    "\n",
    "    splitter = RecursiveCharacterTextSplitter(\n",
    "        chunk_size=chunk_size,\n",
    "        chunk_overlap=chunk_overlap,\n",
    "        separators=seperators\n",
    "    )\n",
    "    split_docs = splitter.split_documents(documents)\n",
    "    for chunk in split_docs:\n",
    "        chunk.metadata['uuid'] = str(uuid4())\n",
    "\n",
    "    pickle.dump(split_docs, open(filepath, 'wb'))\n",
    "\n",
    "    return split_docs"
   ]
  },
  {
   "cell_type": "code",
   "execution_count": 52,
   "id": "aa25540d-0504-4ae7-9804-9e3862b132d5",
   "metadata": {
    "execution": {
     "iopub.execute_input": "2024-08-15T15:32:23.143956Z",
     "iopub.status.busy": "2024-08-15T15:32:23.143831Z",
     "iopub.status.idle": "2024-08-15T15:32:23.158032Z",
     "shell.execute_reply": "2024-08-15T15:32:23.157552Z",
     "shell.execute_reply.started": "2024-08-15T15:32:23.143943Z"
    }
   },
   "outputs": [
    {
     "name": "stdout",
     "output_type": "stream",
     "text": [
      "found cache, restoring...\n"
     ]
    }
   ],
   "source": [
    "splitted_docs = split_docs(documents, os.path.join(preprocess_output_dir, 'split_docs.pkl'), chunk_size=500, chunk_overlap=50)"
   ]
  },
  {
   "cell_type": "markdown",
   "id": "220dbc3a-fceb-4e49-a3f1-01e16660b2a6",
   "metadata": {},
   "source": [
    "# 检索"
   ]
  },
  {
   "cell_type": "code",
   "execution_count": 53,
   "id": "8598a11c-25d8-4af1-a98b-06a8c394e261",
   "metadata": {
    "execution": {
     "iopub.execute_input": "2024-08-15T15:32:24.561842Z",
     "iopub.status.busy": "2024-08-15T15:32:24.561610Z",
     "iopub.status.idle": "2024-08-15T15:32:24.566404Z",
     "shell.execute_reply": "2024-08-15T15:32:24.565819Z",
     "shell.execute_reply.started": "2024-08-15T15:32:24.561824Z"
    }
   },
   "outputs": [
    {
     "name": "stdout",
     "output_type": "stream",
     "text": [
      "device: cuda\n"
     ]
    }
   ],
   "source": [
    "from langchain.embeddings import HuggingFaceBgeEmbeddings\n",
    "import torch\n",
    "\n",
    "device = 'cuda' if torch.cuda.is_available() else 'cpu'\n",
    "print(f'device: {device}')\n",
    "\n",
    "def get_embeddings(model_path):\n",
    "    embeddings = HuggingFaceBgeEmbeddings(\n",
    "        model_name=model_path,\n",
    "        model_kwargs={'device': device},\n",
    "        encode_kwargs={'normalize_embeddings': True},\n",
    "        # show_progress=True\n",
    "        query_instruction='为这个句子生成表示以用于检索相关文章：'\n",
    "    )\n",
    "    return embeddings"
   ]
  },
  {
   "cell_type": "code",
   "execution_count": 2,
   "id": "b4c59140",
   "metadata": {},
   "outputs": [
    {
     "name": "stdout",
     "output_type": "stream",
     "text": [
      "Looking in indexes: https://mirrors.aliyun.com/pypi/simple/\n",
      "Collecting jieba\n",
      "  Downloading https://mirrors.aliyun.com/pypi/packages/c6/cb/18eeb235f833b726522d7ebed54f2278ce28ba9438e3135ab0278d9792a2/jieba-0.42.1.tar.gz (19.2 MB)\n",
      "     ---------------------------------------- 0.0/19.2 MB ? eta -:--:--\n",
      "      --------------------------------------- 0.4/19.2 MB 7.8 MB/s eta 0:00:03\n",
      "     - -------------------------------------- 0.8/19.2 MB 6.9 MB/s eta 0:00:03\n",
      "     -- ------------------------------------- 1.1/19.2 MB 6.8 MB/s eta 0:00:03\n",
      "     -- ------------------------------------- 1.3/19.2 MB 6.5 MB/s eta 0:00:03\n",
      "     --- ------------------------------------ 1.4/19.2 MB 6.5 MB/s eta 0:00:03\n",
      "     --- ------------------------------------ 1.6/19.2 MB 5.2 MB/s eta 0:00:04\n",
      "     --- ------------------------------------ 1.9/19.2 MB 5.4 MB/s eta 0:00:04\n",
      "     ---- ----------------------------------- 2.2/19.2 MB 5.6 MB/s eta 0:00:04\n",
      "     ----- ---------------------------------- 2.4/19.2 MB 5.5 MB/s eta 0:00:04\n",
      "     ----- ---------------------------------- 2.6/19.2 MB 5.4 MB/s eta 0:00:04\n",
      "     ------ --------------------------------- 2.9/19.2 MB 5.4 MB/s eta 0:00:04\n",
      "     ------ --------------------------------- 3.2/19.2 MB 5.6 MB/s eta 0:00:03\n",
      "     ------- -------------------------------- 3.6/19.2 MB 5.7 MB/s eta 0:00:03\n",
      "     -------- ------------------------------- 3.9/19.2 MB 5.8 MB/s eta 0:00:03\n",
      "     -------- ------------------------------- 4.1/19.2 MB 5.7 MB/s eta 0:00:03\n",
      "     -------- ------------------------------- 4.3/19.2 MB 5.7 MB/s eta 0:00:03\n",
      "     -------- ------------------------------- 4.3/19.2 MB 5.7 MB/s eta 0:00:03\n",
      "     -------- ------------------------------- 4.3/19.2 MB 5.7 MB/s eta 0:00:03\n",
      "     --------- ------------------------------ 4.5/19.2 MB 5.0 MB/s eta 0:00:03\n",
      "     ---------- ----------------------------- 4.9/19.2 MB 5.1 MB/s eta 0:00:03\n",
      "     ---------- ----------------------------- 5.2/19.2 MB 5.2 MB/s eta 0:00:03\n",
      "     ---------- ----------------------------- 5.2/19.2 MB 4.9 MB/s eta 0:00:03\n",
      "     ---------- ----------------------------- 5.2/19.2 MB 4.9 MB/s eta 0:00:03\n",
      "     ---------- ----------------------------- 5.2/19.2 MB 4.9 MB/s eta 0:00:03\n",
      "     ---------- ----------------------------- 5.2/19.2 MB 4.9 MB/s eta 0:00:03\n",
      "     ----------- ---------------------------- 5.3/19.2 MB 4.3 MB/s eta 0:00:04\n",
      "     ----------- ---------------------------- 5.3/19.2 MB 4.3 MB/s eta 0:00:04\n",
      "     ----------- ---------------------------- 5.5/19.2 MB 4.1 MB/s eta 0:00:04\n",
      "     ----------- ---------------------------- 5.7/19.2 MB 4.2 MB/s eta 0:00:04\n",
      "     ------------ --------------------------- 5.9/19.2 MB 4.2 MB/s eta 0:00:04\n",
      "     ------------ --------------------------- 6.2/19.2 MB 4.2 MB/s eta 0:00:04\n",
      "     ------------- -------------------------- 6.5/19.2 MB 4.3 MB/s eta 0:00:03\n",
      "     ------------- -------------------------- 6.7/19.2 MB 4.3 MB/s eta 0:00:03\n",
      "     -------------- ------------------------- 6.8/19.2 MB 4.2 MB/s eta 0:00:03\n",
      "     -------------- ------------------------- 7.1/19.2 MB 4.3 MB/s eta 0:00:03\n",
      "     --------------- ------------------------ 7.4/19.2 MB 4.4 MB/s eta 0:00:03\n",
      "     --------------- ------------------------ 7.6/19.2 MB 4.4 MB/s eta 0:00:03\n",
      "     --------------- ------------------------ 7.6/19.2 MB 4.4 MB/s eta 0:00:03\n",
      "     ---------------- ----------------------- 7.7/19.2 MB 4.2 MB/s eta 0:00:03\n",
      "     ---------------- ----------------------- 8.0/19.2 MB 4.2 MB/s eta 0:00:03\n",
      "     ----------------- ---------------------- 8.3/19.2 MB 4.3 MB/s eta 0:00:03\n",
      "     ----------------- ---------------------- 8.6/19.2 MB 4.3 MB/s eta 0:00:03\n",
      "     ------------------ --------------------- 8.9/19.2 MB 4.4 MB/s eta 0:00:03\n",
      "     ------------------- -------------------- 9.3/19.2 MB 4.5 MB/s eta 0:00:03\n",
      "     ------------------- -------------------- 9.5/19.2 MB 4.5 MB/s eta 0:00:03\n",
      "     -------------------- ------------------- 9.8/19.2 MB 4.5 MB/s eta 0:00:03\n",
      "     --------------------- ------------------ 10.2/19.2 MB 4.6 MB/s eta 0:00:02\n",
      "     --------------------- ------------------ 10.5/19.2 MB 4.6 MB/s eta 0:00:02\n",
      "     ---------------------- ----------------- 10.8/19.2 MB 4.6 MB/s eta 0:00:02\n",
      "     ----------------------- ---------------- 11.2/19.2 MB 4.6 MB/s eta 0:00:02\n",
      "     ----------------------- ---------------- 11.4/19.2 MB 4.6 MB/s eta 0:00:02\n",
      "     ------------------------ --------------- 11.6/19.2 MB 4.5 MB/s eta 0:00:02\n",
      "     ------------------------ --------------- 11.7/19.2 MB 4.6 MB/s eta 0:00:02\n",
      "     ------------------------- -------------- 12.1/19.2 MB 4.6 MB/s eta 0:00:02\n",
      "     ------------------------- -------------- 12.4/19.2 MB 4.6 MB/s eta 0:00:02\n",
      "     -------------------------- ------------- 12.7/19.2 MB 4.6 MB/s eta 0:00:02\n",
      "     --------------------------- ------------ 13.0/19.2 MB 4.6 MB/s eta 0:00:02\n",
      "     --------------------------- ------------ 13.3/19.2 MB 4.6 MB/s eta 0:00:02\n",
      "     ---------------------------- ----------- 13.6/19.2 MB 4.6 MB/s eta 0:00:02\n",
      "     ----------------------------- ---------- 14.0/19.2 MB 4.6 MB/s eta 0:00:02\n",
      "     ----------------------------- ---------- 14.3/19.2 MB 4.6 MB/s eta 0:00:02\n",
      "     ------------------------------ --------- 14.6/19.2 MB 4.9 MB/s eta 0:00:01\n",
      "     ------------------------------ --------- 14.8/19.2 MB 4.9 MB/s eta 0:00:01\n",
      "     ------------------------------- -------- 15.2/19.2 MB 4.9 MB/s eta 0:00:01\n",
      "     -------------------------------- ------- 15.5/19.2 MB 5.5 MB/s eta 0:00:01\n",
      "     -------------------------------- ------- 15.7/19.2 MB 5.6 MB/s eta 0:00:01\n",
      "     --------------------------------- ------ 16.1/19.2 MB 5.7 MB/s eta 0:00:01\n",
      "     ---------------------------------- ----- 16.4/19.2 MB 5.7 MB/s eta 0:00:01\n",
      "     ---------------------------------- ----- 16.7/19.2 MB 5.8 MB/s eta 0:00:01\n",
      "     ----------------------------------- ---- 17.0/19.2 MB 6.0 MB/s eta 0:00:01\n",
      "     ------------------------------------ --- 17.3/19.2 MB 6.0 MB/s eta 0:00:01\n",
      "     ------------------------------------ --- 17.6/19.2 MB 5.9 MB/s eta 0:00:01\n",
      "     ------------------------------------- -- 17.9/19.2 MB 6.2 MB/s eta 0:00:01\n",
      "     ------------------------------------- -- 18.2/19.2 MB 6.2 MB/s eta 0:00:01\n",
      "     -------------------------------------- - 18.5/19.2 MB 6.2 MB/s eta 0:00:01\n",
      "     ---------------------------------------  18.8/19.2 MB 6.2 MB/s eta 0:00:01\n",
      "     ---------------------------------------  19.1/19.2 MB 6.2 MB/s eta 0:00:01\n",
      "     ---------------------------------------  19.2/19.2 MB 6.2 MB/s eta 0:00:01\n",
      "     ---------------------------------------- 19.2/19.2 MB 6.1 MB/s eta 0:00:00\n",
      "  Preparing metadata (setup.py): started\n",
      "  Preparing metadata (setup.py): finished with status 'done'\n",
      "Building wheels for collected packages: jieba\n",
      "  Building wheel for jieba (setup.py): started\n",
      "  Building wheel for jieba (setup.py): finished with status 'done'\n",
      "  Created wheel for jieba: filename=jieba-0.42.1-py3-none-any.whl size=19314474 sha256=1a7b17dc499361b684866f007b55db2519fafc4b4393a8044b1af65a461b01c7\n",
      "  Stored in directory: c:\\users\\pc\\appdata\\local\\pip\\cache\\wheels\\44\\66\\13\\57d80ae29d31d0ed7ee6898cb75a5c3c6da353e5e1ef5a6203\n",
      "Successfully built jieba\n",
      "Installing collected packages: jieba\n",
      "Successfully installed jieba-0.42.1\n"
     ]
    }
   ],
   "source": [
    "# !pip install jieba"
   ]
  },
  {
   "cell_type": "code",
   "execution_count": 54,
   "id": "663ef1a4-5866-4f6b-8d9d-4724f62142cb",
   "metadata": {
    "execution": {
     "iopub.execute_input": "2024-08-15T15:32:25.006309Z",
     "iopub.status.busy": "2024-08-15T15:32:25.006132Z",
     "iopub.status.idle": "2024-08-15T15:32:39.013580Z",
     "shell.execute_reply": "2024-08-15T15:32:39.013099Z",
     "shell.execute_reply.started": "2024-08-15T15:32:25.006295Z"
    }
   },
   "outputs": [],
   "source": [
    "from tqdm.auto import tqdm\n",
    "# from langchain_community.vectorstores import Qdrant\n",
    "from langchain_community.vectorstores import Chroma\n",
    "from langchain.retrievers import BM25Retriever, EnsembleRetriever\n",
    "import jieba\n",
    "import shutil\n",
    "\n",
    "# 微调后的模型\n",
    "EMBEDDING_MODEL_PATH = 'stevenluo/bge-large-zh-v1.5-ft-v4'\n",
    "\n",
    "# 确保结果可复现性\n",
    "persist_directory = os.path.join(expr_dir, 'chroma', 'bge')\n",
    "shutil.rmtree(persist_directory, ignore_errors=True)\n",
    "\n",
    "embeddings = get_embeddings(EMBEDDING_MODEL_PATH)\n",
    "vector_db = Chroma.from_documents(\n",
    "    splitted_docs,\n",
    "    embedding=embeddings,\n",
    "    persist_directory=persist_directory\n",
    ")\n",
    "vanilla_bm25_retriever = BM25Retriever.from_documents(splitted_docs)\n",
    "chz_cut_bm25_retriever = BM25Retriever.from_documents(splitted_docs, preprocess_func=lambda text: list(jieba.cut(text)))"
   ]
  },
  {
   "cell_type": "code",
   "execution_count": 55,
   "id": "f9ba0818-d608-4e87-aa9e-aced270a113c",
   "metadata": {
    "execution": {
     "iopub.execute_input": "2024-08-15T15:36:06.867936Z",
     "iopub.status.busy": "2024-08-15T15:36:06.867647Z",
     "iopub.status.idle": "2024-08-15T15:36:06.873739Z",
     "shell.execute_reply": "2024-08-15T15:36:06.872824Z",
     "shell.execute_reply.started": "2024-08-15T15:36:06.867912Z"
    }
   },
   "outputs": [],
   "source": [
    "def get_emb_retriever(k):\n",
    "    return vector_db.as_retriever(search_kwargs={'k': k})\n",
    "\n",
    "def get_vanilla_bm25_retriever(k):\n",
    "    vanilla_bm25_retriever.k = k\n",
    "    return vanilla_bm25_retriever\n",
    "\n",
    "def get_chz_cut_bm25_retriever(k):\n",
    "    chz_cut_bm25_retriever.k = k\n",
    "    return chz_cut_bm25_retriever\n",
    "\n",
    "def build_get_ensemble_retriver_fn(weights=[0.5, 0.5]):\n",
    "    def get_ensemble_retriever(k):\n",
    "        chz_cut_bm25_retriever.k = k\n",
    "        return EnsembleRetriever(\n",
    "            retrievers=[vector_db.as_retriever(search_kwargs={'k': k}), chz_cut_bm25_retriever], weights=weights\n",
    "        )\n",
    "    return get_ensemble_retriever"
   ]
  },
  {
   "cell_type": "code",
   "execution_count": 56,
   "id": "b03e3382-39e9-4932-a265-69b811041629",
   "metadata": {
    "execution": {
     "iopub.execute_input": "2024-08-15T15:36:07.265370Z",
     "iopub.status.busy": "2024-08-15T15:36:07.264841Z",
     "iopub.status.idle": "2024-08-15T15:36:07.269577Z",
     "shell.execute_reply": "2024-08-15T15:36:07.268795Z",
     "shell.execute_reply.started": "2024-08-15T15:36:07.265345Z"
    }
   },
   "outputs": [],
   "source": [
    "test_df = qa_df[(qa_df['dataset'] == 'test') & (qa_df['qa_type'] == 'detailed')]"
   ]
  },
  {
   "cell_type": "code",
   "execution_count": 57,
   "id": "32c3ad14-b217-44aa-bdb9-909b9d559668",
   "metadata": {
    "execution": {
     "iopub.execute_input": "2024-08-15T15:36:11.591011Z",
     "iopub.status.busy": "2024-08-15T15:36:11.590837Z",
     "iopub.status.idle": "2024-08-15T15:36:11.594260Z",
     "shell.execute_reply": "2024-08-15T15:36:11.593872Z",
     "shell.execute_reply.started": "2024-08-15T15:36:11.590998Z"
    }
   },
   "outputs": [],
   "source": [
    "def get_hit_stat_df(get_retriever_fn, top_k_arr=list(range(1, 9))):\n",
    "    hit_stat_data = []\n",
    "\n",
    "    for k in tqdm(top_k_arr):\n",
    "        retriever = get_retriever_fn(k)\n",
    "        for idx, row in test_df.iterrows():\n",
    "            question = row['question']\n",
    "            true_uuid = row['uuid']\n",
    "            # chunks = retrieve_fn(question, k=k)\n",
    "            chunks = retriever.get_relevant_documents(question)[:k]\n",
    "            retrieved_uuids = [doc.metadata['uuid'] for doc in chunks]\n",
    "\n",
    "            hit_stat_data.append({\n",
    "                'question': question,\n",
    "                'top_k': k,\n",
    "                'hit': int(true_uuid in retrieved_uuids),\n",
    "                'retrieved_chunks': len(chunks)\n",
    "            })\n",
    "    hit_stat_df = pd.DataFrame(hit_stat_data)\n",
    "    return hit_stat_df"
   ]
  },
  {
   "cell_type": "markdown",
   "id": "79482d8c-04e3-4a95-9af7-f54fed7c8d81",
   "metadata": {},
   "source": [
    "## BM25检索"
   ]
  },
  {
   "cell_type": "code",
   "execution_count": 58,
   "id": "a63797c7-4151-4f55-8e5d-080c34265393",
   "metadata": {
    "execution": {
     "iopub.execute_input": "2024-08-15T15:36:12.090218Z",
     "iopub.status.busy": "2024-08-15T15:36:12.089886Z",
     "iopub.status.idle": "2024-08-15T15:36:12.784684Z",
     "shell.execute_reply": "2024-08-15T15:36:12.784263Z",
     "shell.execute_reply.started": "2024-08-15T15:36:12.090189Z"
    }
   },
   "outputs": [
    {
     "data": {
      "application/vnd.jupyter.widget-view+json": {
       "model_id": "5c2645d5467a483ea332b44c07094b45",
       "version_major": 2,
       "version_minor": 0
      },
      "text/plain": [
       "  0%|          | 0/8 [00:00<?, ?it/s]"
      ]
     },
     "metadata": {},
     "output_type": "display_data"
    },
    {
     "data": {
      "application/vnd.jupyter.widget-view+json": {
       "model_id": "13460ffe3e1449129f86bd0f85a45c76",
       "version_major": 2,
       "version_minor": 0
      },
      "text/plain": [
       "  0%|          | 0/8 [00:00<?, ?it/s]"
      ]
     },
     "metadata": {},
     "output_type": "display_data"
    }
   ],
   "source": [
    "vanilla_bm25_hit_stat_df = get_hit_stat_df(get_vanilla_bm25_retriever)\n",
    "chz_cut_bm25_hit_stat_df = get_hit_stat_df(get_chz_cut_bm25_retriever)"
   ]
  },
  {
   "cell_type": "code",
   "execution_count": 59,
   "id": "11699006-6e3d-4863-a8a9-d7f331571f9f",
   "metadata": {
    "execution": {
     "iopub.execute_input": "2024-08-15T15:36:14.315836Z",
     "iopub.status.busy": "2024-08-15T15:36:14.315401Z",
     "iopub.status.idle": "2024-08-15T15:36:14.322691Z",
     "shell.execute_reply": "2024-08-15T15:36:14.321903Z",
     "shell.execute_reply.started": "2024-08-15T15:36:14.315798Z"
    }
   },
   "outputs": [],
   "source": [
    "vanilla_bm25_hit_stat_df['retriever'] = 'vanilla_bm25'\n",
    "chz_cut_bm25_hit_stat_df['retriever'] = 'jieba_cut_bm25'\n",
    "\n",
    "bm25_hit_stat_df = pd.concat([vanilla_bm25_hit_stat_df, chz_cut_bm25_hit_stat_df])"
   ]
  },
  {
   "cell_type": "code",
   "execution_count": 60,
   "id": "15c6c97f-e391-4dbc-903d-b2a86035d04f",
   "metadata": {
    "execution": {
     "iopub.execute_input": "2024-08-15T15:36:14.627836Z",
     "iopub.status.busy": "2024-08-15T15:36:14.627053Z",
     "iopub.status.idle": "2024-08-15T15:36:15.528158Z",
     "shell.execute_reply": "2024-08-15T15:36:15.525706Z",
     "shell.execute_reply.started": "2024-08-15T15:36:14.627765Z"
    }
   },
   "outputs": [
    {
     "data": {
      "text/html": [
       "<div>\n",
       "<style scoped>\n",
       "    .dataframe tbody tr th:only-of-type {\n",
       "        vertical-align: middle;\n",
       "    }\n",
       "\n",
       "    .dataframe tbody tr th {\n",
       "        vertical-align: top;\n",
       "    }\n",
       "\n",
       "    .dataframe thead th {\n",
       "        text-align: right;\n",
       "    }\n",
       "</style>\n",
       "<table border=\"1\" class=\"dataframe\">\n",
       "  <thead>\n",
       "    <tr style=\"text-align: right;\">\n",
       "      <th></th>\n",
       "      <th>retriever</th>\n",
       "      <th>top_k</th>\n",
       "      <th>hit_rate</th>\n",
       "    </tr>\n",
       "  </thead>\n",
       "  <tbody>\n",
       "    <tr>\n",
       "      <th>0</th>\n",
       "      <td>jieba_cut_bm25</td>\n",
       "      <td>1</td>\n",
       "      <td>0.666667</td>\n",
       "    </tr>\n",
       "    <tr>\n",
       "      <th>1</th>\n",
       "      <td>jieba_cut_bm25</td>\n",
       "      <td>2</td>\n",
       "      <td>0.784946</td>\n",
       "    </tr>\n",
       "    <tr>\n",
       "      <th>2</th>\n",
       "      <td>jieba_cut_bm25</td>\n",
       "      <td>3</td>\n",
       "      <td>0.838710</td>\n",
       "    </tr>\n",
       "    <tr>\n",
       "      <th>3</th>\n",
       "      <td>jieba_cut_bm25</td>\n",
       "      <td>4</td>\n",
       "      <td>0.870968</td>\n",
       "    </tr>\n",
       "    <tr>\n",
       "      <th>4</th>\n",
       "      <td>jieba_cut_bm25</td>\n",
       "      <td>5</td>\n",
       "      <td>0.892473</td>\n",
       "    </tr>\n",
       "    <tr>\n",
       "      <th>5</th>\n",
       "      <td>jieba_cut_bm25</td>\n",
       "      <td>6</td>\n",
       "      <td>0.903226</td>\n",
       "    </tr>\n",
       "    <tr>\n",
       "      <th>6</th>\n",
       "      <td>jieba_cut_bm25</td>\n",
       "      <td>7</td>\n",
       "      <td>0.913978</td>\n",
       "    </tr>\n",
       "    <tr>\n",
       "      <th>7</th>\n",
       "      <td>jieba_cut_bm25</td>\n",
       "      <td>8</td>\n",
       "      <td>0.935484</td>\n",
       "    </tr>\n",
       "    <tr>\n",
       "      <th>8</th>\n",
       "      <td>vanilla_bm25</td>\n",
       "      <td>1</td>\n",
       "      <td>0.000000</td>\n",
       "    </tr>\n",
       "    <tr>\n",
       "      <th>9</th>\n",
       "      <td>vanilla_bm25</td>\n",
       "      <td>2</td>\n",
       "      <td>0.000000</td>\n",
       "    </tr>\n",
       "    <tr>\n",
       "      <th>10</th>\n",
       "      <td>vanilla_bm25</td>\n",
       "      <td>3</td>\n",
       "      <td>0.032258</td>\n",
       "    </tr>\n",
       "    <tr>\n",
       "      <th>11</th>\n",
       "      <td>vanilla_bm25</td>\n",
       "      <td>4</td>\n",
       "      <td>0.064516</td>\n",
       "    </tr>\n",
       "    <tr>\n",
       "      <th>12</th>\n",
       "      <td>vanilla_bm25</td>\n",
       "      <td>5</td>\n",
       "      <td>0.075269</td>\n",
       "    </tr>\n",
       "    <tr>\n",
       "      <th>13</th>\n",
       "      <td>vanilla_bm25</td>\n",
       "      <td>6</td>\n",
       "      <td>0.086022</td>\n",
       "    </tr>\n",
       "    <tr>\n",
       "      <th>14</th>\n",
       "      <td>vanilla_bm25</td>\n",
       "      <td>7</td>\n",
       "      <td>0.118280</td>\n",
       "    </tr>\n",
       "    <tr>\n",
       "      <th>15</th>\n",
       "      <td>vanilla_bm25</td>\n",
       "      <td>8</td>\n",
       "      <td>0.118280</td>\n",
       "    </tr>\n",
       "  </tbody>\n",
       "</table>\n",
       "</div>"
      ],
      "text/plain": [
       "         retriever  top_k  hit_rate\n",
       "0   jieba_cut_bm25      1  0.666667\n",
       "1   jieba_cut_bm25      2  0.784946\n",
       "2   jieba_cut_bm25      3  0.838710\n",
       "3   jieba_cut_bm25      4  0.870968\n",
       "4   jieba_cut_bm25      5  0.892473\n",
       "5   jieba_cut_bm25      6  0.903226\n",
       "6   jieba_cut_bm25      7  0.913978\n",
       "7   jieba_cut_bm25      8  0.935484\n",
       "8     vanilla_bm25      1  0.000000\n",
       "9     vanilla_bm25      2  0.000000\n",
       "10    vanilla_bm25      3  0.032258\n",
       "11    vanilla_bm25      4  0.064516\n",
       "12    vanilla_bm25      5  0.075269\n",
       "13    vanilla_bm25      6  0.086022\n",
       "14    vanilla_bm25      7  0.118280\n",
       "15    vanilla_bm25      8  0.118280"
      ]
     },
     "execution_count": 60,
     "metadata": {},
     "output_type": "execute_result"
    }
   ],
   "source": [
    "bm25_hit_stat_df.groupby(['retriever', 'top_k'])['hit'].mean().reset_index().rename(columns={'hit': 'hit_rate'})"
   ]
  },
  {
   "cell_type": "markdown",
   "id": "4ef11c8b-dda2-462d-b53c-6f523ca11c7e",
   "metadata": {},
   "source": [
    "## Embedding检索"
   ]
  },
  {
   "cell_type": "code",
   "execution_count": 61,
   "id": "0717a80b-37cd-44b4-8db1-e4c917360c83",
   "metadata": {
    "execution": {
     "iopub.execute_input": "2024-08-15T15:36:16.245435Z",
     "iopub.status.busy": "2024-08-15T15:36:16.244659Z",
     "iopub.status.idle": "2024-08-15T15:36:34.096826Z",
     "shell.execute_reply": "2024-08-15T15:36:34.096474Z",
     "shell.execute_reply.started": "2024-08-15T15:36:16.245365Z"
    }
   },
   "outputs": [
    {
     "data": {
      "application/vnd.jupyter.widget-view+json": {
       "model_id": "e9c4246970404b44b8316744cde99e9f",
       "version_major": 2,
       "version_minor": 0
      },
      "text/plain": [
       "  0%|          | 0/8 [00:00<?, ?it/s]"
      ]
     },
     "metadata": {},
     "output_type": "display_data"
    }
   ],
   "source": [
    "emb_hit_stat_df = get_hit_stat_df(get_emb_retriever)"
   ]
  },
  {
   "cell_type": "code",
   "execution_count": 62,
   "id": "a32f1723-4664-4113-9d37-bde97c56ec3a",
   "metadata": {
    "execution": {
     "iopub.execute_input": "2024-08-15T15:36:34.097568Z",
     "iopub.status.busy": "2024-08-15T15:36:34.097431Z",
     "iopub.status.idle": "2024-08-15T15:36:34.099878Z",
     "shell.execute_reply": "2024-08-15T15:36:34.099555Z",
     "shell.execute_reply.started": "2024-08-15T15:36:34.097555Z"
    }
   },
   "outputs": [],
   "source": [
    "emb_hit_stat_df['retriever'] = 'embedding'"
   ]
  },
  {
   "cell_type": "markdown",
   "id": "f252c685-6ce9-423b-bb1c-7a318a145351",
   "metadata": {},
   "source": [
    "## Ensemble检索"
   ]
  },
  {
   "cell_type": "code",
   "execution_count": 63,
   "id": "b6917c95-96a5-4efc-beef-dfffb2ef1dc8",
   "metadata": {
    "execution": {
     "iopub.execute_input": "2024-08-15T15:36:54.514426Z",
     "iopub.status.busy": "2024-08-15T15:36:54.512048Z",
     "iopub.status.idle": "2024-08-15T15:38:08.862086Z",
     "shell.execute_reply": "2024-08-15T15:38:08.861683Z",
     "shell.execute_reply.started": "2024-08-15T15:36:54.514344Z"
    }
   },
   "outputs": [
    {
     "data": {
      "application/vnd.jupyter.widget-view+json": {
       "model_id": "253c63ef1ecf41cbb7dea08713b7c745",
       "version_major": 2,
       "version_minor": 0
      },
      "text/plain": [
       "  0%|          | 0/8 [00:00<?, ?it/s]"
      ]
     },
     "metadata": {},
     "output_type": "display_data"
    },
    {
     "data": {
      "application/vnd.jupyter.widget-view+json": {
       "model_id": "f553c2afaeb144d6a90e12b646f16718",
       "version_major": 2,
       "version_minor": 0
      },
      "text/plain": [
       "  0%|          | 0/8 [00:00<?, ?it/s]"
      ]
     },
     "metadata": {},
     "output_type": "display_data"
    },
    {
     "data": {
      "application/vnd.jupyter.widget-view+json": {
       "model_id": "191ff4bc8dc4463eae3dd3647005e885",
       "version_major": 2,
       "version_minor": 0
      },
      "text/plain": [
       "  0%|          | 0/8 [00:00<?, ?it/s]"
      ]
     },
     "metadata": {},
     "output_type": "display_data"
    },
    {
     "data": {
      "application/vnd.jupyter.widget-view+json": {
       "model_id": "d1340d89eb5344a7b17a522861e71e9f",
       "version_major": 2,
       "version_minor": 0
      },
      "text/plain": [
       "  0%|          | 0/8 [00:00<?, ?it/s]"
      ]
     },
     "metadata": {},
     "output_type": "display_data"
    }
   ],
   "source": [
    "ensemble_hit_stat_df_04_06 = get_hit_stat_df(build_get_ensemble_retriver_fn(weights=[0.4, 0.6]))\n",
    "ensemble_hit_stat_df_05_05 = get_hit_stat_df(build_get_ensemble_retriver_fn(weights=[0.5, 0.5]))\n",
    "ensemble_hit_stat_df_07_03 = get_hit_stat_df(build_get_ensemble_retriver_fn(weights=[0.7, 0.3]))\n",
    "ensemble_hit_stat_df_09_01 = get_hit_stat_df(build_get_ensemble_retriver_fn(weights=[0.9, 0.1]))\n",
    "\n",
    "ensemble_hit_stat_df_04_06['retriever'] = 'ensemble_0.4:0.6'\n",
    "ensemble_hit_stat_df_05_05['retriever'] = 'ensemble_0.5:0.5'\n",
    "ensemble_hit_stat_df_07_03['retriever'] = 'ensemble_0.7:0.3'\n",
    "ensemble_hit_stat_df_09_01['retriever'] = 'ensemble_0.90.1'"
   ]
  },
  {
   "cell_type": "code",
   "execution_count": 64,
   "id": "4a5c1b5f-5363-4304-950b-511e4debf4bf",
   "metadata": {
    "execution": {
     "iopub.execute_input": "2024-08-15T15:38:08.862893Z",
     "iopub.status.busy": "2024-08-15T15:38:08.862710Z",
     "iopub.status.idle": "2024-08-15T15:38:08.865755Z",
     "shell.execute_reply": "2024-08-15T15:38:08.865404Z",
     "shell.execute_reply.started": "2024-08-15T15:38:08.862880Z"
    }
   },
   "outputs": [],
   "source": [
    "ensemble_hit_stat_df = pd.concat([ensemble_hit_stat_df_04_06, ensemble_hit_stat_df_05_05, ensemble_hit_stat_df_07_03, ensemble_hit_stat_df_09_01])"
   ]
  },
  {
   "cell_type": "code",
   "execution_count": 65,
   "id": "982c515f-d964-47f8-8a9e-2ce277fb42c1",
   "metadata": {
    "execution": {
     "iopub.execute_input": "2024-08-15T15:38:08.866359Z",
     "iopub.status.busy": "2024-08-15T15:38:08.866240Z",
     "iopub.status.idle": "2024-08-15T15:38:08.884271Z",
     "shell.execute_reply": "2024-08-15T15:38:08.883841Z",
     "shell.execute_reply.started": "2024-08-15T15:38:08.866347Z"
    }
   },
   "outputs": [
    {
     "data": {
      "text/html": [
       "<div>\n",
       "<style scoped>\n",
       "    .dataframe tbody tr th:only-of-type {\n",
       "        vertical-align: middle;\n",
       "    }\n",
       "\n",
       "    .dataframe tbody tr th {\n",
       "        vertical-align: top;\n",
       "    }\n",
       "\n",
       "    .dataframe thead th {\n",
       "        text-align: right;\n",
       "    }\n",
       "</style>\n",
       "<table border=\"1\" class=\"dataframe\">\n",
       "  <thead>\n",
       "    <tr style=\"text-align: right;\">\n",
       "      <th></th>\n",
       "      <th>retriever</th>\n",
       "      <th>top_k</th>\n",
       "      <th>hit_rate</th>\n",
       "    </tr>\n",
       "  </thead>\n",
       "  <tbody>\n",
       "    <tr>\n",
       "      <th>0</th>\n",
       "      <td>ensemble_0.4:0.6</td>\n",
       "      <td>1</td>\n",
       "      <td>0.666667</td>\n",
       "    </tr>\n",
       "    <tr>\n",
       "      <th>1</th>\n",
       "      <td>ensemble_0.4:0.6</td>\n",
       "      <td>2</td>\n",
       "      <td>0.784946</td>\n",
       "    </tr>\n",
       "    <tr>\n",
       "      <th>2</th>\n",
       "      <td>ensemble_0.4:0.6</td>\n",
       "      <td>3</td>\n",
       "      <td>0.838710</td>\n",
       "    </tr>\n",
       "    <tr>\n",
       "      <th>3</th>\n",
       "      <td>ensemble_0.4:0.6</td>\n",
       "      <td>4</td>\n",
       "      <td>0.870968</td>\n",
       "    </tr>\n",
       "    <tr>\n",
       "      <th>4</th>\n",
       "      <td>ensemble_0.4:0.6</td>\n",
       "      <td>5</td>\n",
       "      <td>0.892473</td>\n",
       "    </tr>\n",
       "    <tr>\n",
       "      <th>5</th>\n",
       "      <td>ensemble_0.4:0.6</td>\n",
       "      <td>6</td>\n",
       "      <td>0.903226</td>\n",
       "    </tr>\n",
       "    <tr>\n",
       "      <th>6</th>\n",
       "      <td>ensemble_0.4:0.6</td>\n",
       "      <td>7</td>\n",
       "      <td>0.913978</td>\n",
       "    </tr>\n",
       "    <tr>\n",
       "      <th>7</th>\n",
       "      <td>ensemble_0.4:0.6</td>\n",
       "      <td>8</td>\n",
       "      <td>0.935484</td>\n",
       "    </tr>\n",
       "    <tr>\n",
       "      <th>8</th>\n",
       "      <td>ensemble_0.5:0.5</td>\n",
       "      <td>1</td>\n",
       "      <td>0.548387</td>\n",
       "    </tr>\n",
       "    <tr>\n",
       "      <th>9</th>\n",
       "      <td>ensemble_0.5:0.5</td>\n",
       "      <td>2</td>\n",
       "      <td>0.774194</td>\n",
       "    </tr>\n",
       "    <tr>\n",
       "      <th>10</th>\n",
       "      <td>ensemble_0.5:0.5</td>\n",
       "      <td>3</td>\n",
       "      <td>0.860215</td>\n",
       "    </tr>\n",
       "    <tr>\n",
       "      <th>11</th>\n",
       "      <td>ensemble_0.5:0.5</td>\n",
       "      <td>4</td>\n",
       "      <td>0.892473</td>\n",
       "    </tr>\n",
       "    <tr>\n",
       "      <th>12</th>\n",
       "      <td>ensemble_0.5:0.5</td>\n",
       "      <td>5</td>\n",
       "      <td>0.913978</td>\n",
       "    </tr>\n",
       "    <tr>\n",
       "      <th>13</th>\n",
       "      <td>ensemble_0.5:0.5</td>\n",
       "      <td>6</td>\n",
       "      <td>0.946237</td>\n",
       "    </tr>\n",
       "    <tr>\n",
       "      <th>14</th>\n",
       "      <td>ensemble_0.5:0.5</td>\n",
       "      <td>7</td>\n",
       "      <td>0.956989</td>\n",
       "    </tr>\n",
       "    <tr>\n",
       "      <th>15</th>\n",
       "      <td>ensemble_0.5:0.5</td>\n",
       "      <td>8</td>\n",
       "      <td>0.978495</td>\n",
       "    </tr>\n",
       "    <tr>\n",
       "      <th>16</th>\n",
       "      <td>ensemble_0.7:0.3</td>\n",
       "      <td>1</td>\n",
       "      <td>0.548387</td>\n",
       "    </tr>\n",
       "    <tr>\n",
       "      <th>17</th>\n",
       "      <td>ensemble_0.7:0.3</td>\n",
       "      <td>2</td>\n",
       "      <td>0.698925</td>\n",
       "    </tr>\n",
       "    <tr>\n",
       "      <th>18</th>\n",
       "      <td>ensemble_0.7:0.3</td>\n",
       "      <td>3</td>\n",
       "      <td>0.806452</td>\n",
       "    </tr>\n",
       "    <tr>\n",
       "      <th>19</th>\n",
       "      <td>ensemble_0.7:0.3</td>\n",
       "      <td>4</td>\n",
       "      <td>0.870968</td>\n",
       "    </tr>\n",
       "    <tr>\n",
       "      <th>20</th>\n",
       "      <td>ensemble_0.7:0.3</td>\n",
       "      <td>5</td>\n",
       "      <td>0.892473</td>\n",
       "    </tr>\n",
       "    <tr>\n",
       "      <th>21</th>\n",
       "      <td>ensemble_0.7:0.3</td>\n",
       "      <td>6</td>\n",
       "      <td>0.903226</td>\n",
       "    </tr>\n",
       "    <tr>\n",
       "      <th>22</th>\n",
       "      <td>ensemble_0.7:0.3</td>\n",
       "      <td>7</td>\n",
       "      <td>0.913978</td>\n",
       "    </tr>\n",
       "    <tr>\n",
       "      <th>23</th>\n",
       "      <td>ensemble_0.7:0.3</td>\n",
       "      <td>8</td>\n",
       "      <td>0.935484</td>\n",
       "    </tr>\n",
       "    <tr>\n",
       "      <th>24</th>\n",
       "      <td>ensemble_0.90.1</td>\n",
       "      <td>1</td>\n",
       "      <td>0.548387</td>\n",
       "    </tr>\n",
       "    <tr>\n",
       "      <th>25</th>\n",
       "      <td>ensemble_0.90.1</td>\n",
       "      <td>2</td>\n",
       "      <td>0.698925</td>\n",
       "    </tr>\n",
       "    <tr>\n",
       "      <th>26</th>\n",
       "      <td>ensemble_0.90.1</td>\n",
       "      <td>3</td>\n",
       "      <td>0.806452</td>\n",
       "    </tr>\n",
       "    <tr>\n",
       "      <th>27</th>\n",
       "      <td>ensemble_0.90.1</td>\n",
       "      <td>4</td>\n",
       "      <td>0.870968</td>\n",
       "    </tr>\n",
       "    <tr>\n",
       "      <th>28</th>\n",
       "      <td>ensemble_0.90.1</td>\n",
       "      <td>5</td>\n",
       "      <td>0.892473</td>\n",
       "    </tr>\n",
       "    <tr>\n",
       "      <th>29</th>\n",
       "      <td>ensemble_0.90.1</td>\n",
       "      <td>6</td>\n",
       "      <td>0.903226</td>\n",
       "    </tr>\n",
       "    <tr>\n",
       "      <th>30</th>\n",
       "      <td>ensemble_0.90.1</td>\n",
       "      <td>7</td>\n",
       "      <td>0.913978</td>\n",
       "    </tr>\n",
       "    <tr>\n",
       "      <th>31</th>\n",
       "      <td>ensemble_0.90.1</td>\n",
       "      <td>8</td>\n",
       "      <td>0.935484</td>\n",
       "    </tr>\n",
       "  </tbody>\n",
       "</table>\n",
       "</div>"
      ],
      "text/plain": [
       "           retriever  top_k  hit_rate\n",
       "0   ensemble_0.4:0.6      1  0.666667\n",
       "1   ensemble_0.4:0.6      2  0.784946\n",
       "2   ensemble_0.4:0.6      3  0.838710\n",
       "3   ensemble_0.4:0.6      4  0.870968\n",
       "4   ensemble_0.4:0.6      5  0.892473\n",
       "5   ensemble_0.4:0.6      6  0.903226\n",
       "6   ensemble_0.4:0.6      7  0.913978\n",
       "7   ensemble_0.4:0.6      8  0.935484\n",
       "8   ensemble_0.5:0.5      1  0.548387\n",
       "9   ensemble_0.5:0.5      2  0.774194\n",
       "10  ensemble_0.5:0.5      3  0.860215\n",
       "11  ensemble_0.5:0.5      4  0.892473\n",
       "12  ensemble_0.5:0.5      5  0.913978\n",
       "13  ensemble_0.5:0.5      6  0.946237\n",
       "14  ensemble_0.5:0.5      7  0.956989\n",
       "15  ensemble_0.5:0.5      8  0.978495\n",
       "16  ensemble_0.7:0.3      1  0.548387\n",
       "17  ensemble_0.7:0.3      2  0.698925\n",
       "18  ensemble_0.7:0.3      3  0.806452\n",
       "19  ensemble_0.7:0.3      4  0.870968\n",
       "20  ensemble_0.7:0.3      5  0.892473\n",
       "21  ensemble_0.7:0.3      6  0.903226\n",
       "22  ensemble_0.7:0.3      7  0.913978\n",
       "23  ensemble_0.7:0.3      8  0.935484\n",
       "24   ensemble_0.90.1      1  0.548387\n",
       "25   ensemble_0.90.1      2  0.698925\n",
       "26   ensemble_0.90.1      3  0.806452\n",
       "27   ensemble_0.90.1      4  0.870968\n",
       "28   ensemble_0.90.1      5  0.892473\n",
       "29   ensemble_0.90.1      6  0.903226\n",
       "30   ensemble_0.90.1      7  0.913978\n",
       "31   ensemble_0.90.1      8  0.935484"
      ]
     },
     "execution_count": 65,
     "metadata": {},
     "output_type": "execute_result"
    }
   ],
   "source": [
    "ensemble_hit_stat_df.groupby(['retriever', 'top_k'])['hit'].mean().reset_index().rename(columns={'hit': 'hit_rate'})"
   ]
  },
  {
   "cell_type": "markdown",
   "id": "c729e9c5-650f-4815-9a31-ed6ceeff2e82",
   "metadata": {},
   "source": [
    "## 综合对比"
   ]
  },
  {
   "cell_type": "code",
   "execution_count": 66,
   "id": "d4890789-a44c-41de-b17f-0ff505788494",
   "metadata": {
    "execution": {
     "iopub.execute_input": "2024-08-15T15:38:08.885142Z",
     "iopub.status.busy": "2024-08-15T15:38:08.885014Z",
     "iopub.status.idle": "2024-08-15T15:38:08.887886Z",
     "shell.execute_reply": "2024-08-15T15:38:08.887514Z",
     "shell.execute_reply.started": "2024-08-15T15:38:08.885130Z"
    }
   },
   "outputs": [],
   "source": [
    "hit_stat_df = pd.concat([chz_cut_bm25_hit_stat_df, emb_hit_stat_df, ensemble_hit_stat_df])"
   ]
  },
  {
   "cell_type": "code",
   "execution_count": 67,
   "id": "23c07eaf-889c-4b13-83bd-34d75fd98e24",
   "metadata": {
    "execution": {
     "iopub.execute_input": "2024-08-15T15:38:08.888448Z",
     "iopub.status.busy": "2024-08-15T15:38:08.888325Z",
     "iopub.status.idle": "2024-08-15T15:38:08.898115Z",
     "shell.execute_reply": "2024-08-15T15:38:08.897794Z",
     "shell.execute_reply.started": "2024-08-15T15:38:08.888436Z"
    }
   },
   "outputs": [
    {
     "data": {
      "text/html": [
       "<div>\n",
       "<style scoped>\n",
       "    .dataframe tbody tr th:only-of-type {\n",
       "        vertical-align: middle;\n",
       "    }\n",
       "\n",
       "    .dataframe tbody tr th {\n",
       "        vertical-align: top;\n",
       "    }\n",
       "\n",
       "    .dataframe thead th {\n",
       "        text-align: right;\n",
       "    }\n",
       "</style>\n",
       "<table border=\"1\" class=\"dataframe\">\n",
       "  <thead>\n",
       "    <tr style=\"text-align: right;\">\n",
       "      <th></th>\n",
       "      <th>retriever</th>\n",
       "      <th>top_k</th>\n",
       "      <th>hit_rate</th>\n",
       "    </tr>\n",
       "  </thead>\n",
       "  <tbody>\n",
       "    <tr>\n",
       "      <th>0</th>\n",
       "      <td>embedding</td>\n",
       "      <td>1</td>\n",
       "      <td>0.548387</td>\n",
       "    </tr>\n",
       "    <tr>\n",
       "      <th>1</th>\n",
       "      <td>embedding</td>\n",
       "      <td>2</td>\n",
       "      <td>0.698925</td>\n",
       "    </tr>\n",
       "    <tr>\n",
       "      <th>2</th>\n",
       "      <td>embedding</td>\n",
       "      <td>3</td>\n",
       "      <td>0.806452</td>\n",
       "    </tr>\n",
       "    <tr>\n",
       "      <th>3</th>\n",
       "      <td>embedding</td>\n",
       "      <td>4</td>\n",
       "      <td>0.870968</td>\n",
       "    </tr>\n",
       "    <tr>\n",
       "      <th>4</th>\n",
       "      <td>embedding</td>\n",
       "      <td>5</td>\n",
       "      <td>0.892473</td>\n",
       "    </tr>\n",
       "    <tr>\n",
       "      <th>5</th>\n",
       "      <td>embedding</td>\n",
       "      <td>6</td>\n",
       "      <td>0.903226</td>\n",
       "    </tr>\n",
       "    <tr>\n",
       "      <th>6</th>\n",
       "      <td>embedding</td>\n",
       "      <td>7</td>\n",
       "      <td>0.913978</td>\n",
       "    </tr>\n",
       "    <tr>\n",
       "      <th>7</th>\n",
       "      <td>embedding</td>\n",
       "      <td>8</td>\n",
       "      <td>0.935484</td>\n",
       "    </tr>\n",
       "    <tr>\n",
       "      <th>8</th>\n",
       "      <td>ensemble_0.4:0.6</td>\n",
       "      <td>1</td>\n",
       "      <td>0.666667</td>\n",
       "    </tr>\n",
       "    <tr>\n",
       "      <th>9</th>\n",
       "      <td>ensemble_0.4:0.6</td>\n",
       "      <td>2</td>\n",
       "      <td>0.784946</td>\n",
       "    </tr>\n",
       "    <tr>\n",
       "      <th>10</th>\n",
       "      <td>ensemble_0.4:0.6</td>\n",
       "      <td>3</td>\n",
       "      <td>0.838710</td>\n",
       "    </tr>\n",
       "    <tr>\n",
       "      <th>11</th>\n",
       "      <td>ensemble_0.4:0.6</td>\n",
       "      <td>4</td>\n",
       "      <td>0.870968</td>\n",
       "    </tr>\n",
       "    <tr>\n",
       "      <th>12</th>\n",
       "      <td>ensemble_0.4:0.6</td>\n",
       "      <td>5</td>\n",
       "      <td>0.892473</td>\n",
       "    </tr>\n",
       "    <tr>\n",
       "      <th>13</th>\n",
       "      <td>ensemble_0.4:0.6</td>\n",
       "      <td>6</td>\n",
       "      <td>0.903226</td>\n",
       "    </tr>\n",
       "    <tr>\n",
       "      <th>14</th>\n",
       "      <td>ensemble_0.4:0.6</td>\n",
       "      <td>7</td>\n",
       "      <td>0.913978</td>\n",
       "    </tr>\n",
       "    <tr>\n",
       "      <th>15</th>\n",
       "      <td>ensemble_0.4:0.6</td>\n",
       "      <td>8</td>\n",
       "      <td>0.935484</td>\n",
       "    </tr>\n",
       "    <tr>\n",
       "      <th>16</th>\n",
       "      <td>ensemble_0.5:0.5</td>\n",
       "      <td>1</td>\n",
       "      <td>0.548387</td>\n",
       "    </tr>\n",
       "    <tr>\n",
       "      <th>17</th>\n",
       "      <td>ensemble_0.5:0.5</td>\n",
       "      <td>2</td>\n",
       "      <td>0.774194</td>\n",
       "    </tr>\n",
       "    <tr>\n",
       "      <th>18</th>\n",
       "      <td>ensemble_0.5:0.5</td>\n",
       "      <td>3</td>\n",
       "      <td>0.860215</td>\n",
       "    </tr>\n",
       "    <tr>\n",
       "      <th>19</th>\n",
       "      <td>ensemble_0.5:0.5</td>\n",
       "      <td>4</td>\n",
       "      <td>0.892473</td>\n",
       "    </tr>\n",
       "    <tr>\n",
       "      <th>20</th>\n",
       "      <td>ensemble_0.5:0.5</td>\n",
       "      <td>5</td>\n",
       "      <td>0.913978</td>\n",
       "    </tr>\n",
       "    <tr>\n",
       "      <th>21</th>\n",
       "      <td>ensemble_0.5:0.5</td>\n",
       "      <td>6</td>\n",
       "      <td>0.946237</td>\n",
       "    </tr>\n",
       "    <tr>\n",
       "      <th>22</th>\n",
       "      <td>ensemble_0.5:0.5</td>\n",
       "      <td>7</td>\n",
       "      <td>0.956989</td>\n",
       "    </tr>\n",
       "    <tr>\n",
       "      <th>23</th>\n",
       "      <td>ensemble_0.5:0.5</td>\n",
       "      <td>8</td>\n",
       "      <td>0.978495</td>\n",
       "    </tr>\n",
       "    <tr>\n",
       "      <th>24</th>\n",
       "      <td>ensemble_0.7:0.3</td>\n",
       "      <td>1</td>\n",
       "      <td>0.548387</td>\n",
       "    </tr>\n",
       "    <tr>\n",
       "      <th>25</th>\n",
       "      <td>ensemble_0.7:0.3</td>\n",
       "      <td>2</td>\n",
       "      <td>0.698925</td>\n",
       "    </tr>\n",
       "    <tr>\n",
       "      <th>26</th>\n",
       "      <td>ensemble_0.7:0.3</td>\n",
       "      <td>3</td>\n",
       "      <td>0.806452</td>\n",
       "    </tr>\n",
       "    <tr>\n",
       "      <th>27</th>\n",
       "      <td>ensemble_0.7:0.3</td>\n",
       "      <td>4</td>\n",
       "      <td>0.870968</td>\n",
       "    </tr>\n",
       "    <tr>\n",
       "      <th>28</th>\n",
       "      <td>ensemble_0.7:0.3</td>\n",
       "      <td>5</td>\n",
       "      <td>0.892473</td>\n",
       "    </tr>\n",
       "    <tr>\n",
       "      <th>29</th>\n",
       "      <td>ensemble_0.7:0.3</td>\n",
       "      <td>6</td>\n",
       "      <td>0.903226</td>\n",
       "    </tr>\n",
       "    <tr>\n",
       "      <th>30</th>\n",
       "      <td>ensemble_0.7:0.3</td>\n",
       "      <td>7</td>\n",
       "      <td>0.913978</td>\n",
       "    </tr>\n",
       "    <tr>\n",
       "      <th>31</th>\n",
       "      <td>ensemble_0.7:0.3</td>\n",
       "      <td>8</td>\n",
       "      <td>0.935484</td>\n",
       "    </tr>\n",
       "    <tr>\n",
       "      <th>32</th>\n",
       "      <td>ensemble_0.90.1</td>\n",
       "      <td>1</td>\n",
       "      <td>0.548387</td>\n",
       "    </tr>\n",
       "    <tr>\n",
       "      <th>33</th>\n",
       "      <td>ensemble_0.90.1</td>\n",
       "      <td>2</td>\n",
       "      <td>0.698925</td>\n",
       "    </tr>\n",
       "    <tr>\n",
       "      <th>34</th>\n",
       "      <td>ensemble_0.90.1</td>\n",
       "      <td>3</td>\n",
       "      <td>0.806452</td>\n",
       "    </tr>\n",
       "    <tr>\n",
       "      <th>35</th>\n",
       "      <td>ensemble_0.90.1</td>\n",
       "      <td>4</td>\n",
       "      <td>0.870968</td>\n",
       "    </tr>\n",
       "    <tr>\n",
       "      <th>36</th>\n",
       "      <td>ensemble_0.90.1</td>\n",
       "      <td>5</td>\n",
       "      <td>0.892473</td>\n",
       "    </tr>\n",
       "    <tr>\n",
       "      <th>37</th>\n",
       "      <td>ensemble_0.90.1</td>\n",
       "      <td>6</td>\n",
       "      <td>0.903226</td>\n",
       "    </tr>\n",
       "    <tr>\n",
       "      <th>38</th>\n",
       "      <td>ensemble_0.90.1</td>\n",
       "      <td>7</td>\n",
       "      <td>0.913978</td>\n",
       "    </tr>\n",
       "    <tr>\n",
       "      <th>39</th>\n",
       "      <td>ensemble_0.90.1</td>\n",
       "      <td>8</td>\n",
       "      <td>0.935484</td>\n",
       "    </tr>\n",
       "    <tr>\n",
       "      <th>40</th>\n",
       "      <td>jieba_cut_bm25</td>\n",
       "      <td>1</td>\n",
       "      <td>0.666667</td>\n",
       "    </tr>\n",
       "    <tr>\n",
       "      <th>41</th>\n",
       "      <td>jieba_cut_bm25</td>\n",
       "      <td>2</td>\n",
       "      <td>0.784946</td>\n",
       "    </tr>\n",
       "    <tr>\n",
       "      <th>42</th>\n",
       "      <td>jieba_cut_bm25</td>\n",
       "      <td>3</td>\n",
       "      <td>0.838710</td>\n",
       "    </tr>\n",
       "    <tr>\n",
       "      <th>43</th>\n",
       "      <td>jieba_cut_bm25</td>\n",
       "      <td>4</td>\n",
       "      <td>0.870968</td>\n",
       "    </tr>\n",
       "    <tr>\n",
       "      <th>44</th>\n",
       "      <td>jieba_cut_bm25</td>\n",
       "      <td>5</td>\n",
       "      <td>0.892473</td>\n",
       "    </tr>\n",
       "    <tr>\n",
       "      <th>45</th>\n",
       "      <td>jieba_cut_bm25</td>\n",
       "      <td>6</td>\n",
       "      <td>0.903226</td>\n",
       "    </tr>\n",
       "    <tr>\n",
       "      <th>46</th>\n",
       "      <td>jieba_cut_bm25</td>\n",
       "      <td>7</td>\n",
       "      <td>0.913978</td>\n",
       "    </tr>\n",
       "    <tr>\n",
       "      <th>47</th>\n",
       "      <td>jieba_cut_bm25</td>\n",
       "      <td>8</td>\n",
       "      <td>0.935484</td>\n",
       "    </tr>\n",
       "  </tbody>\n",
       "</table>\n",
       "</div>"
      ],
      "text/plain": [
       "           retriever  top_k  hit_rate\n",
       "0          embedding      1  0.548387\n",
       "1          embedding      2  0.698925\n",
       "2          embedding      3  0.806452\n",
       "3          embedding      4  0.870968\n",
       "4          embedding      5  0.892473\n",
       "5          embedding      6  0.903226\n",
       "6          embedding      7  0.913978\n",
       "7          embedding      8  0.935484\n",
       "8   ensemble_0.4:0.6      1  0.666667\n",
       "9   ensemble_0.4:0.6      2  0.784946\n",
       "10  ensemble_0.4:0.6      3  0.838710\n",
       "11  ensemble_0.4:0.6      4  0.870968\n",
       "12  ensemble_0.4:0.6      5  0.892473\n",
       "13  ensemble_0.4:0.6      6  0.903226\n",
       "14  ensemble_0.4:0.6      7  0.913978\n",
       "15  ensemble_0.4:0.6      8  0.935484\n",
       "16  ensemble_0.5:0.5      1  0.548387\n",
       "17  ensemble_0.5:0.5      2  0.774194\n",
       "18  ensemble_0.5:0.5      3  0.860215\n",
       "19  ensemble_0.5:0.5      4  0.892473\n",
       "20  ensemble_0.5:0.5      5  0.913978\n",
       "21  ensemble_0.5:0.5      6  0.946237\n",
       "22  ensemble_0.5:0.5      7  0.956989\n",
       "23  ensemble_0.5:0.5      8  0.978495\n",
       "24  ensemble_0.7:0.3      1  0.548387\n",
       "25  ensemble_0.7:0.3      2  0.698925\n",
       "26  ensemble_0.7:0.3      3  0.806452\n",
       "27  ensemble_0.7:0.3      4  0.870968\n",
       "28  ensemble_0.7:0.3      5  0.892473\n",
       "29  ensemble_0.7:0.3      6  0.903226\n",
       "30  ensemble_0.7:0.3      7  0.913978\n",
       "31  ensemble_0.7:0.3      8  0.935484\n",
       "32   ensemble_0.90.1      1  0.548387\n",
       "33   ensemble_0.90.1      2  0.698925\n",
       "34   ensemble_0.90.1      3  0.806452\n",
       "35   ensemble_0.90.1      4  0.870968\n",
       "36   ensemble_0.90.1      5  0.892473\n",
       "37   ensemble_0.90.1      6  0.903226\n",
       "38   ensemble_0.90.1      7  0.913978\n",
       "39   ensemble_0.90.1      8  0.935484\n",
       "40    jieba_cut_bm25      1  0.666667\n",
       "41    jieba_cut_bm25      2  0.784946\n",
       "42    jieba_cut_bm25      3  0.838710\n",
       "43    jieba_cut_bm25      4  0.870968\n",
       "44    jieba_cut_bm25      5  0.892473\n",
       "45    jieba_cut_bm25      6  0.903226\n",
       "46    jieba_cut_bm25      7  0.913978\n",
       "47    jieba_cut_bm25      8  0.935484"
      ]
     },
     "execution_count": 67,
     "metadata": {},
     "output_type": "execute_result"
    }
   ],
   "source": [
    "hit_stat_df.groupby(['retriever', 'top_k'])['hit'].mean().reset_index().rename(columns={'hit': 'hit_rate'})"
   ]
  },
  {
   "cell_type": "code",
   "execution_count": 68,
   "id": "b0b086d1-6cec-4743-8df6-2ab3b1593689",
   "metadata": {
    "execution": {
     "iopub.execute_input": "2024-08-15T15:38:08.898694Z",
     "iopub.status.busy": "2024-08-15T15:38:08.898573Z",
     "iopub.status.idle": "2024-08-15T15:38:09.094618Z",
     "shell.execute_reply": "2024-08-15T15:38:09.094192Z",
     "shell.execute_reply.started": "2024-08-15T15:38:08.898682Z"
    }
   },
   "outputs": [
    {
     "data": {
      "text/plain": [
       "<Axes: xlabel='top_k', ylabel='hit'>"
      ]
     },
     "execution_count": 68,
     "metadata": {},
     "output_type": "execute_result"
    },
    {
     "data": {
      "image/png": "[encoded data removed]",
      "text/plain": [
       "<Figure size 1400x600 with 1 Axes>"
      ]
     },
     "metadata": {},
     "output_type": "display_data"
    }
   ],
   "source": [
    "import matplotlib.pyplot as plt\n",
    "import seaborn as sns\n",
    "\n",
    "plt.figure(figsize=(14, 6))\n",
    "sns.barplot(x='top_k', y='hit', hue='retriever', data=hit_stat_df, errorbar=None)"
   ]
  },
  {
   "cell_type": "markdown",
   "id": "7925564a-7d30-4914-baaf-4a00abb7686d",
   "metadata": {},
   "source": [
    "# 问答全流程"
   ]
  },
  {
   "cell_type": "code",
   "execution_count": 29,
   "id": "8587fd0d-81e4-44e0-9ee0-7c077081046e",
   "metadata": {
    "execution": {
     "iopub.execute_input": "2024-08-08T13:48:20.582089Z",
     "iopub.status.busy": "2024-08-08T13:48:20.581917Z",
     "iopub.status.idle": "2024-08-08T13:48:20.584631Z",
     "shell.execute_reply": "2024-08-08T13:48:20.584292Z",
     "shell.execute_reply.started": "2024-08-08T13:48:20.582076Z"
    }
   },
   "outputs": [],
   "source": [
    "from langchain.llms import Ollama\n",
    "\n",
    "llm = Ollama(\n",
    "    model='qwen2:7b-instruct',\n",
    "    base_url='http://localhost:11434'\n",
    ")"
   ]
  },
  {
   "cell_type": "code",
   "execution_count": 30,
   "id": "d5d52868-4a9d-488e-8cce-55bb166e09ce",
   "metadata": {
    "execution": {
     "iopub.execute_input": "2024-08-08T13:48:20.840372Z",
     "iopub.status.busy": "2024-08-08T13:48:20.839621Z",
     "iopub.status.idle": "2024-08-08T13:48:29.365772Z",
     "shell.execute_reply": "2024-08-08T13:48:29.365291Z",
     "shell.execute_reply.started": "2024-08-08T13:48:20.840303Z"
    }
   },
   "outputs": [
    {
     "data": {
      "text/plain": [
       "'我是阿里云开发的一款超大规模语言模型，我叫通义千问。作为一个AI助手，我的目标是帮助用户获得准确、有用的信息，解决他们的问题和困惑。无论是学术问题、技术难题、日常建议还是娱乐话题，我都尽力提供高质量的回答或辅助。请随时向我提问，我会努力提供最好的帮助！'"
      ]
     },
     "execution_count": 30,
     "metadata": {},
     "output_type": "execute_result"
    }
   ],
   "source": [
    "llm.invoke('你是谁')"
   ]
  },
  {
   "cell_type": "code",
   "execution_count": 31,
   "id": "df5850ea-3f9c-4834-9de1-755d600b05b6",
   "metadata": {
    "execution": {
     "iopub.execute_input": "2024-08-08T13:48:29.366707Z",
     "iopub.status.busy": "2024-08-08T13:48:29.366432Z",
     "iopub.status.idle": "2024-08-08T13:48:29.369757Z",
     "shell.execute_reply": "2024-08-08T13:48:29.369427Z",
     "shell.execute_reply.started": "2024-08-08T13:48:29.366693Z"
    }
   },
   "outputs": [],
   "source": [
    "def rag(retriever, query, n_chunks=4):\n",
    "    prompt_tmpl = \"\"\"\n",
    "你是一个金融分析师，擅长根据所获取的信息片段，对问题进行分析和推理。\n",
    "你的任务是根据所获取的信息片段（<<<<context>>><<<</context>>>之间的内容）回答问题。\n",
    "回答保持简洁，不必重复问题，不要添加描述性解释和与答案无关的任何内容。\n",
    "已知信息：\n",
    "<<<<context>>>\n",
    "{{knowledge}}\n",
    "<<<</context>>>\n",
    "\n",
    "问题：{{query}}\n",
    "请回答：\n",
    "\"\"\".strip()\n",
    "\n",
    "    # chunks = retrieve(vector_db, query, k=n_chunks)\n",
    "    chunks = retriever.get_relevant_documents(query)[:n_chunks]\n",
    "    prompt = prompt_tmpl.replace('{{knowledge}}', '\\n\\n'.join([doc.page_content for doc in chunks])).replace('{{query}}', query)\n",
    "\n",
    "    return llm(prompt), chunks"
   ]
  },
  {
   "cell_type": "code",
   "execution_count": 32,
   "id": "7cf52672-6e47-458d-b050-51cb45178184",
   "metadata": {
    "execution": {
     "iopub.execute_input": "2024-08-08T13:48:35.917955Z",
     "iopub.status.busy": "2024-08-08T13:48:35.917185Z",
     "iopub.status.idle": "2024-08-08T13:48:41.565895Z",
     "shell.execute_reply": "2024-08-08T13:48:41.565393Z",
     "shell.execute_reply.started": "2024-08-08T13:48:35.917885Z"
    }
   },
   "outputs": [
    {
     "name": "stderr",
     "output_type": "stream",
     "text": [
      "/opt/anaconda3/lib/python3.10/site-packages/langchain_core/_api/deprecation.py:139: LangChainDeprecationWarning: The method `BaseLLM.__call__` was deprecated in langchain-core 0.1.7 and will be removed in 0.3.0. Use invoke instead.\n",
      "  warn_deprecated(\n"
     ]
    },
    {
     "name": "stdout",
     "output_type": "stream",
     "text": [
      "2023年10月美国ISM制造业PMI指数较上个月大幅下降了2.3个百分点。\n"
     ]
    }
   ],
   "source": [
    "n_chunks = 3\n",
    "\n",
    "retriever = build_get_ensemble_retriver_fn(weights=[0.5, 0.5])(n_chunks)\n",
    "print(rag(retriever, '2023年10月美国ISM制造业PMI指数较上月有何变化？')[0])"
   ]
  },
  {
   "cell_type": "markdown",
   "id": "0606dfb4-494b-4101-9bbe-b4e7105d6626",
   "metadata": {},
   "source": [
    "## 预测"
   ]
  },
  {
   "cell_type": "code",
   "execution_count": 33,
   "id": "beba9763-119d-4519-b06e-d3290d153f3c",
   "metadata": {
    "execution": {
     "iopub.execute_input": "2024-08-08T13:48:42.722277Z",
     "iopub.status.busy": "2024-08-08T13:48:42.722064Z",
     "iopub.status.idle": "2024-08-08T13:48:42.726977Z",
     "shell.execute_reply": "2024-08-08T13:48:42.726586Z",
     "shell.execute_reply.started": "2024-08-08T13:48:42.722264Z"
    }
   },
   "outputs": [],
   "source": [
    "prediction_df = qa_df[qa_df['dataset'] == 'test'][['uuid', 'question', 'qa_type', 'answer']].rename(columns={'answer': 'ref_answer'})\n",
    "\n",
    "def predict(prediction_df, retriever, n_chunks):\n",
    "    prediction_df = prediction_df.copy()\n",
    "    answer_dict = {}\n",
    "\n",
    "    for idx, row in tqdm(prediction_df.iterrows(), total=len(prediction_df)):\n",
    "        uuid = row['uuid']\n",
    "        question = row['question']\n",
    "        answer, chunks = rag(retriever, question, n_chunks=n_chunks)\n",
    "        assert len(chunks) <= n_chunks\n",
    "        answer_dict[question] = {\n",
    "            'uuid': uuid,\n",
    "            'ref_answer': row['ref_answer'],\n",
    "            'gen_answer': answer,\n",
    "            'chunks': chunks\n",
    "        }\n",
    "    prediction_df.loc[:, 'gen_answer'] = prediction_df['question'].apply(lambda q: answer_dict[q]['gen_answer'])\n",
    "    prediction_df.loc[:, 'chunks'] = prediction_df['question'].apply(lambda q: answer_dict[q]['chunks'])\n",
    "\n",
    "    return prediction_df"
   ]
  },
  {
   "cell_type": "code",
   "execution_count": 36,
   "id": "369e5bd3-d2f4-4b81-b072-d53775df3d97",
   "metadata": {
    "execution": {
     "iopub.execute_input": "2024-08-08T13:50:44.576362Z",
     "iopub.status.busy": "2024-08-08T13:50:44.576144Z",
     "iopub.status.idle": "2024-08-08T14:29:59.799089Z",
     "shell.execute_reply": "2024-08-08T14:29:59.798618Z",
     "shell.execute_reply.started": "2024-08-08T13:50:44.576347Z"
    }
   },
   "outputs": [
    {
     "data": {
      "application/vnd.jupyter.widget-view+json": {
       "model_id": "81751efde9a7444b813d15f1659d9839",
       "version_major": 2,
       "version_minor": 0
      },
      "text/plain": [
       "  0%|          | 0/100 [00:00<?, ?it/s]"
      ]
     },
     "metadata": {},
     "output_type": "display_data"
    }
   ],
   "source": [
    "n_chunks = 3\n",
    "retriver = build_get_ensemble_retriver_fn(weights=[0.5, 0.5])(n_chunks)\n",
    "pred_df = predict(prediction_df, retriever, n_chunks=n_chunks)"
   ]
  },
  {
   "cell_type": "markdown",
   "id": "20639664-cc94-4057-b2bb-00d574b9d6c0",
   "metadata": {},
   "source": [
    "# 评估"
   ]
  },
  {
   "cell_type": "code",
   "execution_count": 42,
   "id": "a8184601-720c-4f0e-8b54-bdd84deb3051",
   "metadata": {
    "execution": {
     "iopub.execute_input": "2024-08-08T14:48:41.056107Z",
     "iopub.status.busy": "2024-08-08T14:48:41.055937Z",
     "iopub.status.idle": "2024-08-08T14:48:41.071658Z",
     "shell.execute_reply": "2024-08-08T14:48:41.071154Z",
     "shell.execute_reply.started": "2024-08-08T14:48:41.056094Z"
    }
   },
   "outputs": [],
   "source": [
    "from langchain_openai import ChatOpenAI\n",
    "import time\n",
    "\n",
    "judge_llm = ChatOpenAI(\n",
    "    api_key=os.environ['LLM_API_KEY'],\n",
    "    base_url=os.environ['LLM_BASE_URL'],\n",
    "    model_name='qwen2-72b-instruct',\n",
    "    temperature=0\n",
    ")\n",
    "\n",
    "def evaluate(prediction_df):\n",
    "    \"\"\"\n",
    "    对预测结果进行打分\n",
    "    :param prediction_df: 预测结果，需要包含问题，参考答案，生成的答案，列名分别为question, ref_answer, gen_answer\n",
    "    :return 打分模型原始返回结果\n",
    "    \"\"\"\n",
    "    prompt_tmpl = \"\"\"\n",
    "你是一个经济学博士，现在我有一系列问题，有一个助手已经对这些问题进行了回答，你需要参照参考答案，评价这个助手的回答是否正确，仅回复“是”或“否”即可，不要带其他描述性内容或无关信息。\n",
    "问题：\n",
    "<question>\n",
    "{{question}}\n",
    "</question>\n",
    "\n",
    "参考答案：\n",
    "<ref_answer>\n",
    "{{ref_answer}}\n",
    "</ref_answer>\n",
    "\n",
    "助手回答：\n",
    "<gen_answer>\n",
    "{{gen_answer}}\n",
    "</gen_answer>\n",
    "请评价：\n",
    "    \"\"\"\n",
    "    results = []\n",
    "\n",
    "    for _, row in tqdm(prediction_df.iterrows(), total=len(prediction_df)):\n",
    "        question = row['question']\n",
    "        ref_answer = row['ref_answer']\n",
    "        gen_answer = row['gen_answer']\n",
    "\n",
    "        prompt = prompt_tmpl.replace('{{question}}', question).replace('{{ref_answer}}', str(ref_answer)).replace('{{gen_answer}}', gen_answer).strip()\n",
    "        result = judge_llm.invoke(prompt).content\n",
    "        results.append(result)\n",
    "\n",
    "        time.sleep(1)\n",
    "    return results"
   ]
  },
  {
   "cell_type": "code",
   "execution_count": 43,
   "id": "ce596be7-0850-4f7e-9f00-1936333b2681",
   "metadata": {
    "execution": {
     "iopub.execute_input": "2024-08-08T14:48:42.080568Z",
     "iopub.status.busy": "2024-08-08T14:48:42.080393Z",
     "iopub.status.idle": "2024-08-08T14:51:01.642457Z",
     "shell.execute_reply": "2024-08-08T14:51:01.642098Z",
     "shell.execute_reply.started": "2024-08-08T14:48:42.080555Z"
    }
   },
   "outputs": [
    {
     "data": {
      "application/vnd.jupyter.widget-view+json": {
       "model_id": "fa424b6fe5e84fd48197977362fcd815",
       "version_major": 2,
       "version_minor": 0
      },
      "text/plain": [
       "  0%|          | 0/100 [00:00<?, ?it/s]"
      ]
     },
     "metadata": {},
     "output_type": "display_data"
    }
   ],
   "source": [
    "pred_df['raw_score'] = evaluate(pred_df)"
   ]
  },
  {
   "cell_type": "code",
   "execution_count": 44,
   "id": "08e44d7a-5567-407e-b8ba-2a9bf67fa159",
   "metadata": {
    "execution": {
     "iopub.execute_input": "2024-08-08T14:56:22.236888Z",
     "iopub.status.busy": "2024-08-08T14:56:22.236713Z",
     "iopub.status.idle": "2024-08-08T14:56:22.239892Z",
     "shell.execute_reply": "2024-08-08T14:56:22.239557Z",
     "shell.execute_reply.started": "2024-08-08T14:56:22.236874Z"
    }
   },
   "outputs": [
    {
     "data": {
      "text/plain": [
       "array(['是', '否'], dtype=object)"
      ]
     },
     "execution_count": 44,
     "metadata": {},
     "output_type": "execute_result"
    }
   ],
   "source": [
    "pred_df['raw_score'].unique()"
   ]
  },
  {
   "cell_type": "code",
   "execution_count": 45,
   "id": "dd04ba60-3a62-4672-9f71-83f18da0b04e",
   "metadata": {
    "execution": {
     "iopub.execute_input": "2024-08-08T14:56:22.859830Z",
     "iopub.status.busy": "2024-08-08T14:56:22.859646Z",
     "iopub.status.idle": "2024-08-08T14:56:22.863279Z",
     "shell.execute_reply": "2024-08-08T14:56:22.862915Z",
     "shell.execute_reply.started": "2024-08-08T14:56:22.859815Z"
    }
   },
   "outputs": [
    {
     "name": "stderr",
     "output_type": "stream",
     "text": [
      "/tmp/ipykernel_172348/3896259812.py:2: FutureWarning: Downcasting behavior in `replace` is deprecated and will be removed in a future version. To retain the old behavior, explicitly call `result.infer_objects(copy=False)`. To opt-in to the future behavior, set `pd.set_option('future.no_silent_downcasting', True)`\n",
      "  pred_df.loc[:, 'score'] = pred_df['raw_score'].replace({'是': 1, '否': 0})\n"
     ]
    }
   ],
   "source": [
    "# prediction_df['score'] = (prediction_df['raw_score'] == '是').astype(int)\n",
    "pred_df.loc[:, 'score'] = pred_df['raw_score'].replace({'是': 1, '否': 0})\n",
    "_ = pred_df.pop('raw_score')"
   ]
  },
  {
   "cell_type": "code",
   "execution_count": 46,
   "id": "e7d776e2-1e79-4627-b035-f997db8a70dd",
   "metadata": {
    "execution": {
     "iopub.execute_input": "2024-08-08T14:56:23.492027Z",
     "iopub.status.busy": "2024-08-08T14:56:23.491826Z",
     "iopub.status.idle": "2024-08-08T14:56:23.495217Z",
     "shell.execute_reply": "2024-08-08T14:56:23.494878Z",
     "shell.execute_reply.started": "2024-08-08T14:56:23.492013Z"
    }
   },
   "outputs": [
    {
     "data": {
      "text/plain": [
       "0.78"
      ]
     },
     "execution_count": 46,
     "metadata": {},
     "output_type": "execute_result"
    }
   ],
   "source": [
    "pred_df['score'].mean()"
   ]
  },
  {
   "cell_type": "code",
   "execution_count": null,
   "id": "b05ebb8f-0263-4e45-a8c2-a9eac9dee541",
   "metadata": {},
   "outputs": [],
   "source": [
    "pred_df.to_excel(os.path.join(expr_dir, 'prediction.xlsx'), index=False)"
   ]
  }
 ],
 "metadata": {
  "kernelspec": {
   "display_name": "gold-yolo",
   "language": "python",
   "name": "python3"
  },
  "language_info": {
   "codemirror_mode": {
    "name": "ipython",
    "version": 3
   },
   "file_extension": ".py",
   "mimetype": "text/x-python",
   "name": "python",
   "nbconvert_exporter": "python",
   "pygments_lexer": "ipython3",
   "version": "3.8.17"
  }
 },
 "nbformat": 4,
 "nbformat_minor": 5
}
