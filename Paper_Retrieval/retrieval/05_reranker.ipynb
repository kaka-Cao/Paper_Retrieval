{
 "cells": [
  {
   "cell_type": "code",
   "execution_count": 2,
   "id": "a57d6663-4055-40a6-a9fc-dffb38c418b1",
   "metadata": {
    "execution": {
     "iopub.execute_input": "2024-09-02T07:30:53.435174Z",
     "iopub.status.busy": "2024-09-02T07:30:53.434993Z",
     "iopub.status.idle": "2024-09-02T07:30:53.437324Z",
     "shell.execute_reply": "2024-09-02T07:30:53.437001Z",
     "shell.execute_reply.started": "2024-09-02T07:30:53.435144Z"
    }
   },
   "outputs": [],
   "source": [
    "# %%capture --no-stderr\n",
    "# !pip install -U langchain langchain-community langchain-openai langchain-cohere pypdf sentence_transformers chromadb shutil openpyxl FlagEmbedding cohere"
   ]
  },
  {
   "cell_type": "code",
   "execution_count": 1,
   "id": "603ae327-d834-4074-b8f0-5801669a6f26",
   "metadata": {
    "ExecuteTime": {
     "end_time": "2024-09-02T15:27:54.473394Z",
     "start_time": "2024-09-02T15:27:54.471190Z"
    },
    "execution": {
     "iopub.execute_input": "2024-09-02T07:30:53.438150Z",
     "iopub.status.busy": "2024-09-02T07:30:53.438018Z",
     "iopub.status.idle": "2024-09-02T07:30:53.451374Z",
     "shell.execute_reply": "2024-09-02T07:30:53.451021Z",
     "shell.execute_reply.started": "2024-09-02T07:30:53.438137Z"
    }
   },
   "outputs": [
    {
     "name": "stdout",
     "output_type": "stream",
     "text": [
      "env: LLM_API_KEY=替换为自己的千问API Key\n",
      "env: LLM_BASE_URL=https://dashscope.aliyuncs.com/compatible-mode/v1\n",
      "env: COHERE_API_KEY=替换为自己的Cohere API Key\n"
     ]
    }
   ],
   "source": [
    "# %env LLM_API_KEY=替换为自己的千问API Key\n",
    "# %env LLM_BASE_URL=https://dashscope.aliyuncs.com/compatible-mode/v1\n",
    "# %env COHERE_API_KEY=替换为自己的Cohere API Key"
   ]
  },
  {
   "cell_type": "code",
   "execution_count": 4,
   "id": "1b6c2792-91bf-464a-bb0d-9724f790c6f9",
   "metadata": {
    "execution": {
     "iopub.execute_input": "2024-09-02T07:30:53.451864Z",
     "iopub.status.busy": "2024-09-02T07:30:53.451740Z",
     "iopub.status.idle": "2024-09-02T07:30:57.936090Z",
     "shell.execute_reply": "2024-09-02T07:30:57.935645Z",
     "shell.execute_reply.started": "2024-09-02T07:30:53.451851Z"
    }
   },
   "outputs": [
    {
     "name": "stderr",
     "output_type": "stream",
     "text": [
      "/opt/anaconda3/lib/python3.10/site-packages/sentence_transformers/cross_encoder/CrossEncoder.py:11: TqdmExperimentalWarning: Using `tqdm.autonotebook.tqdm` in notebook mode. Use `tqdm.tqdm` instead to force console mode (e.g. in jupyter console)\n",
      "  from tqdm.autonotebook import tqdm, trange\n",
      "2024-09-02 15:30:55.279988: W tensorflow/stream_executor/platform/default/dso_loader.cc:64] Could not load dynamic library 'libcudart.so.11.0'; dlerror: libcudart.so.11.0: cannot open shared object file: No such file or directory; LD_LIBRARY_PATH: /usr/local/cuda/lib64:/usr/local/cuda/lib64:\n",
      "2024-09-02 15:30:55.280005: I tensorflow/stream_executor/cuda/cudart_stub.cc:29] Ignore above cudart dlerror if you do not have a GPU set up on your machine.\n",
      "/opt/anaconda3/lib/python3.10/site-packages/pydantic/_internal/_config.py:341: UserWarning: Valid config keys have changed in V2:\n",
      "* 'allow_population_by_field_name' has been renamed to 'populate_by_name'\n",
      "* 'smart_union' has been removed\n",
      "  warnings.warn(message, UserWarning)\n"
     ]
    },
    {
     "name": "stdout",
     "output_type": "stream",
     "text": [
      "langchain                     0.2.10\n",
      "langchain_core                0.2.28\n",
      "langchain_community           0.2.9\n",
      "pypdf                         4.3.1\n",
      "sentence_transformers         3.0.1\n",
      "cohere                        5.8.0\n",
      "chromadb                      0.5.4\n"
     ]
    }
   ],
   "source": [
    "# import langchain, langchain_community, pypdf, sentence_transformers, chromadb, langchain_core, cohere\n",
    "\n",
    "# for module in (langchain, langchain_core, langchain_community, pypdf, sentence_transformers, cohere, chromadb):\n",
    "#     print(f\"{module.__name__:<30}{module.__version__}\")"
   ]
  },
  {
   "cell_type": "code",
   "execution_count": 5,
   "id": "1e2c72b8-ee12-4130-af88-699998aa230c",
   "metadata": {
    "execution": {
     "iopub.execute_input": "2024-09-02T07:30:57.936903Z",
     "iopub.status.busy": "2024-09-02T07:30:57.936598Z",
     "iopub.status.idle": "2024-09-02T07:30:57.939109Z",
     "shell.execute_reply": "2024-09-02T07:30:57.938752Z",
     "shell.execute_reply.started": "2024-09-02T07:30:57.936889Z"
    }
   },
   "outputs": [],
   "source": [
    "import os\n",
    "import pandas as pd"
   ]
  },
  {
   "cell_type": "code",
   "execution_count": 6,
   "id": "841d2b02-ad06-40d2-b11f-c7adccec6ca2",
   "metadata": {
    "execution": {
     "iopub.execute_input": "2024-09-02T07:30:57.940452Z",
     "iopub.status.busy": "2024-09-02T07:30:57.940159Z",
     "iopub.status.idle": "2024-09-02T07:30:57.954372Z",
     "shell.execute_reply": "2024-09-02T07:30:57.953272Z",
     "shell.execute_reply.started": "2024-09-02T07:30:57.940440Z"
    }
   },
   "outputs": [],
   "source": [
    "expr_version = 'retrieval_v5_rerank'\n",
    "\n",
    "preprocess_output_dir = os.path.join(os.path.pardir, 'outputs', 'v1_20240713')\n",
    "expr_dir = os.path.join(os.path.pardir, 'experiments', expr_version)"
   ]
  },
  {
   "cell_type": "markdown",
   "id": "cf7e81e3-4c82-4842-aef5-7592caaf1d39",
   "metadata": {},
   "source": [
    "# 读取文档"
   ]
  },
  {
   "cell_type": "code",
   "execution_count": 7,
   "id": "e6920e29-bc7d-4635-be06-d151eaf0e100",
   "metadata": {
    "execution": {
     "iopub.execute_input": "2024-09-02T07:30:57.956096Z",
     "iopub.status.busy": "2024-09-02T07:30:57.955713Z",
     "iopub.status.idle": "2024-09-02T07:30:59.389323Z",
     "shell.execute_reply": "2024-09-02T07:30:59.388864Z",
     "shell.execute_reply.started": "2024-09-02T07:30:57.956060Z"
    }
   },
   "outputs": [],
   "source": [
    "from langchain_community.document_loaders import PyPDFLoader\n",
    "\n",
    "loader = PyPDFLoader(os.path.join(os.path.pardir, 'data', '2024全球经济金融展望报告.pdf'))\n",
    "documents = loader.load()\n",
    "\n",
    "qa_df = pd.read_excel(os.path.join(preprocess_output_dir, 'question_answer.xlsx'))"
   ]
  },
  {
   "cell_type": "markdown",
   "id": "841ec659-4ad7-4e1f-b1ea-3477bf97fde3",
   "metadata": {},
   "source": [
    "# 文档切分"
   ]
  },
  {
   "cell_type": "code",
   "execution_count": 8,
   "id": "74fe856a-7c19-4c3c-bb30-7abfa6298f74",
   "metadata": {
    "execution": {
     "iopub.execute_input": "2024-09-02T07:30:59.390331Z",
     "iopub.status.busy": "2024-09-02T07:30:59.389872Z",
     "iopub.status.idle": "2024-09-02T07:30:59.396604Z",
     "shell.execute_reply": "2024-09-02T07:30:59.396188Z",
     "shell.execute_reply.started": "2024-09-02T07:30:59.390314Z"
    }
   },
   "outputs": [],
   "source": [
    "from uuid import uuid4\n",
    "import os\n",
    "import pickle\n",
    "\n",
    "from langchain.text_splitter import RecursiveCharacterTextSplitter\n",
    "\n",
    "def split_docs(documents, filepath, chunk_size=400, chunk_overlap=40, seperators=['\\n\\n\\n', '\\n\\n'], force_split=False):\n",
    "    if os.path.exists(filepath) and not force_split:\n",
    "        print('found cache, restoring...')\n",
    "        return pickle.load(open(filepath, 'rb'))\n",
    "\n",
    "    splitter = RecursiveCharacterTextSplitter(\n",
    "        chunk_size=chunk_size,\n",
    "        chunk_overlap=chunk_overlap,\n",
    "        separators=seperators\n",
    "    )\n",
    "    split_docs = splitter.split_documents(documents)\n",
    "    for chunk in split_docs:\n",
    "        chunk.metadata['uuid'] = str(uuid4())\n",
    "\n",
    "    pickle.dump(split_docs, open(filepath, 'wb'))\n",
    "\n",
    "    return split_docs"
   ]
  },
  {
   "cell_type": "code",
   "execution_count": 9,
   "id": "aa25540d-0504-4ae7-9804-9e3862b132d5",
   "metadata": {
    "execution": {
     "iopub.execute_input": "2024-09-02T07:30:59.397197Z",
     "iopub.status.busy": "2024-09-02T07:30:59.397079Z",
     "iopub.status.idle": "2024-09-02T07:30:59.408361Z",
     "shell.execute_reply": "2024-09-02T07:30:59.407891Z",
     "shell.execute_reply.started": "2024-09-02T07:30:59.397185Z"
    }
   },
   "outputs": [
    {
     "name": "stdout",
     "output_type": "stream",
     "text": [
      "found cache, restoring...\n"
     ]
    }
   ],
   "source": [
    "splitted_docs = split_docs(documents, os.path.join(preprocess_output_dir, 'split_docs.pkl'), chunk_size=500, chunk_overlap=50)"
   ]
  },
  {
   "cell_type": "markdown",
   "id": "220dbc3a-fceb-4e49-a3f1-01e16660b2a6",
   "metadata": {},
   "source": [
    "# 检索"
   ]
  },
  {
   "cell_type": "code",
   "execution_count": 10,
   "id": "8598a11c-25d8-4af1-a98b-06a8c394e261",
   "metadata": {
    "execution": {
     "iopub.execute_input": "2024-09-02T07:30:59.408995Z",
     "iopub.status.busy": "2024-09-02T07:30:59.408868Z",
     "iopub.status.idle": "2024-09-02T07:30:59.423047Z",
     "shell.execute_reply": "2024-09-02T07:30:59.422623Z",
     "shell.execute_reply.started": "2024-09-02T07:30:59.408983Z"
    }
   },
   "outputs": [
    {
     "name": "stdout",
     "output_type": "stream",
     "text": [
      "device: cuda\n"
     ]
    }
   ],
   "source": [
    "from langchain.embeddings import HuggingFaceBgeEmbeddings\n",
    "from langchain_community.vectorstores import Chroma\n",
    "import torch\n",
    "\n",
    "device = 'cuda' if torch.cuda.is_available() else 'cpu'\n",
    "print(f'device: {device}')\n",
    "\n",
    "def get_embeddings(model_path):\n",
    "    embeddings = HuggingFaceBgeEmbeddings(\n",
    "        model_name=model_path,\n",
    "        model_kwargs={'device': device},\n",
    "        encode_kwargs={'normalize_embeddings': True},\n",
    "        # show_progress=True\n",
    "        query_instruction='为这个句子生成表示以用于检索相关文章：'\n",
    "    )\n",
    "    return embeddings"
   ]
  },
  {
   "cell_type": "code",
   "execution_count": 11,
   "id": "663ef1a4-5866-4f6b-8d9d-4724f62142cb",
   "metadata": {
    "execution": {
     "iopub.execute_input": "2024-09-02T07:30:59.423628Z",
     "iopub.status.busy": "2024-09-02T07:30:59.423510Z",
     "iopub.status.idle": "2024-09-02T07:31:14.502713Z",
     "shell.execute_reply": "2024-09-02T07:31:14.502214Z",
     "shell.execute_reply.started": "2024-09-02T07:30:59.423616Z"
    }
   },
   "outputs": [
    {
     "name": "stderr",
     "output_type": "stream",
     "text": [
      "Building prefix dict from the default dictionary ...\n",
      "Loading model from cache /tmp/jieba.cache\n",
      "Loading model cost 0.491 seconds.\n",
      "Prefix dict has been built successfully.\n"
     ]
    }
   ],
   "source": [
    "import jieba\n",
    "import shutil\n",
    "\n",
    "from tqdm.auto import tqdm\n",
    "from langchain_community.vectorstores import Chroma\n",
    "from langchain.retrievers import BM25Retriever, EnsembleRetriever\n",
    "\n",
    "# 如果已下载，可以替换为本机路径\n",
    "model_path = 'stevenluo/bge-large-zh-v1.5-ft-v4'\n",
    "embeddings = get_embeddings(model_path)\n",
    "\n",
    "persist_directory = os.path.join(expr_dir, 'chroma', 'bge')\n",
    "shutil.rmtree(persist_directory, ignore_errors=True)\n",
    "vector_db = Chroma.from_documents(\n",
    "    splitted_docs,\n",
    "    embedding=embeddings,\n",
    "    persist_directory=persist_directory\n",
    ")\n",
    "chz_cut_bm25_retriever = BM25Retriever.from_documents(splitted_docs, preprocess_func=lambda text: list(jieba.cut(text)))\n",
    "\n",
    "def build_get_ensemble_retriver_fn(weights=[0.5, 0.5]):\n",
    "    return lambda k: EnsembleRetriever(\n",
    "        retrievers=[vector_db.as_retriever(search_kwargs={'k': k}), chz_cut_bm25_retriever], weights=weights\n",
    "    )"
   ]
  },
  {
   "cell_type": "markdown",
   "id": "566c6f3c-5777-4aa9-bc60-a3ee23050506",
   "metadata": {},
   "source": [
    "## 计算没有Reranker的准确率"
   ]
  },
  {
   "cell_type": "code",
   "execution_count": 12,
   "id": "b03e3382-39e9-4932-a265-69b811041629",
   "metadata": {
    "execution": {
     "iopub.execute_input": "2024-09-02T07:31:14.503462Z",
     "iopub.status.busy": "2024-09-02T07:31:14.503267Z",
     "iopub.status.idle": "2024-09-02T07:31:14.506486Z",
     "shell.execute_reply": "2024-09-02T07:31:14.506150Z",
     "shell.execute_reply.started": "2024-09-02T07:31:14.503449Z"
    }
   },
   "outputs": [],
   "source": [
    "test_df = qa_df[(qa_df['dataset'] == 'test') & (qa_df['qa_type'] == 'detailed')]"
   ]
  },
  {
   "cell_type": "code",
   "execution_count": 13,
   "id": "32c3ad14-b217-44aa-bdb9-909b9d559668",
   "metadata": {
    "execution": {
     "iopub.execute_input": "2024-09-02T07:31:14.507137Z",
     "iopub.status.busy": "2024-09-02T07:31:14.506963Z",
     "iopub.status.idle": "2024-09-02T07:31:14.520575Z",
     "shell.execute_reply": "2024-09-02T07:31:14.520096Z",
     "shell.execute_reply.started": "2024-09-02T07:31:14.507126Z"
    }
   },
   "outputs": [],
   "source": [
    "def get_hit_stat_df(get_retriever_fn, top_k_arr=list(range(1, 9))):\n",
    "    hit_stat_data = []\n",
    "\n",
    "    for k in tqdm(top_k_arr):\n",
    "        retriever = get_retriever_fn(k)\n",
    "        for idx, row in test_df.iterrows():\n",
    "            question = row['question']\n",
    "            true_uuid = row['uuid']\n",
    "            # chunks = retrieve_fn(question, k=k)\n",
    "            chunks = retriever.get_relevant_documents(question)[:k]\n",
    "            retrieved_uuids = [doc.metadata['uuid'] for doc in chunks]\n",
    "\n",
    "            hit_stat_data.append({\n",
    "                'question': question,\n",
    "                'top_k': k,\n",
    "                'hit': int(true_uuid in retrieved_uuids),\n",
    "                'retrieved_chunks': len(chunks)\n",
    "            })\n",
    "    hit_stat_df = pd.DataFrame(hit_stat_data)\n",
    "    return hit_stat_df"
   ]
  },
  {
   "cell_type": "code",
   "execution_count": 14,
   "id": "a63797c7-4151-4f55-8e5d-080c34265393",
   "metadata": {
    "execution": {
     "iopub.execute_input": "2024-09-02T07:31:14.521221Z",
     "iopub.status.busy": "2024-09-02T07:31:14.521060Z",
     "iopub.status.idle": "2024-09-02T07:31:32.717549Z",
     "shell.execute_reply": "2024-09-02T07:31:32.717211Z",
     "shell.execute_reply.started": "2024-09-02T07:31:14.521209Z"
    }
   },
   "outputs": [
    {
     "data": {
      "application/vnd.jupyter.widget-view+json": {
       "model_id": "80de1de87a324ad29a716d252747c0cf",
       "version_major": 2,
       "version_minor": 0
      },
      "text/plain": [
       "  0%|          | 0/8 [00:00<?, ?it/s]"
      ]
     },
     "metadata": {},
     "output_type": "display_data"
    },
    {
     "name": "stderr",
     "output_type": "stream",
     "text": [
      "/opt/anaconda3/lib/python3.10/site-packages/langchain_core/_api/deprecation.py:139: LangChainDeprecationWarning: The method `BaseRetriever.get_relevant_documents` was deprecated in langchain-core 0.1.46 and will be removed in 0.3.0. Use invoke instead.\n",
      "  warn_deprecated(\n"
     ]
    }
   ],
   "source": [
    "retriever_only_hit_stat_df = get_hit_stat_df(build_get_ensemble_retriver_fn(weights=[0.5, 0.5]))"
   ]
  },
  {
   "cell_type": "code",
   "execution_count": 15,
   "id": "d4890789-a44c-41de-b17f-0ff505788494",
   "metadata": {
    "execution": {
     "iopub.execute_input": "2024-09-02T07:31:32.719437Z",
     "iopub.status.busy": "2024-09-02T07:31:32.719304Z",
     "iopub.status.idle": "2024-09-02T07:31:32.725844Z",
     "shell.execute_reply": "2024-09-02T07:31:32.725533Z",
     "shell.execute_reply.started": "2024-09-02T07:31:32.719424Z"
    }
   },
   "outputs": [
    {
     "data": {
      "text/html": [
       "<div>\n",
       "<style scoped>\n",
       "    .dataframe tbody tr th:only-of-type {\n",
       "        vertical-align: middle;\n",
       "    }\n",
       "\n",
       "    .dataframe tbody tr th {\n",
       "        vertical-align: top;\n",
       "    }\n",
       "\n",
       "    .dataframe thead th {\n",
       "        text-align: right;\n",
       "    }\n",
       "</style>\n",
       "<table border=\"1\" class=\"dataframe\">\n",
       "  <thead>\n",
       "    <tr style=\"text-align: right;\">\n",
       "      <th></th>\n",
       "      <th>top_k</th>\n",
       "      <th>hit_rate</th>\n",
       "    </tr>\n",
       "  </thead>\n",
       "  <tbody>\n",
       "    <tr>\n",
       "      <th>0</th>\n",
       "      <td>1</td>\n",
       "      <td>0.548387</td>\n",
       "    </tr>\n",
       "    <tr>\n",
       "      <th>1</th>\n",
       "      <td>2</td>\n",
       "      <td>0.752688</td>\n",
       "    </tr>\n",
       "    <tr>\n",
       "      <th>2</th>\n",
       "      <td>3</td>\n",
       "      <td>0.870968</td>\n",
       "    </tr>\n",
       "    <tr>\n",
       "      <th>3</th>\n",
       "      <td>4</td>\n",
       "      <td>0.892473</td>\n",
       "    </tr>\n",
       "    <tr>\n",
       "      <th>4</th>\n",
       "      <td>5</td>\n",
       "      <td>0.913978</td>\n",
       "    </tr>\n",
       "    <tr>\n",
       "      <th>5</th>\n",
       "      <td>6</td>\n",
       "      <td>0.935484</td>\n",
       "    </tr>\n",
       "    <tr>\n",
       "      <th>6</th>\n",
       "      <td>7</td>\n",
       "      <td>0.946237</td>\n",
       "    </tr>\n",
       "    <tr>\n",
       "      <th>7</th>\n",
       "      <td>8</td>\n",
       "      <td>0.967742</td>\n",
       "    </tr>\n",
       "  </tbody>\n",
       "</table>\n",
       "</div>"
      ],
      "text/plain": [
       "   top_k  hit_rate\n",
       "0      1  0.548387\n",
       "1      2  0.752688\n",
       "2      3  0.870968\n",
       "3      4  0.892473\n",
       "4      5  0.913978\n",
       "5      6  0.935484\n",
       "6      7  0.946237\n",
       "7      8  0.967742"
      ]
     },
     "execution_count": 15,
     "metadata": {},
     "output_type": "execute_result"
    }
   ],
   "source": [
    "retriever_only_hit_stat_df.groupby(['top_k'])['hit'].mean().reset_index().rename(columns={'hit': 'hit_rate'})"
   ]
  },
  {
   "cell_type": "code",
   "execution_count": 16,
   "id": "b0b086d1-6cec-4743-8df6-2ab3b1593689",
   "metadata": {
    "execution": {
     "iopub.execute_input": "2024-09-02T07:31:32.726378Z",
     "iopub.status.busy": "2024-09-02T07:31:32.726255Z",
     "iopub.status.idle": "2024-09-02T07:31:33.059379Z",
     "shell.execute_reply": "2024-09-02T07:31:33.058884Z",
     "shell.execute_reply.started": "2024-09-02T07:31:32.726366Z"
    }
   },
   "outputs": [
    {
     "data": {
      "text/plain": [
       "<Axes: xlabel='top_k', ylabel='hit'>"
      ]
     },
     "execution_count": 16,
     "metadata": {},
     "output_type": "execute_result"
    },
    {
     "data": {
      "image/png": "[encoded data removed]",
      "text/plain": [
       "<Figure size 640x480 with 1 Axes>"
      ]
     },
     "metadata": {},
     "output_type": "display_data"
    }
   ],
   "source": [
    "import seaborn as sns\n",
    "\n",
    "sns.barplot(x='top_k', y='hit', data=retriever_only_hit_stat_df, errorbar=None)"
   ]
  },
  {
   "cell_type": "markdown",
   "id": "e6c2e518-ae0c-42e6-b610-9cc68cb68448",
   "metadata": {},
   "source": [
    "## 加Reranker"
   ]
  },
  {
   "cell_type": "markdown",
   "id": "3dc58af5-bd58-4719-9ca1-9652d5790c74",
   "metadata": {},
   "source": [
    "### Coheree Rerank"
   ]
  },
  {
   "cell_type": "markdown",
   "id": "034746a0-028d-41cf-98f4-b2a739994cfd",
   "metadata": {
    "execution": {
     "iopub.execute_input": "2024-08-15T03:17:39.918059Z",
     "iopub.status.busy": "2024-08-15T03:17:39.917257Z",
     "iopub.status.idle": "2024-08-15T03:17:39.936058Z",
     "shell.execute_reply": "2024-08-15T03:17:39.933046Z",
     "shell.execute_reply.started": "2024-08-15T03:17:39.917988Z"
    }
   },
   "source": [
    "官方样例\n",
    "\n",
    "```python\n",
    "import cohere\n",
    "\n",
    "co = cohere.Client(\"<<apiKey>>\")\n",
    "\n",
    "docs = [\n",
    "    \"Carson City is the capital city of the American state of Nevada.\",\n",
    "    \"The Commonwealth of the Northern Mariana Islands is a group of islands in the Pacific Ocean. Its capital is Saipan.\",\n",
    "    \"Capitalization or capitalisation in English grammar is the use of a capital letter at the start of a word. English usage varies from capitalization in other languages.\",\n",
    "    \"Washington, D.C. (also known as simply Washington or D.C., and officially as the District of Columbia) is the capital of the United States. It is a federal district.\",\n",
    "    \"Capital punishment (the death penalty) has existed in the United States since beforethe United States was a country. As of 2017, capital punishment is legal in 30 of the 50 states.\",\n",
    "]\n",
    "\n",
    "response = co.rerank(\n",
    "    model=\"rerank-multilingual-v3.0\",\n",
    "    query=\"What is the capital of the United States?\",\n",
    "    documents=docs,\n",
    "    top_n=3,\n",
    ")\n",
    "print(response)\n",
    "```\n",
    "\n",
    "```bash\n",
    "curl --request POST \\\n",
    "  --url https://api.cohere.com/v1/rerank \\\n",
    "  --header 'accept: application/json' \\\n",
    "  --header 'content-type: application/json' \\\n",
    "  --header \"Authorization: bearer <api_key>\" \\\n",
    "  --data '{\n",
    "    \"model\": \"rerank-english-v3.0\",\n",
    "    \"query\": \"What is the capital of the United States?\",\n",
    "    \"top_n\": 3,\n",
    "    \"documents\": [\"Carson City is the capital city of the American state of Nevada.\",\n",
    "                  \"The Commonwealth of the Northern Mariana Islands is a group of islands in the Pacific Ocean. Its capital is Saipan.\",\n",
    "                  \"Washington, D.C. (also known as simply Washington or D.C., and officially as the District of Columbia) is the capital of the United States. It is a federal district.\",\n",
    "                  \"Capitalization or capitalisation in English grammar is the use of a capital letter at the start of a word. English usage varies from capitalization in other languages.\",\n",
    "                  \"Capital punishment (the death penalty) has existed in the United States since beforethe United States was a country. As of 2017, capital punishment is legal in 30 of the 50 states.\"]\n",
    "```\n",
    "resp\n",
    "```json\n",
    "{\"id\":\"0b91f9b5-fb76-468c-977b-e403c7cc4113\",\"results\":[{\"index\":2,\"relevance_score\":0.999071},{\"index\":4,\"relevance_score\":0.7867867},{\"index\":0,\"relevance_score\":0.32713068}],\"meta\":{\"api_version\":{\"version\":\"1\"},\"billed_units\":{\"search_units\":1}}}\n",
    "```"
   ]
  },
  {
   "cell_type": "markdown",
   "id": "908b50f3-5e59-41b2-823d-9894ae8d683a",
   "metadata": {},
   "source": [
    "使用Cohere Rerank在线API服务，需要有代理服务"
   ]
  },
  {
   "cell_type": "code",
   "execution_count": 17,
   "id": "2b35c45a-9897-41c6-8f9d-98410c12c82c",
   "metadata": {
    "execution": {
     "iopub.execute_input": "2024-09-02T07:31:33.060149Z",
     "iopub.status.busy": "2024-09-02T07:31:33.059849Z",
     "iopub.status.idle": "2024-09-02T07:31:33.062856Z",
     "shell.execute_reply": "2024-09-02T07:31:33.062544Z",
     "shell.execute_reply.started": "2024-09-02T07:31:33.060135Z"
    }
   },
   "outputs": [
    {
     "name": "stdout",
     "output_type": "stream",
     "text": [
      "env: http_proxy=http://192.168.31.71:4780\n",
      "env: https_proxy=http://192.168.31.71:4780\n"
     ]
    }
   ],
   "source": [
    "%env http_proxy=http://192.168.31.71:4780\n",
    "%env https_proxy=http://192.168.31.71:4780"
   ]
  },
  {
   "cell_type": "code",
   "execution_count": 18,
   "id": "851b193b-9bb0-4201-b0d4-467ddd32400c",
   "metadata": {
    "execution": {
     "iopub.execute_input": "2024-09-02T07:31:33.063391Z",
     "iopub.status.busy": "2024-09-02T07:31:33.063268Z",
     "iopub.status.idle": "2024-09-02T07:31:33.276853Z",
     "shell.execute_reply": "2024-09-02T07:31:33.276393Z",
     "shell.execute_reply.started": "2024-09-02T07:31:33.063379Z"
    }
   },
   "outputs": [],
   "source": [
    "from langchain_cohere import CohereRerank\n",
    "\n",
    "cohere_rerank = CohereRerank(model=\"rerank-english-v3.0\")"
   ]
  },
  {
   "cell_type": "markdown",
   "id": "4015ea9f-d8e6-4488-acd7-552fd96bc983",
   "metadata": {},
   "source": [
    "试用一下"
   ]
  },
  {
   "cell_type": "code",
   "execution_count": 19,
   "id": "e6c1218b-1b2a-4e9f-a7c4-6558dfbffce9",
   "metadata": {
    "execution": {
     "iopub.execute_input": "2024-09-02T07:31:33.277530Z",
     "iopub.status.busy": "2024-09-02T07:31:33.277378Z",
     "iopub.status.idle": "2024-09-02T07:31:33.279926Z",
     "shell.execute_reply": "2024-09-02T07:31:33.279609Z",
     "shell.execute_reply.started": "2024-09-02T07:31:33.277517Z"
    }
   },
   "outputs": [],
   "source": [
    "# API用量用完了\n",
    "\n",
    "# docs = [\n",
    "#     \"Carson City is the capital city of the American state of Nevada.\",\n",
    "#     \"The Commonwealth of the Northern Mariana Islands is a group of islands in the Pacific Ocean. Its capital is Saipan.\",\n",
    "#     \"Capitalization or capitalisation in English grammar is the use of a capital letter at the start of a word. English usage varies from capitalization in other languages.\",\n",
    "#     \"Washington, D.C. (also known as simply Washington or D.C., and officially as the District of Columbia) is the capital of the United States. It is a federal district.\",\n",
    "#     \"Capital punishment (the death penalty) has existed in the United States since beforethe United States was a country. As of 2017, capital punishment is legal in 30 of the 50 states.\",\n",
    "# ]\n",
    "# query = \"What is the capital of the United States?\"\n",
    "# cohere_rerank.rerank(\n",
    "#     documents=docs,\n",
    "#     query=query,\n",
    "#     top_n=None\n",
    "# )"
   ]
  },
  {
   "cell_type": "markdown",
   "id": "922105b4-882e-4063-8414-f18f2cc40a50",
   "metadata": {},
   "source": [
    "重新封装一下，以便统一本地和Cohere的Rerank"
   ]
  },
  {
   "cell_type": "code",
   "execution_count": 20,
   "id": "00910605-83f9-470e-94cb-4f5f9cf3115f",
   "metadata": {
    "execution": {
     "iopub.execute_input": "2024-09-02T07:31:33.280507Z",
     "iopub.status.busy": "2024-09-02T07:31:33.280388Z",
     "iopub.status.idle": "2024-09-02T07:31:33.294394Z",
     "shell.execute_reply": "2024-09-02T07:31:33.294008Z",
     "shell.execute_reply.started": "2024-09-02T07:31:33.280496Z"
    }
   },
   "outputs": [],
   "source": [
    "import time\n",
    "\n",
    "class LangchainCohereRerank:\n",
    "    def __init__(self, api_key=None, model='rerank-multilingual-v3.0'):\n",
    "        if api_key is not None:\n",
    "            os.environ['COHERE_API_KEY'] = api_key\n",
    "        if os.environ.get('COHERE_API_KEY') is None:\n",
    "            raise ValueError('api_key not provided! export COHERE_API_KEY environment variable os pass api_key during construct!')\n",
    "            \n",
    "        self.cohere_rerank = CohereRerank(model=model)\n",
    "\n",
    "    def compute_score(self, query_documents, max_retry=5):\n",
    "        query_docs_dict = {}\n",
    "        for query, doc in query_documents:\n",
    "            if query not in query_docs_dict:\n",
    "                query_docs_dict[query] = []\n",
    "            query_docs_dict[query].append(doc)\n",
    "        \n",
    "        ret = []\n",
    "        for query, docs in query_docs_dict.items():\n",
    "            scores = [0] * len(docs)\n",
    "            \"\"\"\n",
    "            resp样例：\n",
    "            [{'index': 3, 'relevance_score': 0.999071},\n",
    "             {'index': 4, 'relevance_score': 0.7867867},\n",
    "             {'index': 0, 'relevance_score': 0.32713068}]\n",
    "            \"\"\"\n",
    "            while max_retry > 0:\n",
    "                try:\n",
    "                    resp = cohere_rerank.rerank(\n",
    "                        query=query,\n",
    "                        documents=docs,\n",
    "                        top_n=None\n",
    "                    )\n",
    "                    for item in resp:\n",
    "                        scores[item['index']] = item['relevance_score']\n",
    "                    ret.extend(scores)\n",
    "                    break\n",
    "                except Exception as e:\n",
    "                    max_retry -= 1\n",
    "                    sleep_s = 20 + 2 ** (8 - max_retry)\n",
    "                    print(f\"query: {query}, error: {e} doc count: {len(docs)}, sleeping {sleep_s}s, retry left {max_retry}\")\n",
    "                    time.sleep(sleep_s)\n",
    "        return ret"
   ]
  },
  {
   "cell_type": "code",
   "execution_count": 21,
   "id": "f950d998-e521-4c88-9654-241d7b59f71a",
   "metadata": {
    "execution": {
     "iopub.execute_input": "2024-09-02T07:31:33.295029Z",
     "iopub.status.busy": "2024-09-02T07:31:33.294852Z",
     "iopub.status.idle": "2024-09-02T07:31:33.301558Z",
     "shell.execute_reply": "2024-09-02T07:31:33.301122Z",
     "shell.execute_reply.started": "2024-09-02T07:31:33.295016Z"
    }
   },
   "outputs": [],
   "source": [
    "# API用量用完了\n",
    "\n",
    "# LangchainCohereRerank().compute_score(\n",
    "#     [[query, doc] for doc in docs]\n",
    "# )"
   ]
  },
  {
   "cell_type": "markdown",
   "id": "c99c13af-d164-4ecc-beb9-66248c70466d",
   "metadata": {},
   "source": [
    "可以看到，返回结果，和上面对应index位置的值是相等的"
   ]
  },
  {
   "cell_type": "markdown",
   "id": "e72b05a7-2fe2-4626-a055-57c819fe9a05",
   "metadata": {},
   "source": [
    "### GTE Reranker"
   ]
  },
  {
   "cell_type": "markdown",
   "id": "e7703be7-b202-4c0e-b872-4a65a006912e",
   "metadata": {
    "execution": {
     "iopub.execute_input": "2024-09-02T01:59:58.044265Z",
     "iopub.status.busy": "2024-09-02T01:59:58.044050Z",
     "iopub.status.idle": "2024-09-02T02:00:04.786838Z",
     "shell.execute_reply": "2024-09-02T02:00:04.786457Z",
     "shell.execute_reply.started": "2024-09-02T01:59:58.044248Z"
    }
   },
   "source": [
    "官方样例，https://huggingface.co/Alibaba-NLP/gte-multilingual-reranker-base：\n",
    "\n",
    "```python\n",
    "import torch\n",
    "from transformers import AutoModelForSequenceClassification, AutoTokenizer\n",
    "\n",
    "model_name_or_path = \"Alibaba-NLP/gte-multilingual-reranker-base\"\n",
    "\n",
    "tokenizer = AutoTokenizer.from_pretrained(model_name_or_path)\n",
    "model = AutoModelForSequenceClassification.from_pretrained(\n",
    "    model_name_or_path, trust_remote_code=True,\n",
    "    torch_dtype=torch.float16\n",
    ")\n",
    "model.eval()\n",
    "\n",
    "pairs = [[\"中国的首都在哪儿\"，\"北京\"], [\"what is the capital of China?\", \"北京\"], [\"how to implement quick sort in python?\",\"Introduction of quick sort\"]]\n",
    "with torch.no_grad():\n",
    "    inputs = tokenizer(pairs, padding=True, truncation=True, return_tensors='pt', max_length=512)\n",
    "    scores = model(**inputs, return_dict=True).logits.view(-1, ).float()\n",
    "    print(scores)\n",
    "\n",
    "# tensor([1.2315, 0.5923, 0.3041])\n",
    "```\n",
    "\n",
    "Langchain中有一个HuggingFaceCrossEncoder也可以CrosssEncoder，但GTE官方样例没有提到说可以使用Langchain的HuggingFaceCrossEncoder计算。\n",
    "\n",
    "```python\n",
    "from langchain_community.cross_encoders import HuggingFaceCrossEncoder\n",
    "\n",
    "reranker = HuggingFaceCrossEncoder(\n",
    "    model_name=model_name_or_path,\n",
    "    model_kwargs={'trust_remote_code': True}\n",
    ")\n",
    "reranker.score(pairs)\n",
    "# array([0.7744, 0.644 , 0.5757], dtype=float16)\n",
    "```\n",
    "\n",
    "观察两者输出，值并不相同，但排序关系是一致的，通过阅读langchain源代码`CrossEncoder.py`可以发现，`HuggingFaceCrossEncoder`的score结果，只是GTE官方结果，过了一个sigmoid。\n",
    "也就是`torch.sigmoid(torch.tensor([1.2315, 0.5923, 0.3041]))`"
   ]
  },
  {
   "cell_type": "markdown",
   "id": "d2f53fa8-074b-4fa4-86ca-e4dc7cd0de09",
   "metadata": {},
   "source": [
    "上面提到，虽然使用HuggingFaceCrossEncoder的score也可以获取排序结果，但为了跟后面的流程保持相同接口，下面还是进行简单封装"
   ]
  },
  {
   "cell_type": "code",
   "execution_count": 22,
   "id": "2a85eaca-f90b-4293-ad02-a721192d4213",
   "metadata": {
    "execution": {
     "iopub.execute_input": "2024-09-02T07:31:33.302288Z",
     "iopub.status.busy": "2024-09-02T07:31:33.302163Z",
     "iopub.status.idle": "2024-09-02T07:31:33.307343Z",
     "shell.execute_reply": "2024-09-02T07:31:33.306924Z",
     "shell.execute_reply.started": "2024-09-02T07:31:33.302276Z"
    }
   },
   "outputs": [],
   "source": [
    "import torch\n",
    "from transformers import AutoModelForSequenceClassification, AutoTokenizer\n",
    "\n",
    "class HuggingfaceReranker:\n",
    "    def __init__(self, model_name, model_kwargs: dict):\n",
    "        self._tokenizer = AutoTokenizer.from_pretrained(model_name)\n",
    "        self._model = AutoModelForSequenceClassification.from_pretrained(\n",
    "            model_name, **model_kwargs\n",
    "        )\n",
    "\n",
    "    def compute_score(self, pairs):\n",
    "        if hasattr(self._model, 'compute_score'):\n",
    "            return self._model.compute_score(pairs)\n",
    "\n",
    "        with torch.no_grad():\n",
    "            inputs = self._tokenizer(pairs, padding=True, truncation=True, return_tensors='pt', max_length=512)\n",
    "            inputs = inputs.to(self._model.device)\n",
    "            scores = self._model(**inputs, return_dict=True).logits.view(-1, ).float()\n",
    "        return scores.cpu().numpy()"
   ]
  },
  {
   "cell_type": "code",
   "execution_count": 23,
   "id": "d5d4220b-2bb6-488a-9fb4-360531c67053",
   "metadata": {
    "execution": {
     "iopub.execute_input": "2024-09-02T07:31:33.307866Z",
     "iopub.status.busy": "2024-09-02T07:31:33.307752Z",
     "iopub.status.idle": "2024-09-02T07:31:34.684012Z",
     "shell.execute_reply": "2024-09-02T07:31:34.683610Z",
     "shell.execute_reply.started": "2024-09-02T07:31:33.307854Z"
    }
   },
   "outputs": [],
   "source": [
    "# 此处可以替换为本地绝对路径\n",
    "gte_model_path = 'AlibabaNLP/gte-multilingual-reranker-base'\n",
    "\n",
    "reranker = HuggingfaceReranker(gte_model_path, model_kwargs={'trust_remote_code': True, 'torch_dtype': torch.float16})"
   ]
  },
  {
   "cell_type": "markdown",
   "id": "42ca555e-be2a-4e14-82bf-b4f5b913a783",
   "metadata": {},
   "source": [
    "### Jina Reranker"
   ]
  },
  {
   "cell_type": "markdown",
   "id": "c46fe624-a650-4ad7-9162-2a4078a135a3",
   "metadata": {},
   "source": [
    "上面介绍的Cohere Rerank，其实就是Jina的，此处介绍的是开源模型"
   ]
  },
  {
   "cell_type": "markdown",
   "id": "04e2aca5-340f-4677-9a8b-84be525ed337",
   "metadata": {},
   "source": [
    "官方示例，https://huggingface.co/jinaai/jina-reranker-v2-base-multilingual\n",
    "\n",
    "```python\n",
    "from transformers import AutoModelForSequenceClassification\n",
    "\n",
    "model = AutoModelForSequenceClassification.from_pretrained(\n",
    "    'jinaai/jina-reranker-v2-base-multilingual',\n",
    "    torch_dtype=\"auto\",\n",
    "    trust_remote_code=True,\n",
    ")\n",
    "\n",
    "model.to('cuda') # or 'cpu' if no GPU is available\n",
    "model.eval()\n",
    "\n",
    "# Example query and documents\n",
    "query = \"Organic skincare products for sensitive skin\"\n",
    "documents = [\n",
    "    \"Organic skincare for sensitive skin with aloe vera and chamomile.\",\n",
    "    \"New makeup trends focus on bold colors and innovative techniques\",\n",
    "    \"Bio-Hautpflege für empfindliche Haut mit Aloe Vera und Kamille\",\n",
    "    \"Neue Make-up-Trends setzen auf kräftige Farben und innovative Techniken\",\n",
    "    \"Cuidado de la piel orgánico para piel sensible con aloe vera y manzanilla\",\n",
    "    \"Las nuevas tendencias de maquillaje se centran en colores vivos y técnicas innovadoras\",\n",
    "    \"针对敏感肌专门设计的天然有机护肤产品\",\n",
    "    \"新的化妆趋势注重鲜艳的颜色和创新的技巧\",\n",
    "    \"敏感肌のために特別に設計された天然有機スキンケア製品\",\n",
    "    \"新しいメイクのトレンドは鮮やかな色と革新的な技術に焦点を当てています\",\n",
    "]\n",
    "\n",
    "# construct sentence pairs\n",
    "sentence_pairs = [[query, doc] for doc in documents]\n",
    "\n",
    "scores = model.compute_score(sentence_pairs, max_length=1024)\n",
    "```"
   ]
  },
  {
   "cell_type": "markdown",
   "id": "ec0a1e27-6e64-4a3f-b338-6f3897fe1f28",
   "metadata": {},
   "source": [
    "### 不同Rerank效果对比"
   ]
  },
  {
   "cell_type": "code",
   "execution_count": 24,
   "id": "4938875e-edc0-47b3-992a-0adc8958f9cc",
   "metadata": {
    "execution": {
     "iopub.execute_input": "2024-09-02T07:31:34.684932Z",
     "iopub.status.busy": "2024-09-02T07:31:34.684763Z",
     "iopub.status.idle": "2024-09-02T07:31:34.688300Z",
     "shell.execute_reply": "2024-09-02T07:31:34.687846Z",
     "shell.execute_reply.started": "2024-09-02T07:31:34.684919Z"
    }
   },
   "outputs": [],
   "source": [
    "def rerank(reranker, query, retrieved_docs, top_k=5, debug=False):\n",
    "    rerank_scores = reranker.compute_score([[query, doc.page_content] for doc in retrieved_docs])\n",
    "    triads = [(query, doc, score) for doc, score in zip(retrieved_docs, rerank_scores)]\n",
    "    triads = sorted(triads, key=lambda triad: triad[-1], reverse=True)\n",
    "    if debug:\n",
    "        return triads\n",
    "    return [triad[1] for triad in triads][:top_k]"
   ]
  },
  {
   "cell_type": "code",
   "execution_count": 25,
   "id": "a52a7737-8041-4802-bc77-a4c4acd6877c",
   "metadata": {
    "execution": {
     "iopub.execute_input": "2024-09-02T07:31:34.689109Z",
     "iopub.status.busy": "2024-09-02T07:31:34.688808Z",
     "iopub.status.idle": "2024-09-02T07:31:34.703859Z",
     "shell.execute_reply": "2024-09-02T07:31:34.703443Z",
     "shell.execute_reply.started": "2024-09-02T07:31:34.689095Z"
    }
   },
   "outputs": [],
   "source": [
    "from FlagEmbedding import FlagReranker\n",
    "\n",
    "def get_hit_stat_df(get_retriever_fn, reranker, retirever_multiplier=3):\n",
    "    hit_stat_data = []\n",
    "    \n",
    "    top_k_arr = list(range(1, 9))\n",
    "    for k in tqdm(top_k_arr):\n",
    "        retriever = get_retriever_fn(k * retirever_multiplier)\n",
    "        for idx, row in test_df.iterrows():\n",
    "            question = row['question']\n",
    "            true_uuid = row['uuid']\n",
    "            chunks = retriever.get_relevant_documents(question)[:k * retirever_multiplier]\n",
    "            chunks = rerank(reranker, question, chunks, top_k=k)\n",
    "            retrieved_uuids = [doc.metadata['uuid'] for doc in chunks][:k]\n",
    "    \n",
    "            hit_stat_data.append({\n",
    "                'question': question,\n",
    "                'top_k': k,\n",
    "                'hit': int(true_uuid in retrieved_uuids)\n",
    "            })\n",
    "    hit_stat_df = pd.DataFrame(hit_stat_data)\n",
    "    return hit_stat_df\n",
    "\n",
    "def get_reranker(path):\n",
    "    \"\"\"\n",
    "    屏蔽不同Reranker的差异，封装一个同一个的类获取这些Reranker的示例\n",
    "    \"\"\"\n",
    "    \n",
    "    if path is None:\n",
    "        return LangchainCohereRerank()\n",
    "    if 'bge' in path.lower():\n",
    "        return FlagReranker(path, use_fp16=True)\n",
    "    else:\n",
    "        return HuggingfaceReranker(path, model_kwargs={'trust_remote_code': True, 'torch_dtype': torch.float16, 'device_map': device})"
   ]
  },
  {
   "cell_type": "code",
   "execution_count": 26,
   "id": "bc649352-2071-447c-a775-5f1acdde20fc",
   "metadata": {
    "execution": {
     "iopub.execute_input": "2024-09-02T07:31:34.704442Z",
     "iopub.status.busy": "2024-09-02T07:31:34.704284Z",
     "iopub.status.idle": "2024-09-02T07:31:34.706825Z",
     "shell.execute_reply": "2024-09-02T07:31:34.706523Z",
     "shell.execute_reply.started": "2024-09-02T07:31:34.704430Z"
    }
   },
   "outputs": [],
   "source": [
    "reranker_dict = {\n",
    "    'cohere-rerank': None,\n",
    "    \n",
    "    # 此处可以替换为本地绝对路径\n",
    "    'bge-reranker-base': 'BAAI/bge-reranker-base',\n",
    "    'bge-reranker-large': 'BAAI/bge-reranker-large',\n",
    "    'bge-reranker-v2-m3': 'BAAI/bge-reranker-v2-m3',\n",
    "    'gte-reranker': 'AlibabaNLP/gte-multilingual-reranker-base',\n",
    "    'jina-reranker': 'jinaai/jina-reranker-v2-base-multilingual'\n",
    "}"
   ]
  },
  {
   "cell_type": "code",
   "execution_count": 27,
   "id": "e4823c9e-52bb-4098-8845-e064cad99c40",
   "metadata": {
    "execution": {
     "iopub.execute_input": "2024-09-02T07:31:34.707414Z",
     "iopub.status.busy": "2024-09-02T07:31:34.707265Z",
     "iopub.status.idle": "2024-09-02T07:31:34.713692Z",
     "shell.execute_reply": "2024-09-02T07:31:34.713280Z",
     "shell.execute_reply.started": "2024-09-02T07:31:34.707402Z"
    }
   },
   "outputs": [],
   "source": [
    "with_reranker_hit_stat_dfs = []"
   ]
  },
  {
   "cell_type": "code",
   "execution_count": 28,
   "id": "916a8eba-233e-4ec8-97e7-783935218562",
   "metadata": {
    "execution": {
     "iopub.execute_input": "2024-09-02T07:31:34.714288Z",
     "iopub.status.busy": "2024-09-02T07:31:34.714135Z",
     "iopub.status.idle": "2024-09-02T08:09:14.011725Z",
     "shell.execute_reply": "2024-09-02T08:09:14.011203Z",
     "shell.execute_reply.started": "2024-09-02T07:31:34.714276Z"
    }
   },
   "outputs": [
    {
     "data": {
      "application/vnd.jupyter.widget-view+json": {
       "model_id": "bd9d4a8a18b24b11b035c6cd88102c76",
       "version_major": 2,
       "version_minor": 0
      },
      "text/plain": [
       "  0%|          | 0/8 [00:00<?, ?it/s]"
      ]
     },
     "metadata": {},
     "output_type": "display_data"
    },
    {
     "data": {
      "application/vnd.jupyter.widget-view+json": {
       "model_id": "6a779b080d134f52b2e00c3b9070b77f",
       "version_major": 2,
       "version_minor": 0
      },
      "text/plain": [
       "  0%|          | 0/8 [00:00<?, ?it/s]"
      ]
     },
     "metadata": {},
     "output_type": "display_data"
    },
    {
     "data": {
      "application/vnd.jupyter.widget-view+json": {
       "model_id": "fc01eb011df441adadce53e7753ed49e",
       "version_major": 2,
       "version_minor": 0
      },
      "text/plain": [
       "  0%|          | 0/8 [00:00<?, ?it/s]"
      ]
     },
     "metadata": {},
     "output_type": "display_data"
    },
    {
     "data": {
      "application/vnd.jupyter.widget-view+json": {
       "model_id": "c194626a464e4b87be5363bbd52d8618",
       "version_major": 2,
       "version_minor": 0
      },
      "text/plain": [
       "  0%|          | 0/8 [00:00<?, ?it/s]"
      ]
     },
     "metadata": {},
     "output_type": "display_data"
    },
    {
     "name": "stderr",
     "output_type": "stream",
     "text": [
      "flash_attn is not installed. Using PyTorch native attention implementation.\n",
      "flash_attn is not installed. Using PyTorch native attention implementation.\n",
      "flash_attn is not installed. Using PyTorch native attention implementation.\n",
      "flash_attn is not installed. Using PyTorch native attention implementation.\n",
      "flash_attn is not installed. Using PyTorch native attention implementation.\n",
      "flash_attn is not installed. Using PyTorch native attention implementation.\n",
      "flash_attn is not installed. Using PyTorch native attention implementation.\n",
      "flash_attn is not installed. Using PyTorch native attention implementation.\n",
      "flash_attn is not installed. Using PyTorch native attention implementation.\n",
      "flash_attn is not installed. Using PyTorch native attention implementation.\n",
      "flash_attn is not installed. Using PyTorch native attention implementation.\n",
      "flash_attn is not installed. Using PyTorch native attention implementation.\n",
      "flash_attn is not installed. Using PyTorch native attention implementation.\n"
     ]
    },
    {
     "data": {
      "application/vnd.jupyter.widget-view+json": {
       "model_id": "310c6adba5994020aa6202274d60b046",
       "version_major": 2,
       "version_minor": 0
      },
      "text/plain": [
       "  0%|          | 0/8 [00:00<?, ?it/s]"
      ]
     },
     "metadata": {},
     "output_type": "display_data"
    }
   ],
   "source": [
    "from FlagEmbedding import FlagReranker\n",
    "\n",
    "# 获取Embedding检索器的方法，返回值依然是一个函数，因为还要设置片段数量\n",
    "get_retriever_fn = build_get_ensemble_retriver_fn(weights=[0.5, 0.5])\n",
    "\n",
    "for reranker_name in reranker_dict:\n",
    "    # API用量用完了，先跳过\n",
    "    if reranker_name == 'cohere-rerank':\n",
    "        continue\n",
    "\n",
    "    model_path = reranker_dict[reranker_name]\n",
    "    reranker = get_reranker(model_path)\n",
    "    hit_stat_df = get_hit_stat_df(get_retriever_fn, reranker)\n",
    "    hit_stat_df['reranker'] = f'w/ {reranker_name}'\n",
    "    with_reranker_hit_stat_dfs.append(hit_stat_df)\n",
    "\n",
    "    # 释放显存\n",
    "    torch.cuda.empty_cache()"
   ]
  },
  {
   "cell_type": "code",
   "execution_count": 29,
   "id": "f9b4d0bc-bf49-486c-994b-fb5042aa94a6",
   "metadata": {
    "execution": {
     "iopub.execute_input": "2024-09-02T08:09:14.012272Z",
     "iopub.status.busy": "2024-09-02T08:09:14.012145Z",
     "iopub.status.idle": "2024-09-02T08:09:14.015626Z",
     "shell.execute_reply": "2024-09-02T08:09:14.015092Z",
     "shell.execute_reply.started": "2024-09-02T08:09:14.012259Z"
    }
   },
   "outputs": [],
   "source": [
    "with_reranker_hit_stat_df = pd.concat(with_reranker_hit_stat_dfs)"
   ]
  },
  {
   "cell_type": "code",
   "execution_count": 65,
   "id": "00270548-1b2f-4630-8f60-c523d8aef42b",
   "metadata": {
    "execution": {
     "iopub.execute_input": "2024-09-02T09:48:15.380338Z",
     "iopub.status.busy": "2024-09-02T09:48:15.379561Z",
     "iopub.status.idle": "2024-09-02T09:48:15.391776Z",
     "shell.execute_reply": "2024-09-02T09:48:15.391312Z",
     "shell.execute_reply.started": "2024-09-02T09:48:15.380266Z"
    }
   },
   "outputs": [
    {
     "data": {
      "text/html": [
       "<div>\n",
       "<style scoped>\n",
       "    .dataframe tbody tr th:only-of-type {\n",
       "        vertical-align: middle;\n",
       "    }\n",
       "\n",
       "    .dataframe tbody tr th {\n",
       "        vertical-align: top;\n",
       "    }\n",
       "\n",
       "    .dataframe thead th {\n",
       "        text-align: right;\n",
       "    }\n",
       "</style>\n",
       "<table border=\"1\" class=\"dataframe\">\n",
       "  <thead>\n",
       "    <tr style=\"text-align: right;\">\n",
       "      <th></th>\n",
       "      <th>reranker</th>\n",
       "      <th>top_k</th>\n",
       "      <th>hit_rate</th>\n",
       "    </tr>\n",
       "  </thead>\n",
       "  <tbody>\n",
       "    <tr>\n",
       "      <th>0</th>\n",
       "      <td>w/ bge-reranker-base</td>\n",
       "      <td>1</td>\n",
       "      <td>0.709677</td>\n",
       "    </tr>\n",
       "    <tr>\n",
       "      <th>1</th>\n",
       "      <td>w/ bge-reranker-base</td>\n",
       "      <td>2</td>\n",
       "      <td>0.817204</td>\n",
       "    </tr>\n",
       "    <tr>\n",
       "      <th>2</th>\n",
       "      <td>w/ bge-reranker-base</td>\n",
       "      <td>3</td>\n",
       "      <td>0.870968</td>\n",
       "    </tr>\n",
       "    <tr>\n",
       "      <th>3</th>\n",
       "      <td>w/ bge-reranker-base</td>\n",
       "      <td>4</td>\n",
       "      <td>0.924731</td>\n",
       "    </tr>\n",
       "    <tr>\n",
       "      <th>4</th>\n",
       "      <td>w/ bge-reranker-base</td>\n",
       "      <td>5</td>\n",
       "      <td>0.924731</td>\n",
       "    </tr>\n",
       "    <tr>\n",
       "      <th>5</th>\n",
       "      <td>w/ bge-reranker-base</td>\n",
       "      <td>6</td>\n",
       "      <td>0.935484</td>\n",
       "    </tr>\n",
       "    <tr>\n",
       "      <th>6</th>\n",
       "      <td>w/ bge-reranker-base</td>\n",
       "      <td>7</td>\n",
       "      <td>0.946237</td>\n",
       "    </tr>\n",
       "    <tr>\n",
       "      <th>7</th>\n",
       "      <td>w/ bge-reranker-base</td>\n",
       "      <td>8</td>\n",
       "      <td>0.956989</td>\n",
       "    </tr>\n",
       "    <tr>\n",
       "      <th>8</th>\n",
       "      <td>w/ bge-reranker-large</td>\n",
       "      <td>1</td>\n",
       "      <td>0.741935</td>\n",
       "    </tr>\n",
       "    <tr>\n",
       "      <th>9</th>\n",
       "      <td>w/ bge-reranker-large</td>\n",
       "      <td>2</td>\n",
       "      <td>0.860215</td>\n",
       "    </tr>\n",
       "    <tr>\n",
       "      <th>10</th>\n",
       "      <td>w/ bge-reranker-large</td>\n",
       "      <td>3</td>\n",
       "      <td>0.913978</td>\n",
       "    </tr>\n",
       "    <tr>\n",
       "      <th>11</th>\n",
       "      <td>w/ bge-reranker-large</td>\n",
       "      <td>4</td>\n",
       "      <td>0.924731</td>\n",
       "    </tr>\n",
       "    <tr>\n",
       "      <th>12</th>\n",
       "      <td>w/ bge-reranker-large</td>\n",
       "      <td>5</td>\n",
       "      <td>0.935484</td>\n",
       "    </tr>\n",
       "    <tr>\n",
       "      <th>13</th>\n",
       "      <td>w/ bge-reranker-large</td>\n",
       "      <td>6</td>\n",
       "      <td>0.946237</td>\n",
       "    </tr>\n",
       "    <tr>\n",
       "      <th>14</th>\n",
       "      <td>w/ bge-reranker-large</td>\n",
       "      <td>7</td>\n",
       "      <td>0.967742</td>\n",
       "    </tr>\n",
       "    <tr>\n",
       "      <th>15</th>\n",
       "      <td>w/ bge-reranker-large</td>\n",
       "      <td>8</td>\n",
       "      <td>0.967742</td>\n",
       "    </tr>\n",
       "    <tr>\n",
       "      <th>16</th>\n",
       "      <td>w/ bge-reranker-v2-m3</td>\n",
       "      <td>1</td>\n",
       "      <td>0.784946</td>\n",
       "    </tr>\n",
       "    <tr>\n",
       "      <th>17</th>\n",
       "      <td>w/ bge-reranker-v2-m3</td>\n",
       "      <td>2</td>\n",
       "      <td>0.903226</td>\n",
       "    </tr>\n",
       "    <tr>\n",
       "      <th>18</th>\n",
       "      <td>w/ bge-reranker-v2-m3</td>\n",
       "      <td>3</td>\n",
       "      <td>0.946237</td>\n",
       "    </tr>\n",
       "    <tr>\n",
       "      <th>19</th>\n",
       "      <td>w/ bge-reranker-v2-m3</td>\n",
       "      <td>4</td>\n",
       "      <td>0.956989</td>\n",
       "    </tr>\n",
       "    <tr>\n",
       "      <th>20</th>\n",
       "      <td>w/ bge-reranker-v2-m3</td>\n",
       "      <td>5</td>\n",
       "      <td>0.956989</td>\n",
       "    </tr>\n",
       "    <tr>\n",
       "      <th>21</th>\n",
       "      <td>w/ bge-reranker-v2-m3</td>\n",
       "      <td>6</td>\n",
       "      <td>0.956989</td>\n",
       "    </tr>\n",
       "    <tr>\n",
       "      <th>22</th>\n",
       "      <td>w/ bge-reranker-v2-m3</td>\n",
       "      <td>7</td>\n",
       "      <td>0.967742</td>\n",
       "    </tr>\n",
       "    <tr>\n",
       "      <th>23</th>\n",
       "      <td>w/ bge-reranker-v2-m3</td>\n",
       "      <td>8</td>\n",
       "      <td>0.967742</td>\n",
       "    </tr>\n",
       "    <tr>\n",
       "      <th>24</th>\n",
       "      <td>w/ gte-reranker</td>\n",
       "      <td>1</td>\n",
       "      <td>0.752688</td>\n",
       "    </tr>\n",
       "    <tr>\n",
       "      <th>25</th>\n",
       "      <td>w/ gte-reranker</td>\n",
       "      <td>2</td>\n",
       "      <td>0.849462</td>\n",
       "    </tr>\n",
       "    <tr>\n",
       "      <th>26</th>\n",
       "      <td>w/ gte-reranker</td>\n",
       "      <td>3</td>\n",
       "      <td>0.924731</td>\n",
       "    </tr>\n",
       "    <tr>\n",
       "      <th>27</th>\n",
       "      <td>w/ gte-reranker</td>\n",
       "      <td>4</td>\n",
       "      <td>0.935484</td>\n",
       "    </tr>\n",
       "    <tr>\n",
       "      <th>28</th>\n",
       "      <td>w/ gte-reranker</td>\n",
       "      <td>5</td>\n",
       "      <td>0.935484</td>\n",
       "    </tr>\n",
       "    <tr>\n",
       "      <th>29</th>\n",
       "      <td>w/ gte-reranker</td>\n",
       "      <td>6</td>\n",
       "      <td>0.956989</td>\n",
       "    </tr>\n",
       "    <tr>\n",
       "      <th>30</th>\n",
       "      <td>w/ gte-reranker</td>\n",
       "      <td>7</td>\n",
       "      <td>0.967742</td>\n",
       "    </tr>\n",
       "    <tr>\n",
       "      <th>31</th>\n",
       "      <td>w/ gte-reranker</td>\n",
       "      <td>8</td>\n",
       "      <td>0.967742</td>\n",
       "    </tr>\n",
       "    <tr>\n",
       "      <th>32</th>\n",
       "      <td>w/ jina-reranker</td>\n",
       "      <td>1</td>\n",
       "      <td>0.774194</td>\n",
       "    </tr>\n",
       "    <tr>\n",
       "      <th>33</th>\n",
       "      <td>w/ jina-reranker</td>\n",
       "      <td>2</td>\n",
       "      <td>0.870968</td>\n",
       "    </tr>\n",
       "    <tr>\n",
       "      <th>34</th>\n",
       "      <td>w/ jina-reranker</td>\n",
       "      <td>3</td>\n",
       "      <td>0.913978</td>\n",
       "    </tr>\n",
       "    <tr>\n",
       "      <th>35</th>\n",
       "      <td>w/ jina-reranker</td>\n",
       "      <td>4</td>\n",
       "      <td>0.935484</td>\n",
       "    </tr>\n",
       "    <tr>\n",
       "      <th>36</th>\n",
       "      <td>w/ jina-reranker</td>\n",
       "      <td>5</td>\n",
       "      <td>0.946237</td>\n",
       "    </tr>\n",
       "    <tr>\n",
       "      <th>37</th>\n",
       "      <td>w/ jina-reranker</td>\n",
       "      <td>6</td>\n",
       "      <td>0.946237</td>\n",
       "    </tr>\n",
       "    <tr>\n",
       "      <th>38</th>\n",
       "      <td>w/ jina-reranker</td>\n",
       "      <td>7</td>\n",
       "      <td>0.956989</td>\n",
       "    </tr>\n",
       "    <tr>\n",
       "      <th>39</th>\n",
       "      <td>w/ jina-reranker</td>\n",
       "      <td>8</td>\n",
       "      <td>0.956989</td>\n",
       "    </tr>\n",
       "  </tbody>\n",
       "</table>\n",
       "</div>"
      ],
      "text/plain": [
       "                 reranker  top_k  hit_rate\n",
       "0    w/ bge-reranker-base      1  0.709677\n",
       "1    w/ bge-reranker-base      2  0.817204\n",
       "2    w/ bge-reranker-base      3  0.870968\n",
       "3    w/ bge-reranker-base      4  0.924731\n",
       "4    w/ bge-reranker-base      5  0.924731\n",
       "5    w/ bge-reranker-base      6  0.935484\n",
       "6    w/ bge-reranker-base      7  0.946237\n",
       "7    w/ bge-reranker-base      8  0.956989\n",
       "8   w/ bge-reranker-large      1  0.741935\n",
       "9   w/ bge-reranker-large      2  0.860215\n",
       "10  w/ bge-reranker-large      3  0.913978\n",
       "11  w/ bge-reranker-large      4  0.924731\n",
       "12  w/ bge-reranker-large      5  0.935484\n",
       "13  w/ bge-reranker-large      6  0.946237\n",
       "14  w/ bge-reranker-large      7  0.967742\n",
       "15  w/ bge-reranker-large      8  0.967742\n",
       "16  w/ bge-reranker-v2-m3      1  0.784946\n",
       "17  w/ bge-reranker-v2-m3      2  0.903226\n",
       "18  w/ bge-reranker-v2-m3      3  0.946237\n",
       "19  w/ bge-reranker-v2-m3      4  0.956989\n",
       "20  w/ bge-reranker-v2-m3      5  0.956989\n",
       "21  w/ bge-reranker-v2-m3      6  0.956989\n",
       "22  w/ bge-reranker-v2-m3      7  0.967742\n",
       "23  w/ bge-reranker-v2-m3      8  0.967742\n",
       "24        w/ gte-reranker      1  0.752688\n",
       "25        w/ gte-reranker      2  0.849462\n",
       "26        w/ gte-reranker      3  0.924731\n",
       "27        w/ gte-reranker      4  0.935484\n",
       "28        w/ gte-reranker      5  0.935484\n",
       "29        w/ gte-reranker      6  0.956989\n",
       "30        w/ gte-reranker      7  0.967742\n",
       "31        w/ gte-reranker      8  0.967742\n",
       "32       w/ jina-reranker      1  0.774194\n",
       "33       w/ jina-reranker      2  0.870968\n",
       "34       w/ jina-reranker      3  0.913978\n",
       "35       w/ jina-reranker      4  0.935484\n",
       "36       w/ jina-reranker      5  0.946237\n",
       "37       w/ jina-reranker      6  0.946237\n",
       "38       w/ jina-reranker      7  0.956989\n",
       "39       w/ jina-reranker      8  0.956989"
      ]
     },
     "execution_count": 65,
     "metadata": {},
     "output_type": "execute_result"
    }
   ],
   "source": [
    "with_reranker_hit_stat_df.groupby(['reranker', 'top_k'])['hit'].mean().reset_index().rename(columns={'hit': 'hit_rate'})"
   ]
  },
  {
   "cell_type": "code",
   "execution_count": 66,
   "id": "d3f7752d-ba09-437f-b8c2-d9310ceb3473",
   "metadata": {
    "execution": {
     "iopub.execute_input": "2024-09-02T09:49:07.400451Z",
     "iopub.status.busy": "2024-09-02T09:49:07.399674Z",
     "iopub.status.idle": "2024-09-02T09:49:07.406335Z",
     "shell.execute_reply": "2024-09-02T09:49:07.405993Z",
     "shell.execute_reply.started": "2024-09-02T09:49:07.400383Z"
    }
   },
   "outputs": [],
   "source": [
    "retriever_only_hit_stat_df['reranker'] = 'w/o'\n",
    "hit_stat_df = pd.concat([retriever_only_hit_stat_df, with_reranker_hit_stat_df])"
   ]
  },
  {
   "cell_type": "code",
   "execution_count": 67,
   "id": "d2726273-f8ba-4bc6-9cae-933d376b3bf4",
   "metadata": {
    "execution": {
     "iopub.execute_input": "2024-09-02T09:49:08.040299Z",
     "iopub.status.busy": "2024-09-02T09:49:08.039526Z",
     "iopub.status.idle": "2024-09-02T09:49:08.243695Z",
     "shell.execute_reply": "2024-09-02T09:49:08.243254Z",
     "shell.execute_reply.started": "2024-09-02T09:49:08.040229Z"
    }
   },
   "outputs": [
    {
     "data": {
      "text/plain": [
       "<Axes: xlabel='top_k', ylabel='hit'>"
      ]
     },
     "execution_count": 67,
     "metadata": {},
     "output_type": "execute_result"
    },
    {
     "data": {
      "image/png": "[encoded data removed]",
      "text/plain": [
       "<Figure size 1600x800 with 1 Axes>"
      ]
     },
     "metadata": {},
     "output_type": "display_data"
    }
   ],
   "source": [
    "import matplotlib.pyplot as plt\n",
    "import seaborn as sns\n",
    "\n",
    "plt.figure(figsize=(16, 8))\n",
    "sns.barplot(x='top_k', y='hit', hue='reranker', data=hit_stat_df, errorbar=None)"
   ]
  },
  {
   "cell_type": "markdown",
   "id": "d1fef3ac-4928-48ef-bf73-7d3ee33e9d19",
   "metadata": {},
   "source": [
    "# 预测"
   ]
  },
  {
   "cell_type": "code",
   "execution_count": 33,
   "id": "72108fa6-06ac-4873-a73e-300a087d751e",
   "metadata": {
    "execution": {
     "iopub.execute_input": "2024-09-02T08:09:14.248812Z",
     "iopub.status.busy": "2024-09-02T08:09:14.248685Z",
     "iopub.status.idle": "2024-09-02T08:09:14.258403Z",
     "shell.execute_reply": "2024-09-02T08:09:14.257977Z",
     "shell.execute_reply.started": "2024-09-02T08:09:14.248798Z"
    }
   },
   "outputs": [],
   "source": [
    "from langchain.llms import Ollama\n",
    "\n",
    "llm = Ollama(\n",
    "    model='qwen2:7b-instruct',\n",
    "    base_url='http://localhost:11434',\n",
    "    temperature=0\n",
    ")"
   ]
  },
  {
   "cell_type": "code",
   "execution_count": 34,
   "id": "c40bb5d6-9b9c-42c0-b12d-e33522186229",
   "metadata": {
    "execution": {
     "iopub.execute_input": "2024-09-02T08:09:14.259182Z",
     "iopub.status.busy": "2024-09-02T08:09:14.258879Z",
     "iopub.status.idle": "2024-09-02T08:09:14.265596Z",
     "shell.execute_reply": "2024-09-02T08:09:14.265166Z",
     "shell.execute_reply.started": "2024-09-02T08:09:14.259169Z"
    }
   },
   "outputs": [],
   "source": [
    "def rag(retriever, reranker, query, n_chunks=4, retirever_multiplier=3):\n",
    "    prompt_tmpl = \"\"\"\n",
    "你是一个金融分析师，擅长根据所获取的信息片段，对问题进行分析和推理。\n",
    "你的任务是根据所获取的信息片段（<<<<context>>><<<</context>>>之间的内容）回答问题。\n",
    "回答保持简洁，不必重复问题，不要添加描述性解释和与答案无关的任何内容。\n",
    "已知信息：\n",
    "<<<<context>>>\n",
    "{{knowledge}}\n",
    "<<<</context>>>\n",
    "\n",
    "问题：{{query}}\n",
    "请回答：\n",
    "\"\"\".strip()\n",
    "\n",
    "    chunks = retriever.invoke(query)[:n_chunks * retirever_multiplier]\n",
    "    chunks = rerank(reranker, query, chunks, top_k=n_chunks)\n",
    "    prompt = prompt_tmpl.replace('{{knowledge}}', '\\n\\n'.join([doc.page_content for doc in chunks])).replace('{{query}}', query)\n",
    "\n",
    "    return llm(prompt), chunks"
   ]
  },
  {
   "cell_type": "code",
   "execution_count": 35,
   "id": "24edd1a1-be8d-4d52-8ab4-a285d923e257",
   "metadata": {
    "execution": {
     "iopub.execute_input": "2024-09-02T08:09:14.266191Z",
     "iopub.status.busy": "2024-09-02T08:09:14.266071Z",
     "iopub.status.idle": "2024-09-02T08:09:14.272871Z",
     "shell.execute_reply": "2024-09-02T08:09:14.272439Z",
     "shell.execute_reply.started": "2024-09-02T08:09:14.266179Z"
    }
   },
   "outputs": [],
   "source": [
    "prediction_df = qa_df[qa_df['dataset'] == 'test'][['uuid', 'question', 'qa_type', 'answer']].rename(columns={'answer': 'ref_answer'})\n",
    "\n",
    "def predict(prediction_df, retriever, reranker, n_chunks):\n",
    "    prediction_df = prediction_df.copy()\n",
    "    answer_dict = {}\n",
    "\n",
    "    for idx, row in tqdm(prediction_df.iterrows(), total=len(prediction_df)):\n",
    "        uuid = row['uuid']\n",
    "        question = row['question']\n",
    "        answer, chunks = rag(retriever, reranker, question, n_chunks=n_chunks)\n",
    "        assert len(chunks) <= n_chunks\n",
    "        answer_dict[question] = {\n",
    "            'uuid': uuid,\n",
    "            'ref_answer': row['ref_answer'],\n",
    "            'gen_answer': answer,\n",
    "            'chunks': chunks\n",
    "        }\n",
    "    prediction_df.loc[:, 'gen_answer'] = prediction_df['question'].apply(lambda q: answer_dict[q]['gen_answer'])\n",
    "    prediction_df.loc[:, 'chunks'] = prediction_df['question'].apply(lambda q: answer_dict[q]['chunks'])\n",
    "\n",
    "    return prediction_df"
   ]
  },
  {
   "cell_type": "code",
   "execution_count": 36,
   "id": "85765906-177d-43a3-a826-82153dbc6deb",
   "metadata": {
    "execution": {
     "iopub.execute_input": "2024-09-02T08:09:14.273416Z",
     "iopub.status.busy": "2024-09-02T08:09:14.273295Z",
     "iopub.status.idle": "2024-09-02T08:09:14.279478Z",
     "shell.execute_reply": "2024-09-02T08:09:14.279161Z",
     "shell.execute_reply.started": "2024-09-02T08:09:14.273404Z"
    }
   },
   "outputs": [
    {
     "name": "stdout",
     "output_type": "stream",
     "text": [
      "env: http_proxy=\n",
      "env: https_proxy=\n"
     ]
    }
   ],
   "source": [
    "%env http_proxy=\n",
    "%env https_proxy="
   ]
  },
  {
   "cell_type": "code",
   "execution_count": 37,
   "id": "db571983-7054-4f8f-938a-e698dd033797",
   "metadata": {
    "execution": {
     "iopub.execute_input": "2024-09-02T08:09:14.279952Z",
     "iopub.status.busy": "2024-09-02T08:09:14.279832Z",
     "iopub.status.idle": "2024-09-02T08:09:14.285111Z",
     "shell.execute_reply": "2024-09-02T08:09:14.284691Z",
     "shell.execute_reply.started": "2024-09-02T08:09:14.279940Z"
    }
   },
   "outputs": [],
   "source": [
    "pred_dict = {}"
   ]
  },
  {
   "cell_type": "code",
   "execution_count": 43,
   "id": "81881a78-73b0-4aa1-b4d4-e9a16a2571be",
   "metadata": {
    "execution": {
     "iopub.execute_input": "2024-09-02T08:22:24.660998Z",
     "iopub.status.busy": "2024-09-02T08:22:24.660819Z",
     "iopub.status.idle": "2024-09-02T08:36:02.870806Z",
     "shell.execute_reply": "2024-09-02T08:36:02.870187Z",
     "shell.execute_reply.started": "2024-09-02T08:22:24.660984Z"
    }
   },
   "outputs": [
    {
     "data": {
      "application/vnd.jupyter.widget-view+json": {
       "model_id": "ab375a5280a04640b752b6e2b34db7f6",
       "version_major": 2,
       "version_minor": 0
      },
      "text/plain": [
       "  0%|          | 0/100 [00:00<?, ?it/s]"
      ]
     },
     "metadata": {},
     "output_type": "display_data"
    },
    {
     "data": {
      "application/vnd.jupyter.widget-view+json": {
       "model_id": "be010069a07d494c9148a26d4cd6e87c",
       "version_major": 2,
       "version_minor": 0
      },
      "text/plain": [
       "  0%|          | 0/100 [00:00<?, ?it/s]"
      ]
     },
     "metadata": {},
     "output_type": "display_data"
    },
    {
     "name": "stderr",
     "output_type": "stream",
     "text": [
      "flash_attn is not installed. Using PyTorch native attention implementation.\n",
      "flash_attn is not installed. Using PyTorch native attention implementation.\n",
      "flash_attn is not installed. Using PyTorch native attention implementation.\n",
      "flash_attn is not installed. Using PyTorch native attention implementation.\n",
      "flash_attn is not installed. Using PyTorch native attention implementation.\n",
      "flash_attn is not installed. Using PyTorch native attention implementation.\n",
      "flash_attn is not installed. Using PyTorch native attention implementation.\n",
      "flash_attn is not installed. Using PyTorch native attention implementation.\n",
      "flash_attn is not installed. Using PyTorch native attention implementation.\n",
      "flash_attn is not installed. Using PyTorch native attention implementation.\n",
      "flash_attn is not installed. Using PyTorch native attention implementation.\n",
      "flash_attn is not installed. Using PyTorch native attention implementation.\n",
      "flash_attn is not installed. Using PyTorch native attention implementation.\n"
     ]
    },
    {
     "data": {
      "application/vnd.jupyter.widget-view+json": {
       "model_id": "822b3c640afd496681c3113de6a0b426",
       "version_major": 2,
       "version_minor": 0
      },
      "text/plain": [
       "  0%|          | 0/100 [00:00<?, ?it/s]"
      ]
     },
     "metadata": {},
     "output_type": "display_data"
    }
   ],
   "source": [
    "n_chunks = 3\n",
    "\n",
    "get_retriever_fn = build_get_ensemble_retriver_fn(weights=[0.5, 0.5])\n",
    "retriever = get_retriever_fn(n_chunks)\n",
    "\n",
    "for reranker_name, reranker_path in reranker_dict.items():\n",
    "    # API用量用完了，先跳过\n",
    "    if reranker_name == 'cohere-rerank':\n",
    "        continue\n",
    "\n",
    "    if reranker_name in pred_dict:\n",
    "        continue\n",
    "\n",
    "    model_path = reranker_dict[reranker_name]\n",
    "    reranker = get_reranker(model_path)\n",
    "    pred_df = predict(prediction_df, retriever, reranker, n_chunks=n_chunks)\n",
    "\n",
    "    pred_dict[reranker_name] = pred_df\n",
    "    \n",
    "    # 释放显存\n",
    "    torch.cuda.empty_cache()"
   ]
  },
  {
   "cell_type": "markdown",
   "id": "c88911a7-71da-42b8-aaba-348a3131d657",
   "metadata": {},
   "source": [
    "# 评估 "
   ]
  },
  {
   "cell_type": "code",
   "execution_count": 57,
   "id": "e2343b64-57a1-4a77-a25d-a769ea018692",
   "metadata": {
    "execution": {
     "iopub.execute_input": "2024-09-02T09:32:22.539674Z",
     "iopub.status.busy": "2024-09-02T09:32:22.538868Z",
     "iopub.status.idle": "2024-09-02T09:32:22.555573Z",
     "shell.execute_reply": "2024-09-02T09:32:22.555069Z",
     "shell.execute_reply.started": "2024-09-02T09:32:22.539603Z"
    }
   },
   "outputs": [],
   "source": [
    "from langchain_openai import ChatOpenAI\n",
    "\n",
    "judge_llm = ChatOpenAI(\n",
    "    api_key=os.environ['LLM_API_KEY'],\n",
    "    base_url=os.environ['LLM_BASE_URL'],\n",
    "    model_name='qwen2-72b-instruct',\n",
    "    temperature=0\n",
    ")\n",
    "\n",
    "import time\n",
    "\n",
    "def evaluate(prediction_df):\n",
    "    \"\"\"\n",
    "    对预测结果进行打分\n",
    "    :param prediction_df: 预测结果，需要包含问题，参考答案，生成的答案，列名分别为question, ref_answer, gen_answer\n",
    "    :return 打分模型原始返回结果\n",
    "    \"\"\"\n",
    "    prompt_tmpl = \"\"\"\n",
    "你是一个经济学博士，现在我有一系列问题，有一个助手已经对这些问题进行了回答，你需要参照参考答案，评价这个助手的回答是否正确，仅回复“是”或“否”即可，不要带其他描述性内容或无关信息。\n",
    "问题：\n",
    "<question>\n",
    "{{question}}\n",
    "</question>\n",
    "\n",
    "参考答案：\n",
    "<ref_answer>\n",
    "{{ref_answer}}\n",
    "</ref_answer>\n",
    "\n",
    "助手回答：\n",
    "<gen_answer>\n",
    "{{gen_answer}}\n",
    "</gen_answer>\n",
    "请评价：\n",
    "    \"\"\"\n",
    "    results = []\n",
    "\n",
    "    for _, row in tqdm(prediction_df.iterrows(), total=len(prediction_df)):\n",
    "        question = row['question']\n",
    "        ref_answer = row['ref_answer']\n",
    "        gen_answer = row['gen_answer']\n",
    "\n",
    "        prompt = prompt_tmpl.replace('{{question}}', question).replace('{{ref_answer}}', str(ref_answer)).replace('{{gen_answer}}', gen_answer).strip()\n",
    "\n",
    "        retry_count = 3\n",
    "        result = None\n",
    "        \n",
    "        while retry_count > 0:\n",
    "            try:\n",
    "                result = judge_llm.invoke(prompt).content\n",
    "                break\n",
    "            except:\n",
    "                time.sleep(4 ** (5 - retry_count))\n",
    "                retry_count -= 1\n",
    "\n",
    "        if result is None:\n",
    "            print(f'question={question}, scoring failed!')\n",
    "        results.append(result)\n",
    "        \n",
    "        time.sleep(1)\n",
    "    return results"
   ]
  },
  {
   "cell_type": "code",
   "execution_count": 58,
   "id": "edda3e5b-02bd-432f-bf93-a4fb6cb8568c",
   "metadata": {
    "execution": {
     "iopub.execute_input": "2024-09-02T09:32:23.549501Z",
     "iopub.status.busy": "2024-09-02T09:32:23.548729Z",
     "iopub.status.idle": "2024-09-02T09:45:27.684338Z",
     "shell.execute_reply": "2024-09-02T09:45:27.681904Z",
     "shell.execute_reply.started": "2024-09-02T09:32:23.549430Z"
    }
   },
   "outputs": [
    {
     "data": {
      "application/vnd.jupyter.widget-view+json": {
       "model_id": "a20636d640a844cabcd911ac05ef3535",
       "version_major": 2,
       "version_minor": 0
      },
      "text/plain": [
       "  0%|          | 0/100 [00:00<?, ?it/s]"
      ]
     },
     "metadata": {},
     "output_type": "display_data"
    },
    {
     "name": "stdout",
     "output_type": "stream",
     "text": [
      "bge-reranker-base: ['是' '否']\n"
     ]
    },
    {
     "data": {
      "application/vnd.jupyter.widget-view+json": {
       "model_id": "39d11050a024421d9604a7b7b64f6957",
       "version_major": 2,
       "version_minor": 0
      },
      "text/plain": [
       "  0%|          | 0/100 [00:00<?, ?it/s]"
      ]
     },
     "metadata": {},
     "output_type": "display_data"
    },
    {
     "name": "stdout",
     "output_type": "stream",
     "text": [
      "base-reranker-large: ['是' '否']\n"
     ]
    },
    {
     "data": {
      "application/vnd.jupyter.widget-view+json": {
       "model_id": "84595c4d349944c6b32c2432689bcf11",
       "version_major": 2,
       "version_minor": 0
      },
      "text/plain": [
       "  0%|          | 0/100 [00:00<?, ?it/s]"
      ]
     },
     "metadata": {},
     "output_type": "display_data"
    },
    {
     "name": "stdout",
     "output_type": "stream",
     "text": [
      "bge-reranker-v2-m3: ['是' '否']\n"
     ]
    },
    {
     "data": {
      "application/vnd.jupyter.widget-view+json": {
       "model_id": "a6adf3053d2f4465936ba9841c908f4c",
       "version_major": 2,
       "version_minor": 0
      },
      "text/plain": [
       "  0%|          | 0/100 [00:00<?, ?it/s]"
      ]
     },
     "metadata": {},
     "output_type": "display_data"
    },
    {
     "name": "stdout",
     "output_type": "stream",
     "text": [
      "gte-reranker: ['是' '否']\n"
     ]
    },
    {
     "data": {
      "application/vnd.jupyter.widget-view+json": {
       "model_id": "b3690336ffe4490e8da9a05b6deeba8c",
       "version_major": 2,
       "version_minor": 0
      },
      "text/plain": [
       "  0%|          | 0/100 [00:00<?, ?it/s]"
      ]
     },
     "metadata": {},
     "output_type": "display_data"
    },
    {
     "name": "stdout",
     "output_type": "stream",
     "text": [
      "jina-reranker: ['是' '否']\n"
     ]
    }
   ],
   "source": [
    "for reranker_name in pred_dict:\n",
    "    pred_df = pred_dict[reranker_name]\n",
    "    pred_df['raw_score'] = evaluate(pred_df)\n",
    "    print(f\"{reranker_name}: {pred_df['raw_score'].unique()}\")\n",
    "    pred_df['score'] = (pred_df['raw_score'] == '是').astype(int)\n",
    "    \n",
    "    time.sleep(4)"
   ]
  },
  {
   "cell_type": "code",
   "execution_count": 59,
   "id": "96630464-0957-474b-94ca-21fcc31386d8",
   "metadata": {
    "execution": {
     "iopub.execute_input": "2024-09-02T09:45:29.604696Z",
     "iopub.status.busy": "2024-09-02T09:45:29.603912Z",
     "iopub.status.idle": "2024-09-02T09:45:29.610056Z",
     "shell.execute_reply": "2024-09-02T09:45:29.609668Z",
     "shell.execute_reply.started": "2024-09-02T09:45:29.604626Z"
    }
   },
   "outputs": [],
   "source": [
    "metrics = []\n",
    "\n",
    "for reranker_name in pred_dict:\n",
    "    pred_df = pred_dict[reranker_name]\n",
    "    metrics.append({\n",
    "        'reranker': reranker_name,\n",
    "        'score': pred_df['score'].mean()\n",
    "    })"
   ]
  },
  {
   "cell_type": "code",
   "execution_count": 60,
   "id": "c72cf8a9-ac69-4a70-928b-61a109eefe0f",
   "metadata": {
    "execution": {
     "iopub.execute_input": "2024-09-02T09:45:30.356610Z",
     "iopub.status.busy": "2024-09-02T09:45:30.356396Z",
     "iopub.status.idle": "2024-09-02T09:45:30.362983Z",
     "shell.execute_reply": "2024-09-02T09:45:30.362398Z",
     "shell.execute_reply.started": "2024-09-02T09:45:30.356593Z"
    }
   },
   "outputs": [
    {
     "data": {
      "text/html": [
       "<div>\n",
       "<style scoped>\n",
       "    .dataframe tbody tr th:only-of-type {\n",
       "        vertical-align: middle;\n",
       "    }\n",
       "\n",
       "    .dataframe tbody tr th {\n",
       "        vertical-align: top;\n",
       "    }\n",
       "\n",
       "    .dataframe thead th {\n",
       "        text-align: right;\n",
       "    }\n",
       "</style>\n",
       "<table border=\"1\" class=\"dataframe\">\n",
       "  <thead>\n",
       "    <tr style=\"text-align: right;\">\n",
       "      <th></th>\n",
       "      <th>reranker</th>\n",
       "      <th>score</th>\n",
       "    </tr>\n",
       "  </thead>\n",
       "  <tbody>\n",
       "    <tr>\n",
       "      <th>0</th>\n",
       "      <td>bge-reranker-base</td>\n",
       "      <td>0.80</td>\n",
       "    </tr>\n",
       "    <tr>\n",
       "      <th>1</th>\n",
       "      <td>base-reranker-large</td>\n",
       "      <td>0.84</td>\n",
       "    </tr>\n",
       "    <tr>\n",
       "      <th>2</th>\n",
       "      <td>bge-reranker-v2-m3</td>\n",
       "      <td>0.81</td>\n",
       "    </tr>\n",
       "    <tr>\n",
       "      <th>3</th>\n",
       "      <td>gte-reranker</td>\n",
       "      <td>0.87</td>\n",
       "    </tr>\n",
       "    <tr>\n",
       "      <th>4</th>\n",
       "      <td>jina-reranker</td>\n",
       "      <td>0.80</td>\n",
       "    </tr>\n",
       "  </tbody>\n",
       "</table>\n",
       "</div>"
      ],
      "text/plain": [
       "              reranker  score\n",
       "0    bge-reranker-base   0.80\n",
       "1  base-reranker-large   0.84\n",
       "2   bge-reranker-v2-m3   0.81\n",
       "3         gte-reranker   0.87\n",
       "4        jina-reranker   0.80"
      ]
     },
     "execution_count": 60,
     "metadata": {},
     "output_type": "execute_result"
    }
   ],
   "source": [
    "pd.DataFrame(metrics)"
   ]
  },
  {
   "cell_type": "code",
   "execution_count": null,
   "id": "6611cc71-398a-4a9f-9c7d-c80f5cb1b88c",
   "metadata": {},
   "outputs": [],
   "source": []
  }
 ],
 "metadata": {
  "kernelspec": {
   "display_name": "gold-yolo",
   "language": "python",
   "name": "python3"
  },
  "language_info": {
   "codemirror_mode": {
    "name": "ipython",
    "version": 3
   },
   "file_extension": ".py",
   "mimetype": "text/x-python",
   "name": "python",
   "nbconvert_exporter": "python",
   "pygments_lexer": "ipython3",
   "version": "3.8.17"
  }
 },
 "nbformat": 4,
 "nbformat_minor": 5
}
