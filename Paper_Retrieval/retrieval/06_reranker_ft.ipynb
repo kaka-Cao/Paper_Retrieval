{
 "cells": [
  {
   "cell_type": "code",
   "execution_count": 1,
   "id": "a57d6663-4055-40a6-a9fc-dffb38c418b1",
   "metadata": {
    "execution": {
     "iopub.execute_input": "2024-09-02T07:17:54.485482Z",
     "iopub.status.busy": "2024-09-02T07:17:54.485266Z",
     "iopub.status.idle": "2024-09-02T07:17:54.488773Z",
     "shell.execute_reply": "2024-09-02T07:17:54.488208Z",
     "shell.execute_reply.started": "2024-09-02T07:17:54.485464Z"
    }
   },
   "outputs": [],
   "source": [
    "%%capture --no-stderr\n",
    "!pip install -U langchain langchain_community langchain_openai pypdf sentence_transformers chromadb shutil openpyxl FlagEmbedding"
   ]
  },
  {
   "cell_type": "code",
   "execution_count": 1,
   "id": "603ae327-d834-4074-b8f0-5801669a6f26",
   "metadata": {
    "ExecuteTime": {
     "end_time": "2024-09-13T15:21:12.163191Z",
     "start_time": "2024-09-13T15:21:12.160910Z"
    },
    "execution": {
     "iopub.execute_input": "2024-09-02T07:17:54.490034Z",
     "iopub.status.busy": "2024-09-02T07:17:54.489846Z",
     "iopub.status.idle": "2024-09-02T07:17:54.503323Z",
     "shell.execute_reply": "2024-09-02T07:17:54.502676Z",
     "shell.execute_reply.started": "2024-09-02T07:17:54.490016Z"
    }
   },
   "outputs": [
    {
     "name": "stdout",
     "output_type": "stream",
     "text": [
      "env: LLM_BASE_URL=https://dashscope.aliyuncs.com/compatible-mode/v1\n",
      "env: LLM_API_KEY=替换为自己的key\n"
     ]
    }
   ],
   "source": [
    "%env LLM_BASE_URL=https://dashscope.aliyuncs.com/compatible-mode/v1\n",
    "%env LLM_API_KEY=替换为自己的key"
   ]
  },
  {
   "cell_type": "code",
   "execution_count": 3,
   "id": "1b6c2792-91bf-464a-bb0d-9724f790c6f9",
   "metadata": {
    "execution": {
     "iopub.execute_input": "2024-09-02T07:17:54.504416Z",
     "iopub.status.busy": "2024-09-02T07:17:54.504170Z",
     "iopub.status.idle": "2024-09-02T07:17:58.771665Z",
     "shell.execute_reply": "2024-09-02T07:17:58.771173Z",
     "shell.execute_reply.started": "2024-09-02T07:17:54.504393Z"
    }
   },
   "outputs": [
    {
     "name": "stderr",
     "output_type": "stream",
     "text": [
      "/opt/anaconda3/lib/python3.10/site-packages/sentence_transformers/cross_encoder/CrossEncoder.py:11: TqdmExperimentalWarning: Using `tqdm.autonotebook.tqdm` in notebook mode. Use `tqdm.tqdm` instead to force console mode (e.g. in jupyter console)\n",
      "  from tqdm.autonotebook import tqdm, trange\n",
      "2024-09-02 15:17:56.333336: W tensorflow/stream_executor/platform/default/dso_loader.cc:64] Could not load dynamic library 'libcudart.so.11.0'; dlerror: libcudart.so.11.0: cannot open shared object file: No such file or directory; LD_LIBRARY_PATH: /usr/local/cuda/lib64:/usr/local/cuda/lib64:\n",
      "2024-09-02 15:17:56.333352: I tensorflow/stream_executor/cuda/cudart_stub.cc:29] Ignore above cudart dlerror if you do not have a GPU set up on your machine.\n"
     ]
    },
    {
     "name": "stdout",
     "output_type": "stream",
     "text": [
      "langchain                     0.2.10\n",
      "langchain_core                0.2.28\n",
      "langchain_community           0.2.9\n",
      "pypdf                         4.3.1\n",
      "sentence_transformers         3.0.1\n",
      "chromadb                      0.5.4\n"
     ]
    }
   ],
   "source": [
    "import langchain, langchain_community, pypdf, sentence_transformers, chromadb, langchain_core\n",
    "\n",
    "for module in (langchain, langchain_core, langchain_community, pypdf, sentence_transformers, chromadb):\n",
    "    print(f\"{module.__name__:<30}{module.__version__}\")"
   ]
  },
  {
   "cell_type": "code",
   "execution_count": 4,
   "id": "1e2c72b8-ee12-4130-af88-699998aa230c",
   "metadata": {
    "execution": {
     "iopub.execute_input": "2024-09-02T07:17:58.772496Z",
     "iopub.status.busy": "2024-09-02T07:17:58.772153Z",
     "iopub.status.idle": "2024-09-02T07:17:58.774847Z",
     "shell.execute_reply": "2024-09-02T07:17:58.774530Z",
     "shell.execute_reply.started": "2024-09-02T07:17:58.772482Z"
    }
   },
   "outputs": [],
   "source": [
    "import os\n",
    "import pandas as pd"
   ]
  },
  {
   "cell_type": "code",
   "execution_count": 5,
   "id": "841d2b02-ad06-40d2-b11f-c7adccec6ca2",
   "metadata": {
    "execution": {
     "iopub.execute_input": "2024-09-02T07:17:58.776142Z",
     "iopub.status.busy": "2024-09-02T07:17:58.775993Z",
     "iopub.status.idle": "2024-09-02T07:17:58.788582Z",
     "shell.execute_reply": "2024-09-02T07:17:58.788152Z",
     "shell.execute_reply.started": "2024-09-02T07:17:58.776131Z"
    }
   },
   "outputs": [],
   "source": [
    "expr_version = 'retrieval_v6_rerank_ft'\n",
    "\n",
    "preprocess_output_dir = os.path.join(os.path.pardir, 'outputs', 'v1_20240713')\n",
    "expr_dir = os.path.join(os.path.pardir, 'experiments', expr_version)"
   ]
  },
  {
   "cell_type": "markdown",
   "id": "cf7e81e3-4c82-4842-aef5-7592caaf1d39",
   "metadata": {},
   "source": [
    "# 读取文档"
   ]
  },
  {
   "cell_type": "code",
   "execution_count": 6,
   "id": "e6920e29-bc7d-4635-be06-d151eaf0e100",
   "metadata": {
    "execution": {
     "iopub.execute_input": "2024-09-02T07:17:58.789184Z",
     "iopub.status.busy": "2024-09-02T07:17:58.789048Z",
     "iopub.status.idle": "2024-09-02T07:18:00.223585Z",
     "shell.execute_reply": "2024-09-02T07:18:00.223111Z",
     "shell.execute_reply.started": "2024-09-02T07:17:58.789159Z"
    }
   },
   "outputs": [],
   "source": [
    "from langchain_community.document_loaders import PyPDFLoader\n",
    "\n",
    "loader = PyPDFLoader(os.path.join(os.path.pardir, 'data', '2024全球经济金融展望报告.pdf'))\n",
    "documents = loader.load()\n",
    "\n",
    "qa_df = pd.read_excel(os.path.join(preprocess_output_dir, 'question_answer.xlsx'))"
   ]
  },
  {
   "cell_type": "markdown",
   "id": "841ec659-4ad7-4e1f-b1ea-3477bf97fde3",
   "metadata": {},
   "source": [
    "# 文档切分"
   ]
  },
  {
   "cell_type": "code",
   "execution_count": 7,
   "id": "74fe856a-7c19-4c3c-bb30-7abfa6298f74",
   "metadata": {
    "execution": {
     "iopub.execute_input": "2024-09-02T07:18:00.224276Z",
     "iopub.status.busy": "2024-09-02T07:18:00.224052Z",
     "iopub.status.idle": "2024-09-02T07:18:00.230468Z",
     "shell.execute_reply": "2024-09-02T07:18:00.230131Z",
     "shell.execute_reply.started": "2024-09-02T07:18:00.224263Z"
    }
   },
   "outputs": [],
   "source": [
    "from uuid import uuid4\n",
    "import os\n",
    "import pickle\n",
    "\n",
    "from langchain.text_splitter import RecursiveCharacterTextSplitter\n",
    "\n",
    "def split_docs(documents, filepath, chunk_size=400, chunk_overlap=40, seperators=['\\n\\n\\n', '\\n\\n'], force_split=False):\n",
    "    if os.path.exists(filepath) and not force_split:\n",
    "        print('found cache, restoring...')\n",
    "        return pickle.load(open(filepath, 'rb'))\n",
    "\n",
    "    splitter = RecursiveCharacterTextSplitter(\n",
    "        chunk_size=chunk_size,\n",
    "        chunk_overlap=chunk_overlap,\n",
    "        separators=seperators\n",
    "    )\n",
    "    split_docs = splitter.split_documents(documents)\n",
    "    for chunk in split_docs:\n",
    "        chunk.metadata['uuid'] = str(uuid4())\n",
    "\n",
    "    pickle.dump(split_docs, open(filepath, 'wb'))\n",
    "\n",
    "    return split_docs"
   ]
  },
  {
   "cell_type": "code",
   "execution_count": 8,
   "id": "aa25540d-0504-4ae7-9804-9e3862b132d5",
   "metadata": {
    "execution": {
     "iopub.execute_input": "2024-09-02T07:18:00.231052Z",
     "iopub.status.busy": "2024-09-02T07:18:00.230885Z",
     "iopub.status.idle": "2024-09-02T07:18:00.244672Z",
     "shell.execute_reply": "2024-09-02T07:18:00.244322Z",
     "shell.execute_reply.started": "2024-09-02T07:18:00.231041Z"
    }
   },
   "outputs": [
    {
     "name": "stdout",
     "output_type": "stream",
     "text": [
      "found cache, restoring...\n"
     ]
    }
   ],
   "source": [
    "splitted_docs = split_docs(documents, os.path.join(preprocess_output_dir, 'split_docs.pkl'), chunk_size=500, chunk_overlap=50)"
   ]
  },
  {
   "cell_type": "markdown",
   "id": "220dbc3a-fceb-4e49-a3f1-01e16660b2a6",
   "metadata": {},
   "source": [
    "# 检索"
   ]
  },
  {
   "cell_type": "code",
   "execution_count": 9,
   "id": "8598a11c-25d8-4af1-a98b-06a8c394e261",
   "metadata": {
    "execution": {
     "iopub.execute_input": "2024-09-02T07:18:00.245232Z",
     "iopub.status.busy": "2024-09-02T07:18:00.245110Z",
     "iopub.status.idle": "2024-09-02T07:18:00.260296Z",
     "shell.execute_reply": "2024-09-02T07:18:00.259849Z",
     "shell.execute_reply.started": "2024-09-02T07:18:00.245220Z"
    }
   },
   "outputs": [
    {
     "name": "stdout",
     "output_type": "stream",
     "text": [
      "device: cuda\n"
     ]
    }
   ],
   "source": [
    "from langchain.embeddings import HuggingFaceBgeEmbeddings\n",
    "import torch\n",
    "\n",
    "device = 'cuda' if torch.cuda.is_available() else 'cpu'\n",
    "print(f'device: {device}')\n",
    "\n",
    "def get_embeddings(model_path):\n",
    "    embeddings = HuggingFaceBgeEmbeddings(\n",
    "        model_name=model_path,\n",
    "        model_kwargs={'device': device},\n",
    "        encode_kwargs={'normalize_embeddings': True},\n",
    "        # show_progress=True\n",
    "        query_instruction='为这个句子生成表示以用于检索相关文章：'\n",
    "    )\n",
    "    return embeddings"
   ]
  },
  {
   "cell_type": "code",
   "execution_count": 10,
   "id": "663ef1a4-5866-4f6b-8d9d-4724f62142cb",
   "metadata": {
    "execution": {
     "iopub.execute_input": "2024-09-02T07:18:00.260939Z",
     "iopub.status.busy": "2024-09-02T07:18:00.260765Z",
     "iopub.status.idle": "2024-09-02T07:18:15.424640Z",
     "shell.execute_reply": "2024-09-02T07:18:15.424157Z",
     "shell.execute_reply.started": "2024-09-02T07:18:00.260927Z"
    }
   },
   "outputs": [
    {
     "name": "stderr",
     "output_type": "stream",
     "text": [
      "Building prefix dict from the default dictionary ...\n",
      "Loading model from cache /tmp/jieba.cache\n",
      "Loading model cost 0.495 seconds.\n",
      "Prefix dict has been built successfully.\n"
     ]
    }
   ],
   "source": [
    "import jieba\n",
    "import shutil\n",
    "\n",
    "from tqdm.auto import tqdm\n",
    "from langchain_community.vectorstores import Chroma\n",
    "from langchain.retrievers import BM25Retriever, EnsembleRetriever\n",
    "\n",
    "# 如果已下载，可以替换为本机路径\n",
    "model_path = 'stevenluo/bge-large-zh-v1.5-ft-v4'\n",
    "embeddings = get_embeddings(model_path)\n",
    "\n",
    "persist_directory = os.path.join(expr_dir, 'chroma', 'bge')\n",
    "shutil.rmtree(persist_directory, ignore_errors=True)\n",
    "vector_db = Chroma.from_documents(\n",
    "    splitted_docs,\n",
    "    embedding=embeddings,\n",
    "    persist_directory=persist_directory\n",
    ")\n",
    "chz_cut_bm25_retriever = BM25Retriever.from_documents(splitted_docs, preprocess_func=lambda text: list(jieba.cut(text)))\n",
    "\n",
    "def build_get_ensemble_retriver_fn(weights=[0.5, 0.5]):\n",
    "    return lambda k: EnsembleRetriever(\n",
    "        retrievers=[vector_db.as_retriever(search_kwargs={'k': k}), chz_cut_bm25_retriever], weights=weights\n",
    "    )"
   ]
  },
  {
   "cell_type": "markdown",
   "id": "566c6f3c-5777-4aa9-bc60-a3ee23050506",
   "metadata": {},
   "source": [
    "## 计算检索准确率"
   ]
  },
  {
   "cell_type": "code",
   "execution_count": 11,
   "id": "b03e3382-39e9-4932-a265-69b811041629",
   "metadata": {
    "execution": {
     "iopub.execute_input": "2024-09-02T07:18:15.425344Z",
     "iopub.status.busy": "2024-09-02T07:18:15.425177Z",
     "iopub.status.idle": "2024-09-02T07:18:15.428475Z",
     "shell.execute_reply": "2024-09-02T07:18:15.428164Z",
     "shell.execute_reply.started": "2024-09-02T07:18:15.425332Z"
    }
   },
   "outputs": [],
   "source": [
    "test_df = qa_df[(qa_df['dataset'] == 'test') & (qa_df['qa_type'] == 'detailed')]"
   ]
  },
  {
   "cell_type": "code",
   "execution_count": 12,
   "id": "32c3ad14-b217-44aa-bdb9-909b9d559668",
   "metadata": {
    "execution": {
     "iopub.execute_input": "2024-09-02T07:18:15.429226Z",
     "iopub.status.busy": "2024-09-02T07:18:15.428903Z",
     "iopub.status.idle": "2024-09-02T07:18:15.442418Z",
     "shell.execute_reply": "2024-09-02T07:18:15.441959Z",
     "shell.execute_reply.started": "2024-09-02T07:18:15.429201Z"
    }
   },
   "outputs": [],
   "source": [
    "def get_hit_stat_df(get_retriever_fn, top_k_arr=list(range(1, 9))):\n",
    "    hit_stat_data = []\n",
    "\n",
    "    for k in tqdm(top_k_arr):\n",
    "        retriever = get_retriever_fn(k)\n",
    "        for idx, row in test_df.iterrows():\n",
    "            question = row['question']\n",
    "            true_uuid = row['uuid']\n",
    "            # chunks = retrieve_fn(question, k=k)\n",
    "            chunks = retriever.get_relevant_documents(question)[:k]\n",
    "            retrieved_uuids = [doc.metadata['uuid'] for doc in chunks]\n",
    "\n",
    "            hit_stat_data.append({\n",
    "                'question': question,\n",
    "                'top_k': k,\n",
    "                'hit': int(true_uuid in retrieved_uuids),\n",
    "                'retrieved_chunks': len(chunks)\n",
    "            })\n",
    "    hit_stat_df = pd.DataFrame(hit_stat_data)\n",
    "    return hit_stat_df"
   ]
  },
  {
   "cell_type": "code",
   "execution_count": 13,
   "id": "a63797c7-4151-4f55-8e5d-080c34265393",
   "metadata": {
    "execution": {
     "iopub.execute_input": "2024-09-02T07:18:15.443033Z",
     "iopub.status.busy": "2024-09-02T07:18:15.442885Z",
     "iopub.status.idle": "2024-09-02T07:18:33.502561Z",
     "shell.execute_reply": "2024-09-02T07:18:33.502170Z",
     "shell.execute_reply.started": "2024-09-02T07:18:15.443021Z"
    }
   },
   "outputs": [
    {
     "data": {
      "application/vnd.jupyter.widget-view+json": {
       "model_id": "31ce87141ebd480385a8424fa08bfeb0",
       "version_major": 2,
       "version_minor": 0
      },
      "text/plain": [
       "  0%|          | 0/8 [00:00<?, ?it/s]"
      ]
     },
     "metadata": {},
     "output_type": "display_data"
    },
    {
     "name": "stderr",
     "output_type": "stream",
     "text": [
      "/opt/anaconda3/lib/python3.10/site-packages/langchain_core/_api/deprecation.py:139: LangChainDeprecationWarning: The method `BaseRetriever.get_relevant_documents` was deprecated in langchain-core 0.1.46 and will be removed in 0.3.0. Use invoke instead.\n",
      "  warn_deprecated(\n"
     ]
    }
   ],
   "source": [
    "retriever_only_hit_stat_df = get_hit_stat_df(build_get_ensemble_retriver_fn(weights=[0.5, 0.5]))"
   ]
  },
  {
   "cell_type": "code",
   "execution_count": 14,
   "id": "d4890789-a44c-41de-b17f-0ff505788494",
   "metadata": {
    "execution": {
     "iopub.execute_input": "2024-09-02T07:18:33.504382Z",
     "iopub.status.busy": "2024-09-02T07:18:33.504251Z",
     "iopub.status.idle": "2024-09-02T07:18:33.510738Z",
     "shell.execute_reply": "2024-09-02T07:18:33.510425Z",
     "shell.execute_reply.started": "2024-09-02T07:18:33.504370Z"
    }
   },
   "outputs": [
    {
     "data": {
      "text/html": [
       "<div>\n",
       "<style scoped>\n",
       "    .dataframe tbody tr th:only-of-type {\n",
       "        vertical-align: middle;\n",
       "    }\n",
       "\n",
       "    .dataframe tbody tr th {\n",
       "        vertical-align: top;\n",
       "    }\n",
       "\n",
       "    .dataframe thead th {\n",
       "        text-align: right;\n",
       "    }\n",
       "</style>\n",
       "<table border=\"1\" class=\"dataframe\">\n",
       "  <thead>\n",
       "    <tr style=\"text-align: right;\">\n",
       "      <th></th>\n",
       "      <th>top_k</th>\n",
       "      <th>hit_rate</th>\n",
       "    </tr>\n",
       "  </thead>\n",
       "  <tbody>\n",
       "    <tr>\n",
       "      <th>0</th>\n",
       "      <td>1</td>\n",
       "      <td>0.548387</td>\n",
       "    </tr>\n",
       "    <tr>\n",
       "      <th>1</th>\n",
       "      <td>2</td>\n",
       "      <td>0.752688</td>\n",
       "    </tr>\n",
       "    <tr>\n",
       "      <th>2</th>\n",
       "      <td>3</td>\n",
       "      <td>0.870968</td>\n",
       "    </tr>\n",
       "    <tr>\n",
       "      <th>3</th>\n",
       "      <td>4</td>\n",
       "      <td>0.892473</td>\n",
       "    </tr>\n",
       "    <tr>\n",
       "      <th>4</th>\n",
       "      <td>5</td>\n",
       "      <td>0.913978</td>\n",
       "    </tr>\n",
       "    <tr>\n",
       "      <th>5</th>\n",
       "      <td>6</td>\n",
       "      <td>0.935484</td>\n",
       "    </tr>\n",
       "    <tr>\n",
       "      <th>6</th>\n",
       "      <td>7</td>\n",
       "      <td>0.946237</td>\n",
       "    </tr>\n",
       "    <tr>\n",
       "      <th>7</th>\n",
       "      <td>8</td>\n",
       "      <td>0.967742</td>\n",
       "    </tr>\n",
       "  </tbody>\n",
       "</table>\n",
       "</div>"
      ],
      "text/plain": [
       "   top_k  hit_rate\n",
       "0      1  0.548387\n",
       "1      2  0.752688\n",
       "2      3  0.870968\n",
       "3      4  0.892473\n",
       "4      5  0.913978\n",
       "5      6  0.935484\n",
       "6      7  0.946237\n",
       "7      8  0.967742"
      ]
     },
     "execution_count": 14,
     "metadata": {},
     "output_type": "execute_result"
    }
   ],
   "source": [
    "retriever_only_hit_stat_df.groupby(['top_k'])['hit'].mean().reset_index().rename(columns={'hit': 'hit_rate'})"
   ]
  },
  {
   "cell_type": "code",
   "execution_count": 15,
   "id": "b0b086d1-6cec-4743-8df6-2ab3b1593689",
   "metadata": {
    "execution": {
     "iopub.execute_input": "2024-09-02T07:18:33.511331Z",
     "iopub.status.busy": "2024-09-02T07:18:33.511208Z",
     "iopub.status.idle": "2024-09-02T07:18:33.853576Z",
     "shell.execute_reply": "2024-09-02T07:18:33.853065Z",
     "shell.execute_reply.started": "2024-09-02T07:18:33.511319Z"
    }
   },
   "outputs": [
    {
     "data": {
      "text/plain": [
       "<Axes: xlabel='top_k', ylabel='hit'>"
      ]
     },
     "execution_count": 15,
     "metadata": {},
     "output_type": "execute_result"
    },
    {
     "data": {
      "image/png": "[encoded data removed]",
      "text/plain": [
       "<Figure size 640x480 with 1 Axes>"
      ]
     },
     "metadata": {},
     "output_type": "display_data"
    }
   ],
   "source": [
    "import seaborn as sns\n",
    "\n",
    "sns.barplot(x='top_k', y='hit', data=retriever_only_hit_stat_df, errorbar=None)"
   ]
  },
  {
   "cell_type": "markdown",
   "id": "e6c2e518-ae0c-42e6-b610-9cc68cb68448",
   "metadata": {},
   "source": [
    "## 加Reranker"
   ]
  },
  {
   "cell_type": "code",
   "execution_count": 16,
   "id": "4cf953a8-2d3b-4641-9d1e-da60821a95e7",
   "metadata": {
    "execution": {
     "iopub.execute_input": "2024-09-02T07:18:33.854294Z",
     "iopub.status.busy": "2024-09-02T07:18:33.854132Z",
     "iopub.status.idle": "2024-09-02T07:18:35.694721Z",
     "shell.execute_reply": "2024-09-02T07:18:35.694207Z",
     "shell.execute_reply.started": "2024-09-02T07:18:33.854281Z"
    }
   },
   "outputs": [],
   "source": [
    "from FlagEmbedding import FlagReranker\n",
    "\n",
    "rerank_model_path = 'stevenluo/bge-reranker-base-ft-v1'\n",
    "\n",
    "reranker = FlagReranker(rerank_model_path, use_fp16=True)"
   ]
  },
  {
   "cell_type": "code",
   "execution_count": 17,
   "id": "05c6c139-1ed8-4f6e-a00f-d08684e30a84",
   "metadata": {
    "execution": {
     "iopub.execute_input": "2024-09-02T07:18:35.695524Z",
     "iopub.status.busy": "2024-09-02T07:18:35.695349Z",
     "iopub.status.idle": "2024-09-02T07:18:35.698810Z",
     "shell.execute_reply": "2024-09-02T07:18:35.698499Z",
     "shell.execute_reply.started": "2024-09-02T07:18:35.695511Z"
    }
   },
   "outputs": [
    {
     "data": {
      "text/plain": [
       "device(type='cuda')"
      ]
     },
     "execution_count": 17,
     "metadata": {},
     "output_type": "execute_result"
    }
   ],
   "source": [
    "reranker.device"
   ]
  },
  {
   "cell_type": "code",
   "execution_count": 18,
   "id": "4938875e-edc0-47b3-992a-0adc8958f9cc",
   "metadata": {
    "execution": {
     "iopub.execute_input": "2024-09-02T07:18:35.699470Z",
     "iopub.status.busy": "2024-09-02T07:18:35.699323Z",
     "iopub.status.idle": "2024-09-02T07:18:35.712605Z",
     "shell.execute_reply": "2024-09-02T07:18:35.712139Z",
     "shell.execute_reply.started": "2024-09-02T07:18:35.699458Z"
    }
   },
   "outputs": [],
   "source": [
    "def rerank(reranker, query, retrieved_docs, top_k=5, debug=False):\n",
    "    rerank_scores = reranker.compute_score([[query, doc.page_content] for doc in retrieved_docs])\n",
    "    triads = [(query, doc, score) for doc, score in zip(retrieved_docs, rerank_scores)]\n",
    "    triads = sorted(triads, key=lambda triad: triad[-1], reverse=True)\n",
    "    if debug:\n",
    "        return triads\n",
    "    return [triad[1] for triad in triads][:top_k]"
   ]
  },
  {
   "cell_type": "code",
   "execution_count": 19,
   "id": "a52a7737-8041-4802-bc77-a4c4acd6877c",
   "metadata": {
    "execution": {
     "iopub.execute_input": "2024-09-02T07:18:35.713145Z",
     "iopub.status.busy": "2024-09-02T07:18:35.713031Z",
     "iopub.status.idle": "2024-09-02T07:21:51.317027Z",
     "shell.execute_reply": "2024-09-02T07:21:51.316692Z",
     "shell.execute_reply.started": "2024-09-02T07:18:35.713133Z"
    }
   },
   "outputs": [
    {
     "data": {
      "application/vnd.jupyter.widget-view+json": {
       "model_id": "334259bce1824e76a16764bdf0dd58b7",
       "version_major": 2,
       "version_minor": 0
      },
      "text/plain": [
       "  0%|          | 0/8 [00:00<?, ?it/s]"
      ]
     },
     "metadata": {},
     "output_type": "display_data"
    }
   ],
   "source": [
    "get_retriever_fn = build_get_ensemble_retriver_fn(weights=[0.5, 0.5])\n",
    "retirever_multiplier = 3\n",
    "\n",
    "hit_stat_data = []\n",
    "\n",
    "top_k_arr = list(range(1, 9))\n",
    "for k in tqdm(top_k_arr):\n",
    "    retriever = get_retriever_fn(k * retirever_multiplier)\n",
    "    for idx, row in test_df.iterrows():\n",
    "        question = row['question']\n",
    "        true_uuid = row['uuid']\n",
    "        chunks = retriever.get_relevant_documents(question)[:k * retirever_multiplier]\n",
    "        chunks = rerank(reranker, question, chunks, top_k=k)\n",
    "        retrieved_uuids = [doc.metadata['uuid'] for doc in chunks][:k]\n",
    "\n",
    "        hit_stat_data.append({\n",
    "            'question': question,\n",
    "            'top_k': k,\n",
    "            'hit': int(true_uuid in retrieved_uuids)\n",
    "        })\n",
    "with_reranker_hit_stat_df = pd.DataFrame(hit_stat_data)"
   ]
  },
  {
   "cell_type": "code",
   "execution_count": 20,
   "id": "00270548-1b2f-4630-8f60-c523d8aef42b",
   "metadata": {
    "execution": {
     "iopub.execute_input": "2024-09-02T07:21:51.317679Z",
     "iopub.status.busy": "2024-09-02T07:21:51.317528Z",
     "iopub.status.idle": "2024-09-02T07:21:51.323483Z",
     "shell.execute_reply": "2024-09-02T07:21:51.323036Z",
     "shell.execute_reply.started": "2024-09-02T07:21:51.317667Z"
    }
   },
   "outputs": [
    {
     "data": {
      "text/html": [
       "<div>\n",
       "<style scoped>\n",
       "    .dataframe tbody tr th:only-of-type {\n",
       "        vertical-align: middle;\n",
       "    }\n",
       "\n",
       "    .dataframe tbody tr th {\n",
       "        vertical-align: top;\n",
       "    }\n",
       "\n",
       "    .dataframe thead th {\n",
       "        text-align: right;\n",
       "    }\n",
       "</style>\n",
       "<table border=\"1\" class=\"dataframe\">\n",
       "  <thead>\n",
       "    <tr style=\"text-align: right;\">\n",
       "      <th></th>\n",
       "      <th>top_k</th>\n",
       "      <th>hit_rate</th>\n",
       "    </tr>\n",
       "  </thead>\n",
       "  <tbody>\n",
       "    <tr>\n",
       "      <th>0</th>\n",
       "      <td>1</td>\n",
       "      <td>0.774194</td>\n",
       "    </tr>\n",
       "    <tr>\n",
       "      <th>1</th>\n",
       "      <td>2</td>\n",
       "      <td>0.870968</td>\n",
       "    </tr>\n",
       "    <tr>\n",
       "      <th>2</th>\n",
       "      <td>3</td>\n",
       "      <td>0.935484</td>\n",
       "    </tr>\n",
       "    <tr>\n",
       "      <th>3</th>\n",
       "      <td>4</td>\n",
       "      <td>0.956989</td>\n",
       "    </tr>\n",
       "    <tr>\n",
       "      <th>4</th>\n",
       "      <td>5</td>\n",
       "      <td>0.956989</td>\n",
       "    </tr>\n",
       "    <tr>\n",
       "      <th>5</th>\n",
       "      <td>6</td>\n",
       "      <td>0.956989</td>\n",
       "    </tr>\n",
       "    <tr>\n",
       "      <th>6</th>\n",
       "      <td>7</td>\n",
       "      <td>0.967742</td>\n",
       "    </tr>\n",
       "    <tr>\n",
       "      <th>7</th>\n",
       "      <td>8</td>\n",
       "      <td>0.967742</td>\n",
       "    </tr>\n",
       "  </tbody>\n",
       "</table>\n",
       "</div>"
      ],
      "text/plain": [
       "   top_k  hit_rate\n",
       "0      1  0.774194\n",
       "1      2  0.870968\n",
       "2      3  0.935484\n",
       "3      4  0.956989\n",
       "4      5  0.956989\n",
       "5      6  0.956989\n",
       "6      7  0.967742\n",
       "7      8  0.967742"
      ]
     },
     "execution_count": 20,
     "metadata": {},
     "output_type": "execute_result"
    }
   ],
   "source": [
    "with_reranker_hit_stat_df.groupby(['top_k'])['hit'].mean().reset_index().rename(columns={'hit': 'hit_rate'})"
   ]
  },
  {
   "cell_type": "code",
   "execution_count": 21,
   "id": "d3f7752d-ba09-437f-b8c2-d9310ceb3473",
   "metadata": {
    "execution": {
     "iopub.execute_input": "2024-09-02T07:21:51.324043Z",
     "iopub.status.busy": "2024-09-02T07:21:51.323923Z",
     "iopub.status.idle": "2024-09-02T07:21:51.337465Z",
     "shell.execute_reply": "2024-09-02T07:21:51.337029Z",
     "shell.execute_reply.started": "2024-09-02T07:21:51.324031Z"
    }
   },
   "outputs": [],
   "source": [
    "retriever_only_hit_stat_df['reranker'] = 'w/o'\n",
    "with_reranker_hit_stat_df['reranker'] = 'w/'\n",
    "hit_stat_df = pd.concat([retriever_only_hit_stat_df, with_reranker_hit_stat_df])"
   ]
  },
  {
   "cell_type": "code",
   "execution_count": 22,
   "id": "d2726273-f8ba-4bc6-9cae-933d376b3bf4",
   "metadata": {
    "execution": {
     "iopub.execute_input": "2024-09-02T07:21:51.338152Z",
     "iopub.status.busy": "2024-09-02T07:21:51.337986Z",
     "iopub.status.idle": "2024-09-02T07:21:51.452144Z",
     "shell.execute_reply": "2024-09-02T07:21:51.451780Z",
     "shell.execute_reply.started": "2024-09-02T07:21:51.338139Z"
    }
   },
   "outputs": [
    {
     "data": {
      "text/plain": [
       "<Axes: xlabel='top_k', ylabel='hit'>"
      ]
     },
     "execution_count": 22,
     "metadata": {},
     "output_type": "execute_result"
    },
    {
     "data": {
      "image/png": "[encoded data removed]",
      "text/plain": [
       "<Figure size 640x480 with 1 Axes>"
      ]
     },
     "metadata": {},
     "output_type": "display_data"
    }
   ],
   "source": [
    "import seaborn as sns\n",
    "\n",
    "sns.barplot(x='top_k', y='hit', hue='reranker', data=hit_stat_df, errorbar=None)"
   ]
  },
  {
   "cell_type": "markdown",
   "id": "7925564a-7d30-4914-baaf-4a00abb7686d",
   "metadata": {},
   "source": [
    "# 生成答案"
   ]
  },
  {
   "cell_type": "code",
   "execution_count": 23,
   "id": "badab849-5b3d-4ed7-8ecf-ea77fbc0b8f9",
   "metadata": {
    "execution": {
     "iopub.execute_input": "2024-09-02T07:21:51.452814Z",
     "iopub.status.busy": "2024-09-02T07:21:51.452643Z",
     "iopub.status.idle": "2024-09-02T07:21:51.462265Z",
     "shell.execute_reply": "2024-09-02T07:21:51.461878Z",
     "shell.execute_reply.started": "2024-09-02T07:21:51.452801Z"
    }
   },
   "outputs": [],
   "source": [
    "from langchain.llms import Ollama\n",
    "\n",
    "llm = Ollama(\n",
    "    model='qwen2:7b-instruct',\n",
    "    base_url='http://localhost:11434',\n",
    "    temperature=0\n",
    ")"
   ]
  },
  {
   "cell_type": "code",
   "execution_count": 24,
   "id": "50404beb-3be0-4aaa-b124-8c7a52b84531",
   "metadata": {
    "editable": true,
    "execution": {
     "iopub.execute_input": "2024-09-02T07:21:51.462875Z",
     "iopub.status.busy": "2024-09-02T07:21:51.462733Z",
     "iopub.status.idle": "2024-09-02T07:21:51.473017Z",
     "shell.execute_reply": "2024-09-02T07:21:51.472562Z",
     "shell.execute_reply.started": "2024-09-02T07:21:51.462863Z"
    },
    "slideshow": {
     "slide_type": ""
    },
    "tags": []
   },
   "outputs": [],
   "source": [
    "def rag(retriever, query, n_chunks=4, retirever_multiplier=3):\n",
    "    prompt_tmpl = \"\"\"\n",
    "你是一个金融分析师，擅长根据所获取的信息片段，对问题进行分析和推理。\n",
    "你的任务是根据所获取的信息片段（<<<<context>>><<<</context>>>之间的内容）回答问题。\n",
    "回答保持简洁，不必重复问题，不要添加描述性解释和与答案无关的任何内容。\n",
    "已知信息：\n",
    "<<<<context>>>\n",
    "{{knowledge}}\n",
    "<<<</context>>>\n",
    "\n",
    "问题：{{query}}\n",
    "请回答：\n",
    "\"\"\".strip()\n",
    "\n",
    "    chunks = retriever.get_relevant_documents(query)[:n_chunks * retirever_multiplier]\n",
    "    chunks = rerank(reranker, query, chunks, top_k=n_chunks)\n",
    "    prompt = prompt_tmpl.replace('{{knowledge}}', '\\n\\n'.join([doc.page_content for doc in chunks])).replace('{{query}}', query)\n",
    "\n",
    "    return llm(prompt), chunks"
   ]
  },
  {
   "cell_type": "code",
   "execution_count": 25,
   "id": "b727d127-5383-4089-b763-28e2c23aec3a",
   "metadata": {
    "execution": {
     "iopub.execute_input": "2024-09-02T07:21:51.473619Z",
     "iopub.status.busy": "2024-09-02T07:21:51.473498Z",
     "iopub.status.idle": "2024-09-02T07:21:55.082725Z",
     "shell.execute_reply": "2024-09-02T07:21:55.082231Z",
     "shell.execute_reply.started": "2024-09-02T07:21:51.473607Z"
    }
   },
   "outputs": [
    {
     "name": "stderr",
     "output_type": "stream",
     "text": [
      "/opt/anaconda3/lib/python3.10/site-packages/langchain_core/_api/deprecation.py:139: LangChainDeprecationWarning: The method `BaseLLM.__call__` was deprecated in langchain-core 0.1.7 and will be removed in 0.3.0. Use invoke instead.\n",
      "  warn_deprecated(\n"
     ]
    },
    {
     "name": "stdout",
     "output_type": "stream",
     "text": [
      "2023年10月美国ISM制造业PMI指数较上个月大幅下降了2.3个百分点。\n"
     ]
    }
   ],
   "source": [
    "n_chunks = 3\n",
    "\n",
    "get_retriever_fn = build_get_ensemble_retriver_fn(weights=[0.5, 0.5])\n",
    "retriever = get_retriever_fn(n_chunks)\n",
    "print(rag(retriever, '2023年10月美国ISM制造业PMI指数较上月有何变化？')[0])"
   ]
  },
  {
   "cell_type": "markdown",
   "id": "95e5a804-2dc6-411c-ba71-6ccf765b2b73",
   "metadata": {},
   "source": [
    "## 预测"
   ]
  },
  {
   "cell_type": "code",
   "execution_count": 26,
   "id": "166392d8-f801-4372-b8ad-3e79aef0b350",
   "metadata": {
    "execution": {
     "iopub.execute_input": "2024-09-02T07:21:55.083363Z",
     "iopub.status.busy": "2024-09-02T07:21:55.083230Z",
     "iopub.status.idle": "2024-09-02T07:21:55.088001Z",
     "shell.execute_reply": "2024-09-02T07:21:55.087668Z",
     "shell.execute_reply.started": "2024-09-02T07:21:55.083351Z"
    }
   },
   "outputs": [],
   "source": [
    "prediction_df = qa_df[qa_df['dataset'] == 'test'][['uuid', 'question', 'qa_type', 'answer']].rename(columns={'answer': 'ref_answer'})\n",
    "\n",
    "def predict(prediction_df, retriever, n_chunks):\n",
    "    prediction_df = prediction_df.copy()\n",
    "    answer_dict = {}\n",
    "\n",
    "    for idx, row in tqdm(prediction_df.iterrows(), total=len(prediction_df)):\n",
    "        uuid = row['uuid']\n",
    "        question = row['question']\n",
    "        answer, chunks = rag(retriever, question, n_chunks=n_chunks)\n",
    "        assert len(chunks) <= n_chunks\n",
    "        answer_dict[question] = {\n",
    "            'uuid': uuid,\n",
    "            'ref_answer': row['ref_answer'],\n",
    "            'gen_answer': answer,\n",
    "            'chunks': chunks\n",
    "        }\n",
    "    prediction_df.loc[:, 'gen_answer'] = prediction_df['question'].apply(lambda q: answer_dict[q]['gen_answer'])\n",
    "    prediction_df.loc[:, 'chunks'] = prediction_df['question'].apply(lambda q: answer_dict[q]['chunks'])\n",
    "\n",
    "    return prediction_df"
   ]
  },
  {
   "cell_type": "code",
   "execution_count": 27,
   "id": "ca46d5f1-e698-457d-abb6-92d83cd59c66",
   "metadata": {
    "execution": {
     "iopub.execute_input": "2024-09-02T07:21:55.088558Z",
     "iopub.status.busy": "2024-09-02T07:21:55.088428Z",
     "iopub.status.idle": "2024-09-02T07:26:02.026910Z",
     "shell.execute_reply": "2024-09-02T07:26:02.026522Z",
     "shell.execute_reply.started": "2024-09-02T07:21:55.088546Z"
    }
   },
   "outputs": [
    {
     "data": {
      "application/vnd.jupyter.widget-view+json": {
       "model_id": "a1addb53b4c547c9840eab6167e8edb4",
       "version_major": 2,
       "version_minor": 0
      },
      "text/plain": [
       "  0%|          | 0/100 [00:00<?, ?it/s]"
      ]
     },
     "metadata": {},
     "output_type": "display_data"
    }
   ],
   "source": [
    "pred_df = predict(prediction_df, retriever, n_chunks=n_chunks)"
   ]
  },
  {
   "cell_type": "markdown",
   "id": "6f45bd41-43a4-4d11-bf1f-b16d9693bfa2",
   "metadata": {},
   "source": [
    "# 评估"
   ]
  },
  {
   "cell_type": "code",
   "execution_count": 28,
   "id": "217568fe-c0e4-49eb-9a7c-9fdfbc033d8a",
   "metadata": {
    "execution": {
     "iopub.execute_input": "2024-09-02T07:26:02.027577Z",
     "iopub.status.busy": "2024-09-02T07:26:02.027451Z",
     "iopub.status.idle": "2024-09-02T07:26:02.204368Z",
     "shell.execute_reply": "2024-09-02T07:26:02.203904Z",
     "shell.execute_reply.started": "2024-09-02T07:26:02.027565Z"
    }
   },
   "outputs": [],
   "source": [
    "from langchain_openai import ChatOpenAI\n",
    "\n",
    "judge_llm = ChatOpenAI(\n",
    "    api_key=os.environ['LLM_API_KEY'],\n",
    "    base_url=os.environ['LLM_BASE_URL'],\n",
    "    model_name='qwen2-72b-instruct',\n",
    "    temperature=0\n",
    ")\n",
    "\n",
    "import time\n",
    "\n",
    "def evaluate(prediction_df):\n",
    "    \"\"\"\n",
    "    对预测结果进行打分\n",
    "    :param prediction_df: 预测结果，需要包含问题，参考答案，生成的答案，列名分别为question, ref_answer, gen_answer\n",
    "    :return 打分模型原始返回结果\n",
    "    \"\"\"\n",
    "    prompt_tmpl = \"\"\"\n",
    "你是一个经济学博士，现在我有一系列问题，有一个助手已经对这些问题进行了回答，你需要参照参考答案，评价这个助手的回答是否正确，仅回复“是”或“否”即可，不要带其他描述性内容或无关信息。\n",
    "问题：\n",
    "<question>\n",
    "{{question}}\n",
    "</question>\n",
    "\n",
    "参考答案：\n",
    "<ref_answer>\n",
    "{{ref_answer}}\n",
    "</ref_answer>\n",
    "\n",
    "助手回答：\n",
    "<gen_answer>\n",
    "{{gen_answer}}\n",
    "</gen_answer>\n",
    "请评价：\n",
    "    \"\"\"\n",
    "    results = []\n",
    "\n",
    "    for _, row in tqdm(prediction_df.iterrows(), total=len(prediction_df)):\n",
    "        question = row['question']\n",
    "        ref_answer = row['ref_answer']\n",
    "        gen_answer = row['gen_answer']\n",
    "\n",
    "        prompt = prompt_tmpl.replace('{{question}}', question).replace('{{ref_answer}}', str(ref_answer)).replace('{{gen_answer}}', gen_answer).strip()\n",
    "        result = judge_llm.invoke(prompt).content\n",
    "        results.append(result)\n",
    "\n",
    "        time.sleep(1)\n",
    "    return results"
   ]
  },
  {
   "cell_type": "code",
   "execution_count": 29,
   "id": "f3dbca91-125c-450e-87ea-eedde90fe994",
   "metadata": {
    "execution": {
     "iopub.execute_input": "2024-09-02T07:26:02.204970Z",
     "iopub.status.busy": "2024-09-02T07:26:02.204837Z",
     "iopub.status.idle": "2024-09-02T07:28:39.307055Z",
     "shell.execute_reply": "2024-09-02T07:28:39.304699Z",
     "shell.execute_reply.started": "2024-09-02T07:26:02.204958Z"
    }
   },
   "outputs": [
    {
     "data": {
      "application/vnd.jupyter.widget-view+json": {
       "model_id": "65346a24910d4534ad2062a8473226a5",
       "version_major": 2,
       "version_minor": 0
      },
      "text/plain": [
       "  0%|          | 0/100 [00:00<?, ?it/s]"
      ]
     },
     "metadata": {},
     "output_type": "display_data"
    }
   ],
   "source": [
    "pred_df['raw_score'] = evaluate(pred_df)"
   ]
  },
  {
   "cell_type": "code",
   "execution_count": 30,
   "id": "a87e45ef-cd70-4731-8145-9a75c677e08a",
   "metadata": {
    "execution": {
     "iopub.execute_input": "2024-09-02T07:28:39.310197Z",
     "iopub.status.busy": "2024-09-02T07:28:39.309486Z",
     "iopub.status.idle": "2024-09-02T07:28:39.316145Z",
     "shell.execute_reply": "2024-09-02T07:28:39.315821Z",
     "shell.execute_reply.started": "2024-09-02T07:28:39.310130Z"
    }
   },
   "outputs": [
    {
     "data": {
      "text/plain": [
       "array(['是', '否',\n",
       "       '否\\n\\n（注：虽然助手的回答提供了更多的背景信息和解释，但是参考答案只提到了三个国家的名字，而没有提及关于能源进口大国或者俄乌冲突的背景。所以，从字面上看，助手的回答与参考答案并不完全一致。）'],\n",
       "      dtype=object)"
      ]
     },
     "execution_count": 30,
     "metadata": {},
     "output_type": "execute_result"
    }
   ],
   "source": [
    "pred_df['raw_score'].unique()"
   ]
  },
  {
   "cell_type": "code",
   "execution_count": 31,
   "id": "cacde907-9350-488c-b63d-4d3a9c92c40c",
   "metadata": {
    "execution": {
     "iopub.execute_input": "2024-09-02T07:28:39.316729Z",
     "iopub.status.busy": "2024-09-02T07:28:39.316600Z",
     "iopub.status.idle": "2024-09-02T07:28:39.329889Z",
     "shell.execute_reply": "2024-09-02T07:28:39.329357Z",
     "shell.execute_reply.started": "2024-09-02T07:28:39.316716Z"
    }
   },
   "outputs": [],
   "source": [
    "pred_df['score'] = (pred_df['raw_score'] == '是').astype(int)\n",
    "# pred_df.loc[:, 'score'] = pred_df['raw_score'].replace({'是': 1, '否': 0})\n",
    "# _ = pred_df.pop('raw_score')"
   ]
  },
  {
   "cell_type": "code",
   "execution_count": 32,
   "id": "79325429-9cf1-4e2c-95ac-cb0c1a3b6156",
   "metadata": {
    "execution": {
     "iopub.execute_input": "2024-09-02T07:28:39.330628Z",
     "iopub.status.busy": "2024-09-02T07:28:39.330397Z",
     "iopub.status.idle": "2024-09-02T07:28:39.336005Z",
     "shell.execute_reply": "2024-09-02T07:28:39.335633Z",
     "shell.execute_reply.started": "2024-09-02T07:28:39.330613Z"
    }
   },
   "outputs": [
    {
     "data": {
      "text/plain": [
       "0.81"
      ]
     },
     "execution_count": 32,
     "metadata": {},
     "output_type": "execute_result"
    }
   ],
   "source": [
    "pred_df['score'].mean()"
   ]
  },
  {
   "cell_type": "code",
   "execution_count": null,
   "id": "5cd9c8e9-a0f4-47cf-b31d-c92462f9518d",
   "metadata": {},
   "outputs": [],
   "source": []
  }
 ],
 "metadata": {
  "kernelspec": {
   "display_name": "gold-yolo",
   "language": "python",
   "name": "python3"
  },
  "language_info": {
   "codemirror_mode": {
    "name": "ipython",
    "version": 3
   },
   "file_extension": ".py",
   "mimetype": "text/x-python",
   "name": "python",
   "nbconvert_exporter": "python",
   "pygments_lexer": "ipython3",
   "version": "3.8.17"
  }
 },
 "nbformat": 4,
 "nbformat_minor": 5
}
