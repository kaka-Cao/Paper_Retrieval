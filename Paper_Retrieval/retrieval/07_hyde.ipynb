{
 "cells": [
  {
   "cell_type": "code",
   "execution_count": null,
   "id": "9e75ddcf-824d-4c86-aa3e-662f1737c956",
   "metadata": {
    "execution": {
     "iopub.execute_input": "2024-10-01T14:01:00.144274Z",
     "iopub.status.busy": "2024-10-01T14:01:00.143525Z",
     "iopub.status.idle": "2024-10-01T14:01:00.171806Z",
     "shell.execute_reply": "2024-10-01T14:01:00.169563Z",
     "shell.execute_reply.started": "2024-10-01T14:01:00.144198Z"
    }
   },
   "outputs": [],
   "source": [
    "%env LLM_API_KEY=替换为自己的key\n",
    "%env LLM_BASE_URL=https://dashscope.aliyuncs.com/compatible-mode/v1"
   ]
  },
  {
   "cell_type": "code",
   "execution_count": 2,
   "id": "af375836-b870-458b-87d1-4e00565977eb",
   "metadata": {
    "execution": {
     "iopub.execute_input": "2024-10-01T14:01:00.954583Z",
     "iopub.status.busy": "2024-10-01T14:01:00.954389Z",
     "iopub.status.idle": "2024-10-01T14:01:00.956662Z",
     "shell.execute_reply": "2024-10-01T14:01:00.956352Z",
     "shell.execute_reply.started": "2024-10-01T14:01:00.954569Z"
    }
   },
   "outputs": [],
   "source": [
    "%%capture --no-stderr\n",
    "!pip install -U langchain langchain_community langchain_openai pypdf sentence_transformers chromadb shutil openpyxl FlagEmbedding"
   ]
  },
  {
   "cell_type": "code",
   "execution_count": 3,
   "id": "1e2c72b8-ee12-4130-af88-699998aa230c",
   "metadata": {
    "execution": {
     "iopub.execute_input": "2024-10-01T14:01:01.441684Z",
     "iopub.status.busy": "2024-10-01T14:01:01.441516Z",
     "iopub.status.idle": "2024-10-01T14:01:04.675892Z",
     "shell.execute_reply": "2024-10-01T14:01:04.675396Z",
     "shell.execute_reply.started": "2024-10-01T14:01:01.441669Z"
    }
   },
   "outputs": [
    {
     "name": "stderr",
     "output_type": "stream",
     "text": [
      "/opt/anaconda3/lib/python3.10/site-packages/sentence_transformers/cross_encoder/CrossEncoder.py:11: TqdmExperimentalWarning: Using `tqdm.autonotebook.tqdm` in notebook mode. Use `tqdm.tqdm` instead to force console mode (e.g. in jupyter console)\n",
      "  from tqdm.autonotebook import tqdm, trange\n"
     ]
    },
    {
     "name": "stdout",
     "output_type": "stream",
     "text": [
      "langchain                     0.2.10\n",
      "langchain_core                0.2.28\n",
      "langchain_community           0.2.9\n",
      "pypdf                         4.3.1\n",
      "sentence_transformers         3.0.1\n",
      "chromadb                      0.5.4\n"
     ]
    }
   ],
   "source": [
    "import langchain, langchain_community, pypdf, sentence_transformers, chromadb, langchain_core\n",
    "\n",
    "for module in (langchain, langchain_core, langchain_community, pypdf, sentence_transformers, chromadb):\n",
    "    print(f\"{module.__name__:<30}{module.__version__}\")"
   ]
  },
  {
   "cell_type": "code",
   "execution_count": 4,
   "id": "facc1812-d307-45b6-8390-f90536229eb9",
   "metadata": {
    "execution": {
     "iopub.execute_input": "2024-10-01T14:01:04.676930Z",
     "iopub.status.busy": "2024-10-01T14:01:04.676674Z",
     "iopub.status.idle": "2024-10-01T14:01:04.679421Z",
     "shell.execute_reply": "2024-10-01T14:01:04.678973Z",
     "shell.execute_reply.started": "2024-10-01T14:01:04.676916Z"
    }
   },
   "outputs": [],
   "source": [
    "import os\n",
    "import pandas as pd"
   ]
  },
  {
   "cell_type": "code",
   "execution_count": 5,
   "id": "841d2b02-ad06-40d2-b11f-c7adccec6ca2",
   "metadata": {
    "execution": {
     "iopub.execute_input": "2024-10-01T14:01:04.679961Z",
     "iopub.status.busy": "2024-10-01T14:01:04.679842Z",
     "iopub.status.idle": "2024-10-01T14:01:04.697603Z",
     "shell.execute_reply": "2024-10-01T14:01:04.695217Z",
     "shell.execute_reply.started": "2024-10-01T14:01:04.679949Z"
    }
   },
   "outputs": [],
   "source": [
    "expr_version = 'retrieval_v7_hyde'\n",
    "\n",
    "preprocess_output_dir = os.path.join(os.path.pardir, 'outputs', 'v1_20240713')\n",
    "expr_dir = os.path.join(os.path.pardir, 'experiments', expr_version)"
   ]
  },
  {
   "cell_type": "markdown",
   "id": "cf7e81e3-4c82-4842-aef5-7592caaf1d39",
   "metadata": {},
   "source": [
    "# 读取文档"
   ]
  },
  {
   "cell_type": "code",
   "execution_count": 6,
   "id": "da15f02e-3131-43fb-81c5-f4da615c449b",
   "metadata": {
    "execution": {
     "iopub.execute_input": "2024-10-01T14:01:04.702833Z",
     "iopub.status.busy": "2024-10-01T14:01:04.702125Z",
     "iopub.status.idle": "2024-10-01T14:01:06.263850Z",
     "shell.execute_reply": "2024-10-01T14:01:06.263323Z",
     "shell.execute_reply.started": "2024-10-01T14:01:04.702764Z"
    }
   },
   "outputs": [],
   "source": [
    "from langchain_community.document_loaders import PyPDFLoader\n",
    "\n",
    "loader = PyPDFLoader(os.path.join(os.path.pardir, 'data', '2024全球经济金融展望报告.pdf'))\n",
    "documents = loader.load()\n",
    "\n",
    "qa_df = pd.read_excel(os.path.join(preprocess_output_dir, 'question_answer.xlsx'))"
   ]
  },
  {
   "cell_type": "markdown",
   "id": "841ec659-4ad7-4e1f-b1ea-3477bf97fde3",
   "metadata": {},
   "source": [
    "# 文档切分"
   ]
  },
  {
   "cell_type": "code",
   "execution_count": 7,
   "id": "74fe856a-7c19-4c3c-bb30-7abfa6298f74",
   "metadata": {
    "execution": {
     "iopub.execute_input": "2024-10-01T14:01:06.264635Z",
     "iopub.status.busy": "2024-10-01T14:01:06.264408Z",
     "iopub.status.idle": "2024-10-01T14:01:06.270936Z",
     "shell.execute_reply": "2024-10-01T14:01:06.270608Z",
     "shell.execute_reply.started": "2024-10-01T14:01:06.264621Z"
    }
   },
   "outputs": [],
   "source": [
    "from uuid import uuid4\n",
    "import os\n",
    "import pickle\n",
    "\n",
    "from langchain.text_splitter import RecursiveCharacterTextSplitter\n",
    "\n",
    "def split_docs(documents, filepath, chunk_size=400, chunk_overlap=40, seperators=['\\n\\n\\n', '\\n\\n'], force_split=False):\n",
    "    if os.path.exists(filepath) and not force_split:\n",
    "        print('found cache, restoring...')\n",
    "        return pickle.load(open(filepath, 'rb'))\n",
    "\n",
    "    splitter = RecursiveCharacterTextSplitter(\n",
    "        chunk_size=chunk_size,\n",
    "        chunk_overlap=chunk_overlap,\n",
    "        separators=seperators\n",
    "    )\n",
    "    split_docs = splitter.split_documents(documents)\n",
    "    for chunk in split_docs:\n",
    "        chunk.metadata['uuid'] = str(uuid4())\n",
    "\n",
    "    pickle.dump(split_docs, open(filepath, 'wb'))\n",
    "\n",
    "    return split_docs"
   ]
  },
  {
   "cell_type": "code",
   "execution_count": 8,
   "id": "aa25540d-0504-4ae7-9804-9e3862b132d5",
   "metadata": {
    "execution": {
     "iopub.execute_input": "2024-10-01T14:01:06.271519Z",
     "iopub.status.busy": "2024-10-01T14:01:06.271396Z",
     "iopub.status.idle": "2024-10-01T14:01:06.282320Z",
     "shell.execute_reply": "2024-10-01T14:01:06.281909Z",
     "shell.execute_reply.started": "2024-10-01T14:01:06.271507Z"
    }
   },
   "outputs": [
    {
     "name": "stdout",
     "output_type": "stream",
     "text": [
      "found cache, restoring...\n"
     ]
    }
   ],
   "source": [
    "splitted_docs = split_docs(documents, os.path.join(preprocess_output_dir, 'split_docs.pkl'), chunk_size=500, chunk_overlap=50)"
   ]
  },
  {
   "cell_type": "markdown",
   "id": "220dbc3a-fceb-4e49-a3f1-01e16660b2a6",
   "metadata": {},
   "source": [
    "# 检索"
   ]
  },
  {
   "cell_type": "code",
   "execution_count": 9,
   "id": "8598a11c-25d8-4af1-a98b-06a8c394e261",
   "metadata": {
    "execution": {
     "iopub.execute_input": "2024-10-01T14:01:06.283284Z",
     "iopub.status.busy": "2024-10-01T14:01:06.283162Z",
     "iopub.status.idle": "2024-10-01T14:01:06.297483Z",
     "shell.execute_reply": "2024-10-01T14:01:06.296976Z",
     "shell.execute_reply.started": "2024-10-01T14:01:06.283272Z"
    }
   },
   "outputs": [
    {
     "name": "stdout",
     "output_type": "stream",
     "text": [
      "device: cuda\n"
     ]
    }
   ],
   "source": [
    "from langchain.embeddings import HuggingFaceBgeEmbeddings\n",
    "import torch\n",
    "\n",
    "device = 'cuda' if torch.cuda.is_available() else 'cpu'\n",
    "print(f'device: {device}')\n",
    "\n",
    "def get_embeddings(model_path):\n",
    "    embeddings = HuggingFaceBgeEmbeddings(\n",
    "        model_name=model_path,\n",
    "        model_kwargs={'device': device},\n",
    "        encode_kwargs={'normalize_embeddings': True},\n",
    "        # show_progress=True\n",
    "        query_instruction='为这个句子生成表示以用于检索相关文章：'\n",
    "    )\n",
    "    return embeddings"
   ]
  },
  {
   "cell_type": "code",
   "execution_count": 10,
   "id": "663ef1a4-5866-4f6b-8d9d-4724f62142cb",
   "metadata": {
    "execution": {
     "iopub.execute_input": "2024-10-01T14:01:07.508728Z",
     "iopub.status.busy": "2024-10-01T14:01:07.508429Z",
     "iopub.status.idle": "2024-10-01T14:01:07.514319Z",
     "shell.execute_reply": "2024-10-01T14:01:07.513300Z",
     "shell.execute_reply.started": "2024-10-01T14:01:07.508701Z"
    }
   },
   "outputs": [],
   "source": [
    "import shutil\n",
    "from langchain_community.vectorstores import Chroma\n",
    "\n",
    "# 可以替换为本机路径\n",
    "model_path = 'BAAI/bge-large-zh-v1.5'\n",
    "\n",
    "def get_vector_db(embeddings, docs, db_name):\n",
    "    persist_directory = os.path.join(expr_dir, 'chroma', db_name)\n",
    "    shutil.rmtree(persist_directory, ignore_errors=True)\n",
    "\n",
    "    vector_db = Chroma.from_documents(\n",
    "        splitted_docs,\n",
    "        embedding=embeddings,\n",
    "        persist_directory=persist_directory\n",
    "    )\n",
    "    return vector_db"
   ]
  },
  {
   "cell_type": "code",
   "execution_count": 11,
   "id": "b03e3382-39e9-4932-a265-69b811041629",
   "metadata": {
    "execution": {
     "iopub.execute_input": "2024-10-01T14:01:09.677519Z",
     "iopub.status.busy": "2024-10-01T14:01:09.677031Z",
     "iopub.status.idle": "2024-10-01T14:01:09.687722Z",
     "shell.execute_reply": "2024-10-01T14:01:09.685751Z",
     "shell.execute_reply.started": "2024-10-01T14:01:09.677475Z"
    }
   },
   "outputs": [],
   "source": [
    "test_df = qa_df[(qa_df['dataset'] == 'test') & (qa_df['qa_type'] == 'detailed')]"
   ]
  },
  {
   "cell_type": "markdown",
   "id": "0b2e4b81-bd77-45e7-bfb0-ae321e51fe90",
   "metadata": {},
   "source": [
    "## 不使用HyDE"
   ]
  },
  {
   "cell_type": "code",
   "execution_count": 12,
   "id": "11844472-9206-4411-bd5f-e0c556f0ac73",
   "metadata": {
    "execution": {
     "iopub.execute_input": "2024-10-01T14:01:12.589942Z",
     "iopub.status.busy": "2024-10-01T14:01:12.589777Z",
     "iopub.status.idle": "2024-10-01T14:01:27.132752Z",
     "shell.execute_reply": "2024-10-01T14:01:27.130292Z",
     "shell.execute_reply.started": "2024-10-01T14:01:12.589929Z"
    }
   },
   "outputs": [],
   "source": [
    "embeddings = get_embeddings(model_path)\n",
    "vector_db = get_vector_db(embeddings, splitted_docs, 'vanilla_retrieval')"
   ]
  },
  {
   "cell_type": "code",
   "execution_count": 13,
   "id": "32c3ad14-b217-44aa-bdb9-909b9d559668",
   "metadata": {
    "execution": {
     "iopub.execute_input": "2024-10-01T14:01:39.238422Z",
     "iopub.status.busy": "2024-10-01T14:01:39.238215Z",
     "iopub.status.idle": "2024-10-01T14:01:39.242918Z",
     "shell.execute_reply": "2024-10-01T14:01:39.242501Z",
     "shell.execute_reply.started": "2024-10-01T14:01:39.238404Z"
    }
   },
   "outputs": [],
   "source": [
    "from tqdm.auto import tqdm\n",
    "\n",
    "def get_hit_stat_df(vector_db, top_k_arr=list(range(1, 9))):\n",
    "    hit_stat_data = []\n",
    "    pbar = tqdm(total=len(top_k_arr) * len(test_df))\n",
    "    for k in top_k_arr:\n",
    "        pbar.set_description(f'k={k}')\n",
    "        # retriever = vector_db.as_retriever(search_kwargs={'k': k})\n",
    "        for idx, row in test_df.iterrows():\n",
    "            question = row['question']\n",
    "            true_uuid = row['uuid']\n",
    "            chunks = vector_db.similarity_search(question, k=k)\n",
    "            retrieved_uuids = [doc.metadata['uuid'] for doc in chunks]\n",
    "\n",
    "            hit_stat_data.append({\n",
    "                'question': question,\n",
    "                'top_k': k,\n",
    "                'hit': int(true_uuid in retrieved_uuids),\n",
    "                'retrieved_chunks': len(chunks)\n",
    "            })\n",
    "            pbar.update(1)\n",
    "    hit_stat_df = pd.DataFrame(hit_stat_data)\n",
    "    return hit_stat_df"
   ]
  },
  {
   "cell_type": "code",
   "execution_count": 14,
   "id": "93dd701a-bd89-44db-a954-c78dd7001e38",
   "metadata": {
    "execution": {
     "iopub.execute_input": "2024-10-01T14:01:40.322993Z",
     "iopub.status.busy": "2024-10-01T14:01:40.322207Z",
     "iopub.status.idle": "2024-10-01T14:01:58.071781Z",
     "shell.execute_reply": "2024-10-01T14:01:58.071346Z",
     "shell.execute_reply.started": "2024-10-01T14:01:40.322894Z"
    }
   },
   "outputs": [
    {
     "data": {
      "application/vnd.jupyter.widget-view+json": {
       "model_id": "e9b83bbd9b38425989c7e4e0113fff09",
       "version_major": 2,
       "version_minor": 0
      },
      "text/plain": [
       "  0%|          | 0/744 [00:00<?, ?it/s]"
      ]
     },
     "metadata": {},
     "output_type": "display_data"
    }
   ],
   "source": [
    "orig_query_hit_stat_df = get_hit_stat_df(vector_db)\n",
    "orig_query_hit_stat_df['HyDE'] = 'w/o'"
   ]
  },
  {
   "cell_type": "markdown",
   "id": "bd9f5f38-28b2-4b77-a101-8694e505678f",
   "metadata": {},
   "source": [
    "## 使用HyDE"
   ]
  },
  {
   "cell_type": "code",
   "execution_count": 15,
   "id": "f25c0878-151a-4d06-901d-3bf4add8a86a",
   "metadata": {
    "execution": {
     "iopub.execute_input": "2024-10-01T14:02:12.199045Z",
     "iopub.status.busy": "2024-10-01T14:02:12.198220Z",
     "iopub.status.idle": "2024-10-01T14:02:26.373926Z",
     "shell.execute_reply": "2024-10-01T14:02:26.372639Z",
     "shell.execute_reply.started": "2024-10-01T14:02:12.198968Z"
    },
    "scrolled": true
   },
   "outputs": [],
   "source": [
    "from langchain_community.chat_models import ChatOllama\n",
    "from langchain_openai import ChatOpenAI\n",
    "from langchain.prompts import PromptTemplate\n",
    "from langchain.chains import HypotheticalDocumentEmbedder\n",
    "import re\n",
    "\n",
    "llm = ChatOllama(base_url='http://localhost:11434', model='qwen2:7b-instruct')\n",
    "\n",
    "prompt = PromptTemplate(\n",
    "    input_variables=['question'],\n",
    "    template = \"\"\"你是一位精通财经的专业分析师，请基于用户提问，回答问题。\n",
    "问题：{question}\n",
    "请回答：\n",
    "\"\"\"\n",
    ")\n",
    "\n",
    "hyde_embedding = HypotheticalDocumentEmbedder.from_llm(llm, base_embeddings=embeddings, custom_prompt=prompt)\n",
    "hyde_vector_db = get_vector_db(hyde_embedding, splitted_docs, 'hyde')"
   ]
  },
  {
   "cell_type": "code",
   "execution_count": 16,
   "id": "ce49bf41-447b-470c-a243-99b583bdd773",
   "metadata": {
    "execution": {
     "iopub.execute_input": "2024-10-01T14:02:28.361191Z",
     "iopub.status.busy": "2024-10-01T14:02:28.360771Z",
     "iopub.status.idle": "2024-10-01T14:02:31.266461Z",
     "shell.execute_reply": "2024-10-01T14:02:31.265977Z",
     "shell.execute_reply.started": "2024-10-01T14:02:28.361152Z"
    }
   },
   "outputs": [
    {
     "data": {
      "text/plain": [
       "AIMessage(content='我是阿里云开发的一款超大规模语言模型，我叫通义千问。作为一个AI助手，我的目标是帮助用户获得准确、有用的信息，解决他们的问题和困惑。我可以回答各种领域的问题，提供代码实现、解释概念、提供建议等。请随时告诉我您需要帮助的内容，我会尽力提供支持。', response_metadata={'model': 'qwen2:7b-instruct', 'created_at': '2024-10-01T14:02:31.26354926Z', 'message': {'role': 'assistant', 'content': ''}, 'done_reason': 'stop', 'done': True, 'total_duration': 2895563597, 'load_duration': 1588807712, 'prompt_eval_count': 10, 'prompt_eval_duration': 42270000, 'eval_count': 71, 'eval_duration': 1219858000}, id='run-9ab48c32-3bd3-46b0-8887-98c3108a192e-0')"
      ]
     },
     "execution_count": 16,
     "metadata": {},
     "output_type": "execute_result"
    }
   ],
   "source": [
    "llm.invoke('你是谁')"
   ]
  },
  {
   "cell_type": "code",
   "execution_count": 17,
   "id": "d7d1bf20-7169-45d0-958e-1a4bece5a8a4",
   "metadata": {
    "execution": {
     "iopub.execute_input": "2024-10-01T14:02:38.818523Z",
     "iopub.status.busy": "2024-10-01T14:02:38.817739Z",
     "iopub.status.idle": "2024-10-01T14:02:38.834095Z",
     "shell.execute_reply": "2024-10-01T14:02:38.831771Z",
     "shell.execute_reply.started": "2024-10-01T14:02:38.818451Z"
    }
   },
   "outputs": [],
   "source": [
    "def get_hyde_hit_stat_df(vector_db, k):\n",
    "    hit_stat_data = []\n",
    "    pbar = tqdm(total=1 * len(test_df))\n",
    "    pbar.set_description(f'k={k}')\n",
    "\n",
    "    for idx, row in test_df.iterrows():\n",
    "        question = row['question']\n",
    "        true_uuid = row['uuid']\n",
    "\n",
    "        chunks = vector_db.similarity_search(question, k=k)\n",
    "        retrieved_uuids = [doc.metadata['uuid'] for doc in chunks]\n",
    "\n",
    "        hit_stat_data.append({\n",
    "            'question': question,\n",
    "            'top_k': k,\n",
    "            'hit': int(true_uuid in retrieved_uuids),\n",
    "            'retrieved_chunks': len(chunks)\n",
    "        })\n",
    "        pbar.update(1)\n",
    "    hit_stat_df = pd.DataFrame(hit_stat_data)\n",
    "    return hit_stat_df"
   ]
  },
  {
   "cell_type": "code",
   "execution_count": null,
   "id": "a9c8ee12-b922-42bf-b80a-283cf65ee1b2",
   "metadata": {
    "execution": {
     "iopub.execute_input": "2024-09-29T07:05:42.339760Z",
     "iopub.status.busy": "2024-09-29T07:05:42.339573Z",
     "iopub.status.idle": "2024-09-29T08:12:44.883205Z",
     "shell.execute_reply": "2024-09-29T08:12:44.882698Z",
     "shell.execute_reply.started": "2024-09-29T07:05:42.339744Z"
    }
   },
   "outputs": [],
   "source": [
    "from concurrent.futures import ThreadPoolExecutor\n",
    "\n",
    "top_k_arr=list(range(1, 9))\n",
    "\n",
    "hyde_hit_stat_data = []\n",
    "with ThreadPoolExecutor(max_workers=2) as executor:\n",
    "    futures = {k: executor.submit(get_hyde_hit_stat_df, hyde_vector_db, k) for k in top_k_arr}\n",
    "    for k in futures:\n",
    "        hyde_hit_stat_data.append(futures[k].result())\n",
    "hyde_hit_stat_df = pd.concat(hyde_hit_stat_data)\n",
    "hyde_hit_stat_df['HyDE'] = 'w/'"
   ]
  },
  {
   "cell_type": "code",
   "execution_count": 19,
   "id": "899d1393-3ba3-48f7-b10e-c5c3de8a8927",
   "metadata": {
    "execution": {
     "iopub.execute_input": "2024-09-29T08:12:44.883839Z",
     "iopub.status.busy": "2024-09-29T08:12:44.883680Z",
     "iopub.status.idle": "2024-09-29T08:12:44.886735Z",
     "shell.execute_reply": "2024-09-29T08:12:44.886282Z",
     "shell.execute_reply.started": "2024-09-29T08:12:44.883826Z"
    }
   },
   "outputs": [],
   "source": [
    "hit_stat_df = pd.concat([orig_query_hit_stat_df, hyde_hit_stat_df])"
   ]
  },
  {
   "cell_type": "code",
   "execution_count": 20,
   "id": "d4890789-a44c-41de-b17f-0ff505788494",
   "metadata": {
    "execution": {
     "iopub.execute_input": "2024-09-29T08:12:44.887294Z",
     "iopub.status.busy": "2024-09-29T08:12:44.887172Z",
     "iopub.status.idle": "2024-09-29T08:12:44.904902Z",
     "shell.execute_reply": "2024-09-29T08:12:44.904470Z",
     "shell.execute_reply.started": "2024-09-29T08:12:44.887282Z"
    }
   },
   "outputs": [
    {
     "data": {
      "text/html": [
       "<div>\n",
       "<style scoped>\n",
       "    .dataframe tbody tr th:only-of-type {\n",
       "        vertical-align: middle;\n",
       "    }\n",
       "\n",
       "    .dataframe tbody tr th {\n",
       "        vertical-align: top;\n",
       "    }\n",
       "\n",
       "    .dataframe thead th {\n",
       "        text-align: right;\n",
       "    }\n",
       "</style>\n",
       "<table border=\"1\" class=\"dataframe\">\n",
       "  <thead>\n",
       "    <tr style=\"text-align: right;\">\n",
       "      <th></th>\n",
       "      <th>HyDE</th>\n",
       "      <th>top_k</th>\n",
       "      <th>hit_rate</th>\n",
       "    </tr>\n",
       "  </thead>\n",
       "  <tbody>\n",
       "    <tr>\n",
       "      <th>0</th>\n",
       "      <td>w/</td>\n",
       "      <td>1</td>\n",
       "      <td>0.440860</td>\n",
       "    </tr>\n",
       "    <tr>\n",
       "      <th>1</th>\n",
       "      <td>w/</td>\n",
       "      <td>2</td>\n",
       "      <td>0.559140</td>\n",
       "    </tr>\n",
       "    <tr>\n",
       "      <th>2</th>\n",
       "      <td>w/</td>\n",
       "      <td>3</td>\n",
       "      <td>0.666667</td>\n",
       "    </tr>\n",
       "    <tr>\n",
       "      <th>3</th>\n",
       "      <td>w/</td>\n",
       "      <td>4</td>\n",
       "      <td>0.698925</td>\n",
       "    </tr>\n",
       "    <tr>\n",
       "      <th>4</th>\n",
       "      <td>w/</td>\n",
       "      <td>5</td>\n",
       "      <td>0.720430</td>\n",
       "    </tr>\n",
       "    <tr>\n",
       "      <th>5</th>\n",
       "      <td>w/</td>\n",
       "      <td>6</td>\n",
       "      <td>0.774194</td>\n",
       "    </tr>\n",
       "    <tr>\n",
       "      <th>6</th>\n",
       "      <td>w/</td>\n",
       "      <td>7</td>\n",
       "      <td>0.763441</td>\n",
       "    </tr>\n",
       "    <tr>\n",
       "      <th>7</th>\n",
       "      <td>w/</td>\n",
       "      <td>8</td>\n",
       "      <td>0.827957</td>\n",
       "    </tr>\n",
       "    <tr>\n",
       "      <th>8</th>\n",
       "      <td>w/o</td>\n",
       "      <td>1</td>\n",
       "      <td>0.462366</td>\n",
       "    </tr>\n",
       "    <tr>\n",
       "      <th>9</th>\n",
       "      <td>w/o</td>\n",
       "      <td>2</td>\n",
       "      <td>0.591398</td>\n",
       "    </tr>\n",
       "    <tr>\n",
       "      <th>10</th>\n",
       "      <td>w/o</td>\n",
       "      <td>3</td>\n",
       "      <td>0.688172</td>\n",
       "    </tr>\n",
       "    <tr>\n",
       "      <th>11</th>\n",
       "      <td>w/o</td>\n",
       "      <td>4</td>\n",
       "      <td>0.774194</td>\n",
       "    </tr>\n",
       "    <tr>\n",
       "      <th>12</th>\n",
       "      <td>w/o</td>\n",
       "      <td>5</td>\n",
       "      <td>0.806452</td>\n",
       "    </tr>\n",
       "    <tr>\n",
       "      <th>13</th>\n",
       "      <td>w/o</td>\n",
       "      <td>6</td>\n",
       "      <td>0.817204</td>\n",
       "    </tr>\n",
       "    <tr>\n",
       "      <th>14</th>\n",
       "      <td>w/o</td>\n",
       "      <td>7</td>\n",
       "      <td>0.838710</td>\n",
       "    </tr>\n",
       "    <tr>\n",
       "      <th>15</th>\n",
       "      <td>w/o</td>\n",
       "      <td>8</td>\n",
       "      <td>0.849462</td>\n",
       "    </tr>\n",
       "  </tbody>\n",
       "</table>\n",
       "</div>"
      ],
      "text/plain": [
       "   HyDE  top_k  hit_rate\n",
       "0    w/      1  0.440860\n",
       "1    w/      2  0.559140\n",
       "2    w/      3  0.666667\n",
       "3    w/      4  0.698925\n",
       "4    w/      5  0.720430\n",
       "5    w/      6  0.774194\n",
       "6    w/      7  0.763441\n",
       "7    w/      8  0.827957\n",
       "8   w/o      1  0.462366\n",
       "9   w/o      2  0.591398\n",
       "10  w/o      3  0.688172\n",
       "11  w/o      4  0.774194\n",
       "12  w/o      5  0.806452\n",
       "13  w/o      6  0.817204\n",
       "14  w/o      7  0.838710\n",
       "15  w/o      8  0.849462"
      ]
     },
     "execution_count": 20,
     "metadata": {},
     "output_type": "execute_result"
    }
   ],
   "source": [
    "hit_stat_df.groupby(['HyDE', 'top_k'])['hit'].mean().reset_index().rename(columns={'hit': 'hit_rate'})"
   ]
  },
  {
   "cell_type": "code",
   "execution_count": 21,
   "id": "b0b086d1-6cec-4743-8df6-2ab3b1593689",
   "metadata": {
    "execution": {
     "iopub.execute_input": "2024-09-29T08:12:44.905441Z",
     "iopub.status.busy": "2024-09-29T08:12:44.905318Z",
     "iopub.status.idle": "2024-09-29T08:12:45.305164Z",
     "shell.execute_reply": "2024-09-29T08:12:45.304734Z",
     "shell.execute_reply.started": "2024-09-29T08:12:44.905428Z"
    }
   },
   "outputs": [
    {
     "data": {
      "text/plain": [
       "<Axes: xlabel='top_k', ylabel='hit'>"
      ]
     },
     "execution_count": 21,
     "metadata": {},
     "output_type": "execute_result"
    },
    {
     "data": {
      "image/png": "[encoded data removed]",
      "text/plain": [
       "<Figure size 640x480 with 1 Axes>"
      ]
     },
     "metadata": {},
     "output_type": "display_data"
    }
   ],
   "source": [
    "import seaborn as sns\n",
    "\n",
    "sns.barplot(x='top_k', y='hit', hue='HyDE', data=hit_stat_df, errorbar=None)"
   ]
  },
  {
   "cell_type": "markdown",
   "id": "60f4607e-d1ad-4059-ba9b-0fe4be9cd38c",
   "metadata": {},
   "source": [
    "# 问答全流程"
   ]
  },
  {
   "cell_type": "code",
   "execution_count": 18,
   "id": "e41380a8-6bac-4e13-8f5b-a8033a44ef6c",
   "metadata": {
    "execution": {
     "iopub.execute_input": "2024-10-01T14:02:46.211715Z",
     "iopub.status.busy": "2024-10-01T14:02:46.210955Z",
     "iopub.status.idle": "2024-10-01T14:02:46.224031Z",
     "shell.execute_reply": "2024-10-01T14:02:46.221735Z",
     "shell.execute_reply.started": "2024-10-01T14:02:46.211643Z"
    }
   },
   "outputs": [],
   "source": [
    "from langchain.llms import Ollama\n",
    "\n",
    "llm = Ollama(\n",
    "    model='qwen2:7b-instruct',\n",
    "    base_url='http://localhost:11434'\n",
    ")"
   ]
  },
  {
   "cell_type": "code",
   "execution_count": 21,
   "id": "15927967-689d-4ec9-ab37-559e405655f4",
   "metadata": {
    "execution": {
     "iopub.execute_input": "2024-10-01T14:03:11.316472Z",
     "iopub.status.busy": "2024-10-01T14:03:11.315695Z",
     "iopub.status.idle": "2024-10-01T14:03:11.330316Z",
     "shell.execute_reply": "2024-10-01T14:03:11.327997Z",
     "shell.execute_reply.started": "2024-10-01T14:03:11.316400Z"
    }
   },
   "outputs": [],
   "source": [
    "def rag(vector_db, query, n_chunks=4):\n",
    "    prompt_tmpl = \"\"\"\n",
    "你是一个金融分析师，擅长根据所获取的信息片段，对问题进行分析和推理。\n",
    "你的任务是根据所获取的信息片段（<<<<context>>><<<</context>>>之间的内容）回答问题。\n",
    "回答保持简洁，不必重复问题，不要添加描述性解释和与答案无关的任何内容。\n",
    "已知信息：\n",
    "<<<<context>>>\n",
    "{{knowledge}}\n",
    "<<<</context>>>\n",
    "\n",
    "问题：{{query}}\n",
    "请回答：\n",
    "\"\"\".strip()\n",
    "\n",
    "    chunks = vector_db.similarity_search(query, k=n_chunks)\n",
    "    prompt = prompt_tmpl.replace('{{knowledge}}', '\\n\\n'.join([doc.page_content for doc in chunks])).replace('{{query}}', query)\n",
    "\n",
    "    return llm.invoke(prompt), chunks"
   ]
  },
  {
   "cell_type": "code",
   "execution_count": 22,
   "id": "a4c3545e-b774-4252-86a2-232a4824851e",
   "metadata": {
    "execution": {
     "iopub.execute_input": "2024-10-01T14:03:11.996555Z",
     "iopub.status.busy": "2024-10-01T14:03:11.995786Z",
     "iopub.status.idle": "2024-10-01T14:03:19.514616Z",
     "shell.execute_reply": "2024-10-01T14:03:19.514252Z",
     "shell.execute_reply.started": "2024-10-01T14:03:11.996482Z"
    }
   },
   "outputs": [
    {
     "name": "stdout",
     "output_type": "stream",
     "text": [
      "2023年10月美国ISM制造业PMI指数较上个月大幅下降了2.3个百分点。\n"
     ]
    }
   ],
   "source": [
    "print(rag(hyde_vector_db, '2023年10月美国ISM制造业PMI指数较上月有何变化？')[0])"
   ]
  },
  {
   "cell_type": "markdown",
   "id": "832610e4-2a24-4770-b94c-437a114a7b5e",
   "metadata": {},
   "source": [
    "## 预测"
   ]
  },
  {
   "cell_type": "code",
   "execution_count": 23,
   "id": "aaa82763-b110-4122-a97f-2777d2cba74c",
   "metadata": {
    "execution": {
     "iopub.execute_input": "2024-10-01T14:03:28.004970Z",
     "iopub.status.busy": "2024-10-01T14:03:28.003996Z",
     "iopub.status.idle": "2024-10-01T14:03:28.027941Z",
     "shell.execute_reply": "2024-10-01T14:03:28.025502Z",
     "shell.execute_reply.started": "2024-10-01T14:03:28.004895Z"
    }
   },
   "outputs": [],
   "source": [
    "prediction_df = qa_df[qa_df['dataset'] == 'test'][['uuid', 'question', 'qa_type', 'answer']].rename(columns={'answer': 'ref_answer'})\n",
    "\n",
    "def predict(prediction_df, vector_db, n_chunks):\n",
    "    prediction_df = prediction_df.copy()\n",
    "\n",
    "    answer_dict = {}\n",
    "\n",
    "    for idx, row in tqdm(prediction_df.iterrows(), total=len(prediction_df)):\n",
    "        uuid = row['uuid']\n",
    "        question = row['question']\n",
    "        answer, chunks = rag(vector_db, question, n_chunks=n_chunks)\n",
    "        assert len(chunks) <= n_chunks\n",
    "        answer_dict[question] = {\n",
    "            'uuid': uuid,\n",
    "            'ref_answer': row['ref_answer'],\n",
    "            'gen_answer': answer,\n",
    "            'chunks': chunks\n",
    "        }\n",
    "    prediction_df.loc[:, 'gen_answer'] = prediction_df['question'].apply(lambda q: answer_dict[q]['gen_answer'])\n",
    "    prediction_df.loc[:, 'chunks'] = prediction_df['question'].apply(lambda q: answer_dict[q]['chunks'])\n",
    "\n",
    "    return prediction_df"
   ]
  },
  {
   "cell_type": "code",
   "execution_count": 24,
   "id": "8656bd24-3e85-4018-96d2-b3607ce71895",
   "metadata": {
    "execution": {
     "iopub.execute_input": "2024-10-01T14:03:31.257894Z",
     "iopub.status.busy": "2024-10-01T14:03:31.257721Z",
     "iopub.status.idle": "2024-10-01T14:18:25.943041Z",
     "shell.execute_reply": "2024-10-01T14:18:25.942669Z",
     "shell.execute_reply.started": "2024-10-01T14:03:31.257880Z"
    }
   },
   "outputs": [
    {
     "data": {
      "application/vnd.jupyter.widget-view+json": {
       "model_id": "37bec2425bff412aa4c4a8435c8c4eca",
       "version_major": 2,
       "version_minor": 0
      },
      "text/plain": [
       "  0%|          | 0/100 [00:00<?, ?it/s]"
      ]
     },
     "metadata": {},
     "output_type": "display_data"
    }
   ],
   "source": [
    "pred_df = predict(prediction_df, hyde_vector_db, n_chunks=3)"
   ]
  },
  {
   "cell_type": "markdown",
   "id": "d8dee2e3-13d1-4cf4-8bfd-fb281710ddd9",
   "metadata": {},
   "source": [
    "# 评估"
   ]
  },
  {
   "cell_type": "code",
   "execution_count": 25,
   "id": "d7102b2a-c089-4272-8efb-ff9b32378a53",
   "metadata": {
    "execution": {
     "iopub.execute_input": "2024-10-01T14:19:32.548586Z",
     "iopub.status.busy": "2024-10-01T14:19:32.547819Z",
     "iopub.status.idle": "2024-10-01T14:19:32.601422Z",
     "shell.execute_reply": "2024-10-01T14:19:32.600595Z",
     "shell.execute_reply.started": "2024-10-01T14:19:32.548515Z"
    }
   },
   "outputs": [],
   "source": [
    "from langchain_openai import ChatOpenAI\n",
    "\n",
    "judge_llm = ChatOpenAI(\n",
    "    api_key=os.environ['LLM_API_KEY'],\n",
    "    base_url=os.environ['LLM_BASE_URL'],\n",
    "    model_name='qwen2-72b-instruct',\n",
    "    temperature=0\n",
    ")\n",
    "\n",
    "import time\n",
    "\n",
    "def evaluate(prediction_df):\n",
    "    \"\"\"\n",
    "    对预测结果进行打分\n",
    "    :param prediction_df: 预测结果，需要包含问题，参考答案，生成的答案，列名分别为question, ref_answer, gen_answer\n",
    "    :return 打分模型原始返回结果\n",
    "    \"\"\"\n",
    "    prompt_tmpl = \"\"\"\n",
    "你是一个经济学博士，现在我有一系列问题，有一个助手已经对这些问题进行了回答，你需要参照参考答案，评价这个助手的回答是否正确，仅回复“是”或“否”即可，不要带其他描述性内容或无关信息。\n",
    "问题：\n",
    "<question>\n",
    "{{question}}\n",
    "</question>\n",
    "\n",
    "参考答案：\n",
    "<ref_answer>\n",
    "{{ref_answer}}\n",
    "</ref_answer>\n",
    "\n",
    "助手回答：\n",
    "<gen_answer>\n",
    "{{gen_answer}}\n",
    "</gen_answer>\n",
    "请评价：\n",
    "    \"\"\"\n",
    "    results = []\n",
    "\n",
    "    for _, row in tqdm(prediction_df.iterrows(), total=len(prediction_df)):\n",
    "        question = row['question']\n",
    "        ref_answer = row['ref_answer']\n",
    "        gen_answer = row['gen_answer']\n",
    "\n",
    "        prompt = prompt_tmpl.replace('{{question}}', question).replace('{{ref_answer}}', str(ref_answer)).replace('{{gen_answer}}', gen_answer).strip()\n",
    "        result = judge_llm.invoke(prompt).content\n",
    "        results.append(result)\n",
    "\n",
    "        time.sleep(1)\n",
    "    return results"
   ]
  },
  {
   "cell_type": "code",
   "execution_count": 26,
   "id": "609e294a-50c2-43d2-8ffd-1ef5061bddf3",
   "metadata": {
    "execution": {
     "iopub.execute_input": "2024-10-01T14:19:33.174058Z",
     "iopub.status.busy": "2024-10-01T14:19:33.173300Z",
     "iopub.status.idle": "2024-10-01T14:22:07.013000Z",
     "shell.execute_reply": "2024-10-01T14:22:07.012553Z",
     "shell.execute_reply.started": "2024-10-01T14:19:33.173986Z"
    }
   },
   "outputs": [
    {
     "data": {
      "application/vnd.jupyter.widget-view+json": {
       "model_id": "2d2ac3da121f4d1fb7e46f9b2a464bc8",
       "version_major": 2,
       "version_minor": 0
      },
      "text/plain": [
       "  0%|          | 0/100 [00:00<?, ?it/s]"
      ]
     },
     "metadata": {},
     "output_type": "display_data"
    }
   ],
   "source": [
    "pred_df['raw_score'] = evaluate(pred_df)"
   ]
  },
  {
   "cell_type": "code",
   "execution_count": 27,
   "id": "849e5836-f8c0-4ddc-b794-92ea27cefcc2",
   "metadata": {
    "execution": {
     "iopub.execute_input": "2024-10-01T14:22:22.662626Z",
     "iopub.status.busy": "2024-10-01T14:22:22.661868Z",
     "iopub.status.idle": "2024-10-01T14:22:22.668081Z",
     "shell.execute_reply": "2024-10-01T14:22:22.667752Z",
     "shell.execute_reply.started": "2024-10-01T14:22:22.662556Z"
    }
   },
   "outputs": [
    {
     "data": {
      "text/plain": [
       "array(['是', '否'], dtype=object)"
      ]
     },
     "execution_count": 27,
     "metadata": {},
     "output_type": "execute_result"
    }
   ],
   "source": [
    "pred_df['raw_score'].unique()"
   ]
  },
  {
   "cell_type": "code",
   "execution_count": 28,
   "id": "5ffc1fde-802f-48cc-af3c-4ecc021cad07",
   "metadata": {
    "execution": {
     "iopub.execute_input": "2024-10-01T14:22:23.362175Z",
     "iopub.status.busy": "2024-10-01T14:22:23.361621Z",
     "iopub.status.idle": "2024-10-01T14:22:23.367436Z",
     "shell.execute_reply": "2024-10-01T14:22:23.366896Z",
     "shell.execute_reply.started": "2024-10-01T14:22:23.362122Z"
    }
   },
   "outputs": [],
   "source": [
    "pred_df['score'] = (pred_df['raw_score'] == '是').astype(int)"
   ]
  },
  {
   "cell_type": "code",
   "execution_count": 29,
   "id": "cb8f43a9-9919-46bd-9567-6ec981406828",
   "metadata": {
    "execution": {
     "iopub.execute_input": "2024-10-01T14:22:24.283005Z",
     "iopub.status.busy": "2024-10-01T14:22:24.282800Z",
     "iopub.status.idle": "2024-10-01T14:22:24.286338Z",
     "shell.execute_reply": "2024-10-01T14:22:24.286000Z",
     "shell.execute_reply.started": "2024-10-01T14:22:24.282990Z"
    }
   },
   "outputs": [
    {
     "data": {
      "text/plain": [
       "0.67"
      ]
     },
     "execution_count": 29,
     "metadata": {},
     "output_type": "execute_result"
    }
   ],
   "source": [
    "pred_df['score'].mean()"
   ]
  },
  {
   "cell_type": "code",
   "execution_count": null,
   "id": "7e0bf14f-842a-4c34-94c6-791102bb81d4",
   "metadata": {},
   "outputs": [],
   "source": []
  }
 ],
 "metadata": {
  "kernelspec": {
   "display_name": "gold-yolo",
   "language": "python",
   "name": "python3"
  },
  "language_info": {
   "codemirror_mode": {
    "name": "ipython",
    "version": 3
   },
   "file_extension": ".py",
   "mimetype": "text/x-python",
   "name": "python",
   "nbconvert_exporter": "python",
   "pygments_lexer": "ipython3",
   "version": "3.8.17"
  }
 },
 "nbformat": 4,
 "nbformat_minor": 5
}
